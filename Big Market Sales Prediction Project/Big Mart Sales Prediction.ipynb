{
 "cells": [
  {
   "cell_type": "markdown",
   "metadata": {},
   "source": [
    "# Analytics Vidhya Data Science Competition"
   ]
  },
  {
   "cell_type": "markdown",
   "metadata": {},
   "source": [
    "# Problem\n",
    "\n",
    "The data scientists at BigMart have collected 2013 sales data for 1559 products across 10 stores in different cities. Also, certain attributes of each product and store have been defined. The aim is to build a predictive model and find out the sales of each product at a particular store.\n",
    "\n",
    "Using this model, BigMart will try to understand the properties of products and stores which play a key role in increasing sales.\n",
    " \n",
    "Please note that the data may have missing values as some stores might not report all the data due to technical glitches. Hence, it will be required to treat them accordingly."
   ]
  },
  {
   "cell_type": "markdown",
   "metadata": {},
   "source": [
    "# Data\n",
    "\n",
    "<img src='big mart data descrip.JPG'>"
   ]
  },
  {
   "cell_type": "code",
   "execution_count": 1,
   "metadata": {
    "collapsed": true,
    "scrolled": true
   },
   "outputs": [],
   "source": [
    "import pandas as pd\n",
    "import numpy as np\n",
    "\n",
    "import matplotlib\n",
    "import matplotlib.pyplot as plt\n",
    "import seaborn as sns\n",
    "%matplotlib inline\n",
    "\n",
    "from scipy.stats import skew, norm\n",
    "\n",
    "from sklearn.preprocessing import StandardScaler\n",
    "from sklearn.decomposition import PCA\n",
    "\n",
    "from sklearn.model_selection import cross_val_score, train_test_split\n",
    "\n",
    "from sklearn.feature_selection import RFE\n",
    "from sklearn.linear_model import LinearRegression, RidgeCV, LassoCV, ElasticNetCV\n",
    "\n",
    "from sklearn.metrics import mean_squared_error, make_scorer"
   ]
  },
  {
   "cell_type": "code",
   "execution_count": 2,
   "metadata": {
    "collapsed": true
   },
   "outputs": [],
   "source": [
    "train = pd.read_csv('big mart train.csv')\n",
    "test = pd.read_csv('big mart test.csv')"
   ]
  },
  {
   "cell_type": "code",
   "execution_count": 3,
   "metadata": {
    "scrolled": true
   },
   "outputs": [
    {
     "data": {
      "text/html": [
       "<div>\n",
       "<style>\n",
       "    .dataframe thead tr:only-child th {\n",
       "        text-align: right;\n",
       "    }\n",
       "\n",
       "    .dataframe thead th {\n",
       "        text-align: left;\n",
       "    }\n",
       "\n",
       "    .dataframe tbody tr th {\n",
       "        vertical-align: top;\n",
       "    }\n",
       "</style>\n",
       "<table border=\"1\" class=\"dataframe\">\n",
       "  <thead>\n",
       "    <tr style=\"text-align: right;\">\n",
       "      <th></th>\n",
       "      <th>Item_Identifier</th>\n",
       "      <th>Item_Weight</th>\n",
       "      <th>Item_Fat_Content</th>\n",
       "      <th>Item_Visibility</th>\n",
       "      <th>Item_Type</th>\n",
       "      <th>Item_MRP</th>\n",
       "      <th>Outlet_Identifier</th>\n",
       "      <th>Outlet_Establishment_Year</th>\n",
       "      <th>Outlet_Size</th>\n",
       "      <th>Outlet_Location_Type</th>\n",
       "      <th>Outlet_Type</th>\n",
       "      <th>Item_Outlet_Sales</th>\n",
       "    </tr>\n",
       "  </thead>\n",
       "  <tbody>\n",
       "    <tr>\n",
       "      <th>0</th>\n",
       "      <td>FDA15</td>\n",
       "      <td>9.30</td>\n",
       "      <td>Low Fat</td>\n",
       "      <td>0.016047</td>\n",
       "      <td>Dairy</td>\n",
       "      <td>249.8092</td>\n",
       "      <td>OUT049</td>\n",
       "      <td>1999</td>\n",
       "      <td>Medium</td>\n",
       "      <td>Tier 1</td>\n",
       "      <td>Supermarket Type1</td>\n",
       "      <td>3735.1380</td>\n",
       "    </tr>\n",
       "    <tr>\n",
       "      <th>1</th>\n",
       "      <td>DRC01</td>\n",
       "      <td>5.92</td>\n",
       "      <td>Regular</td>\n",
       "      <td>0.019278</td>\n",
       "      <td>Soft Drinks</td>\n",
       "      <td>48.2692</td>\n",
       "      <td>OUT018</td>\n",
       "      <td>2009</td>\n",
       "      <td>Medium</td>\n",
       "      <td>Tier 3</td>\n",
       "      <td>Supermarket Type2</td>\n",
       "      <td>443.4228</td>\n",
       "    </tr>\n",
       "    <tr>\n",
       "      <th>2</th>\n",
       "      <td>FDN15</td>\n",
       "      <td>17.50</td>\n",
       "      <td>Low Fat</td>\n",
       "      <td>0.016760</td>\n",
       "      <td>Meat</td>\n",
       "      <td>141.6180</td>\n",
       "      <td>OUT049</td>\n",
       "      <td>1999</td>\n",
       "      <td>Medium</td>\n",
       "      <td>Tier 1</td>\n",
       "      <td>Supermarket Type1</td>\n",
       "      <td>2097.2700</td>\n",
       "    </tr>\n",
       "    <tr>\n",
       "      <th>3</th>\n",
       "      <td>FDX07</td>\n",
       "      <td>19.20</td>\n",
       "      <td>Regular</td>\n",
       "      <td>0.000000</td>\n",
       "      <td>Fruits and Vegetables</td>\n",
       "      <td>182.0950</td>\n",
       "      <td>OUT010</td>\n",
       "      <td>1998</td>\n",
       "      <td>NaN</td>\n",
       "      <td>Tier 3</td>\n",
       "      <td>Grocery Store</td>\n",
       "      <td>732.3800</td>\n",
       "    </tr>\n",
       "    <tr>\n",
       "      <th>4</th>\n",
       "      <td>NCD19</td>\n",
       "      <td>8.93</td>\n",
       "      <td>Low Fat</td>\n",
       "      <td>0.000000</td>\n",
       "      <td>Household</td>\n",
       "      <td>53.8614</td>\n",
       "      <td>OUT013</td>\n",
       "      <td>1987</td>\n",
       "      <td>High</td>\n",
       "      <td>Tier 3</td>\n",
       "      <td>Supermarket Type1</td>\n",
       "      <td>994.7052</td>\n",
       "    </tr>\n",
       "  </tbody>\n",
       "</table>\n",
       "</div>"
      ],
      "text/plain": [
       "  Item_Identifier  Item_Weight Item_Fat_Content  Item_Visibility  \\\n",
       "0           FDA15         9.30          Low Fat         0.016047   \n",
       "1           DRC01         5.92          Regular         0.019278   \n",
       "2           FDN15        17.50          Low Fat         0.016760   \n",
       "3           FDX07        19.20          Regular         0.000000   \n",
       "4           NCD19         8.93          Low Fat         0.000000   \n",
       "\n",
       "               Item_Type  Item_MRP Outlet_Identifier  \\\n",
       "0                  Dairy  249.8092            OUT049   \n",
       "1            Soft Drinks   48.2692            OUT018   \n",
       "2                   Meat  141.6180            OUT049   \n",
       "3  Fruits and Vegetables  182.0950            OUT010   \n",
       "4              Household   53.8614            OUT013   \n",
       "\n",
       "   Outlet_Establishment_Year Outlet_Size Outlet_Location_Type  \\\n",
       "0                       1999      Medium               Tier 1   \n",
       "1                       2009      Medium               Tier 3   \n",
       "2                       1999      Medium               Tier 1   \n",
       "3                       1998         NaN               Tier 3   \n",
       "4                       1987        High               Tier 3   \n",
       "\n",
       "         Outlet_Type  Item_Outlet_Sales  \n",
       "0  Supermarket Type1          3735.1380  \n",
       "1  Supermarket Type2           443.4228  \n",
       "2  Supermarket Type1          2097.2700  \n",
       "3      Grocery Store           732.3800  \n",
       "4  Supermarket Type1           994.7052  "
      ]
     },
     "execution_count": 3,
     "metadata": {},
     "output_type": "execute_result"
    }
   ],
   "source": [
    "train.head()"
   ]
  },
  {
   "cell_type": "code",
   "execution_count": 4,
   "metadata": {},
   "outputs": [
    {
     "data": {
      "text/plain": [
       "2181.2889135750365"
      ]
     },
     "execution_count": 4,
     "metadata": {},
     "output_type": "execute_result"
    }
   ],
   "source": [
    "train['Item_Outlet_Sales'].mean()"
   ]
  },
  {
   "cell_type": "code",
   "execution_count": 5,
   "metadata": {
    "scrolled": true
   },
   "outputs": [
    {
     "data": {
      "text/html": [
       "<div>\n",
       "<style>\n",
       "    .dataframe thead tr:only-child th {\n",
       "        text-align: right;\n",
       "    }\n",
       "\n",
       "    .dataframe thead th {\n",
       "        text-align: left;\n",
       "    }\n",
       "\n",
       "    .dataframe tbody tr th {\n",
       "        vertical-align: top;\n",
       "    }\n",
       "</style>\n",
       "<table border=\"1\" class=\"dataframe\">\n",
       "  <thead>\n",
       "    <tr style=\"text-align: right;\">\n",
       "      <th></th>\n",
       "      <th>Item_Identifier</th>\n",
       "      <th>Item_Weight</th>\n",
       "      <th>Item_Fat_Content</th>\n",
       "      <th>Item_Visibility</th>\n",
       "      <th>Item_Type</th>\n",
       "      <th>Item_MRP</th>\n",
       "      <th>Outlet_Identifier</th>\n",
       "      <th>Outlet_Establishment_Year</th>\n",
       "      <th>Outlet_Size</th>\n",
       "      <th>Outlet_Location_Type</th>\n",
       "      <th>Outlet_Type</th>\n",
       "    </tr>\n",
       "  </thead>\n",
       "  <tbody>\n",
       "    <tr>\n",
       "      <th>0</th>\n",
       "      <td>FDW58</td>\n",
       "      <td>20.750</td>\n",
       "      <td>Low Fat</td>\n",
       "      <td>0.007565</td>\n",
       "      <td>Snack Foods</td>\n",
       "      <td>107.8622</td>\n",
       "      <td>OUT049</td>\n",
       "      <td>1999</td>\n",
       "      <td>Medium</td>\n",
       "      <td>Tier 1</td>\n",
       "      <td>Supermarket Type1</td>\n",
       "    </tr>\n",
       "    <tr>\n",
       "      <th>1</th>\n",
       "      <td>FDW14</td>\n",
       "      <td>8.300</td>\n",
       "      <td>reg</td>\n",
       "      <td>0.038428</td>\n",
       "      <td>Dairy</td>\n",
       "      <td>87.3198</td>\n",
       "      <td>OUT017</td>\n",
       "      <td>2007</td>\n",
       "      <td>NaN</td>\n",
       "      <td>Tier 2</td>\n",
       "      <td>Supermarket Type1</td>\n",
       "    </tr>\n",
       "    <tr>\n",
       "      <th>2</th>\n",
       "      <td>NCN55</td>\n",
       "      <td>14.600</td>\n",
       "      <td>Low Fat</td>\n",
       "      <td>0.099575</td>\n",
       "      <td>Others</td>\n",
       "      <td>241.7538</td>\n",
       "      <td>OUT010</td>\n",
       "      <td>1998</td>\n",
       "      <td>NaN</td>\n",
       "      <td>Tier 3</td>\n",
       "      <td>Grocery Store</td>\n",
       "    </tr>\n",
       "    <tr>\n",
       "      <th>3</th>\n",
       "      <td>FDQ58</td>\n",
       "      <td>7.315</td>\n",
       "      <td>Low Fat</td>\n",
       "      <td>0.015388</td>\n",
       "      <td>Snack Foods</td>\n",
       "      <td>155.0340</td>\n",
       "      <td>OUT017</td>\n",
       "      <td>2007</td>\n",
       "      <td>NaN</td>\n",
       "      <td>Tier 2</td>\n",
       "      <td>Supermarket Type1</td>\n",
       "    </tr>\n",
       "    <tr>\n",
       "      <th>4</th>\n",
       "      <td>FDY38</td>\n",
       "      <td>NaN</td>\n",
       "      <td>Regular</td>\n",
       "      <td>0.118599</td>\n",
       "      <td>Dairy</td>\n",
       "      <td>234.2300</td>\n",
       "      <td>OUT027</td>\n",
       "      <td>1985</td>\n",
       "      <td>Medium</td>\n",
       "      <td>Tier 3</td>\n",
       "      <td>Supermarket Type3</td>\n",
       "    </tr>\n",
       "  </tbody>\n",
       "</table>\n",
       "</div>"
      ],
      "text/plain": [
       "  Item_Identifier  Item_Weight Item_Fat_Content  Item_Visibility    Item_Type  \\\n",
       "0           FDW58       20.750          Low Fat         0.007565  Snack Foods   \n",
       "1           FDW14        8.300              reg         0.038428        Dairy   \n",
       "2           NCN55       14.600          Low Fat         0.099575       Others   \n",
       "3           FDQ58        7.315          Low Fat         0.015388  Snack Foods   \n",
       "4           FDY38          NaN          Regular         0.118599        Dairy   \n",
       "\n",
       "   Item_MRP Outlet_Identifier  Outlet_Establishment_Year Outlet_Size  \\\n",
       "0  107.8622            OUT049                       1999      Medium   \n",
       "1   87.3198            OUT017                       2007         NaN   \n",
       "2  241.7538            OUT010                       1998         NaN   \n",
       "3  155.0340            OUT017                       2007         NaN   \n",
       "4  234.2300            OUT027                       1985      Medium   \n",
       "\n",
       "  Outlet_Location_Type        Outlet_Type  \n",
       "0               Tier 1  Supermarket Type1  \n",
       "1               Tier 2  Supermarket Type1  \n",
       "2               Tier 3      Grocery Store  \n",
       "3               Tier 2  Supermarket Type1  \n",
       "4               Tier 3  Supermarket Type3  "
      ]
     },
     "execution_count": 5,
     "metadata": {},
     "output_type": "execute_result"
    }
   ],
   "source": [
    "test.head()"
   ]
  },
  {
   "cell_type": "markdown",
   "metadata": {},
   "source": [
    "## Filling in Missing Data"
   ]
  },
  {
   "cell_type": "code",
   "execution_count": 6,
   "metadata": {
    "scrolled": false
   },
   "outputs": [
    {
     "name": "stdout",
     "output_type": "stream",
     "text": [
      "<class 'pandas.core.frame.DataFrame'>\n",
      "RangeIndex: 8523 entries, 0 to 8522\n",
      "Data columns (total 12 columns):\n",
      "Item_Identifier              8523 non-null object\n",
      "Item_Weight                  7060 non-null float64\n",
      "Item_Fat_Content             8523 non-null object\n",
      "Item_Visibility              8523 non-null float64\n",
      "Item_Type                    8523 non-null object\n",
      "Item_MRP                     8523 non-null float64\n",
      "Outlet_Identifier            8523 non-null object\n",
      "Outlet_Establishment_Year    8523 non-null int64\n",
      "Outlet_Size                  6113 non-null object\n",
      "Outlet_Location_Type         8523 non-null object\n",
      "Outlet_Type                  8523 non-null object\n",
      "Item_Outlet_Sales            8523 non-null float64\n",
      "dtypes: float64(4), int64(1), object(7)\n",
      "memory usage: 799.1+ KB\n"
     ]
    }
   ],
   "source": [
    "# checking any aberrances in datatypes and null values\n",
    "# Some values in weight and outlet size columns are missing\n",
    "\n",
    "train.info()"
   ]
  },
  {
   "cell_type": "code",
   "execution_count": 7,
   "metadata": {
    "collapsed": true,
    "scrolled": true
   },
   "outputs": [],
   "source": [
    "# Same products will have same weights. Using this fact, we can fill in null values in the Item_Weight column.\n",
    "\n",
    "train['Item_Weight']=\\\n",
    "train.groupby(['Item_Identifier'])['Item_Weight'].ffill().bfill()"
   ]
  },
  {
   "cell_type": "code",
   "execution_count": 8,
   "metadata": {
    "collapsed": true
   },
   "outputs": [],
   "source": [
    "# Having the same outlet idenitfiers means the outlets have same outlet size. \n",
    "# Using this fact, we can fill in null values in the Outlet_Size column.\n",
    "\n",
    "train['Outlet_Size'] = train.groupby('Outlet_Identifier')['Outlet_Size'].ffill().bfill()"
   ]
  },
  {
   "cell_type": "code",
   "execution_count": 9,
   "metadata": {
    "scrolled": true
   },
   "outputs": [
    {
     "name": "stdout",
     "output_type": "stream",
     "text": [
      "<class 'pandas.core.frame.DataFrame'>\n",
      "RangeIndex: 8523 entries, 0 to 8522\n",
      "Data columns (total 12 columns):\n",
      "Item_Identifier              8523 non-null object\n",
      "Item_Weight                  8523 non-null float64\n",
      "Item_Fat_Content             8523 non-null object\n",
      "Item_Visibility              8523 non-null float64\n",
      "Item_Type                    8523 non-null object\n",
      "Item_MRP                     8523 non-null float64\n",
      "Outlet_Identifier            8523 non-null object\n",
      "Outlet_Establishment_Year    8523 non-null int64\n",
      "Outlet_Size                  8523 non-null object\n",
      "Outlet_Location_Type         8523 non-null object\n",
      "Outlet_Type                  8523 non-null object\n",
      "Item_Outlet_Sales            8523 non-null float64\n",
      "dtypes: float64(4), int64(1), object(7)\n",
      "memory usage: 799.1+ KB\n"
     ]
    }
   ],
   "source": [
    "train.info()\n",
    "# We don't have any null values left :D"
   ]
  },
  {
   "cell_type": "markdown",
   "metadata": {},
   "source": [
    "## Fixing Weird Labels"
   ]
  },
  {
   "cell_type": "markdown",
   "metadata": {},
   "source": [
    "Categorical Features\n",
    "\n",
    "Ordinal\n",
    "- Item_Fat_Content : Regular, Low ...\n",
    "- Outlet_Size: Medium , High...\n",
    "\n",
    "Nominal\n",
    "- Item_Type\n",
    "- Outlet_Location_Type\n",
    "- Outlet_type"
   ]
  },
  {
   "cell_type": "code",
   "execution_count": 10,
   "metadata": {
    "collapsed": true
   },
   "outputs": [],
   "source": [
    "# Since item_identifier is not a feature, we'll use that column as our index\n",
    "train.set_index(['Item_Identifier', 'Outlet_Identifier'], inplace=True)"
   ]
  },
  {
   "cell_type": "code",
   "execution_count": 11,
   "metadata": {},
   "outputs": [
    {
     "data": {
      "text/plain": [
       "Low Fat    5089\n",
       "Regular    2889\n",
       "LF          316\n",
       "reg         117\n",
       "low fat     112\n",
       "Name: Item_Fat_Content, dtype: int64"
      ]
     },
     "execution_count": 11,
     "metadata": {},
     "output_type": "execute_result"
    }
   ],
   "source": [
    "# Have inconsistent labels. Need to make it uniform.\n",
    "\n",
    "train['Item_Fat_Content'].value_counts()"
   ]
  },
  {
   "cell_type": "code",
   "execution_count": 12,
   "metadata": {
    "collapsed": true
   },
   "outputs": [],
   "source": [
    "train['Item_Fat_Content'] = train['Item_Fat_Content'].str.replace('LF', 'Low Fat')\n",
    "train['Item_Fat_Content'] = train['Item_Fat_Content'].str.replace('reg', 'Regular')\n",
    "train['Item_Fat_Content'] = train['Item_Fat_Content'].str.replace('low fat', 'Low Fat')"
   ]
  },
  {
   "cell_type": "code",
   "execution_count": 13,
   "metadata": {},
   "outputs": [
    {
     "data": {
      "text/plain": [
       "Medium    3940\n",
       "Small     3290\n",
       "High      1293\n",
       "Name: Outlet_Size, dtype: int64"
      ]
     },
     "execution_count": 13,
     "metadata": {},
     "output_type": "execute_result"
    }
   ],
   "source": [
    "# 3 categories. No inconsistent labels. But unclear naming found. Let's change the label \"high\" to Big.\n",
    "train['Outlet_Size'].value_counts()"
   ]
  },
  {
   "cell_type": "code",
   "execution_count": 14,
   "metadata": {
    "collapsed": true
   },
   "outputs": [],
   "source": [
    "train['Outlet_Size'] = train['Outlet_Size'].str.replace('High', 'Big')"
   ]
  },
  {
   "cell_type": "code",
   "execution_count": 15,
   "metadata": {
    "scrolled": true
   },
   "outputs": [
    {
     "data": {
      "text/plain": [
       "Fruits and Vegetables    1232\n",
       "Snack Foods              1200\n",
       "Household                 910\n",
       "Frozen Foods              856\n",
       "Dairy                     682\n",
       "Canned                    649\n",
       "Baking Goods              648\n",
       "Health and Hygiene        520\n",
       "Soft Drinks               445\n",
       "Meat                      425\n",
       "Breads                    251\n",
       "Hard Drinks               214\n",
       "Others                    169\n",
       "Starchy Foods             148\n",
       "Breakfast                 110\n",
       "Seafood                    64\n",
       "Name: Item_Type, dtype: int64"
      ]
     },
     "execution_count": 15,
     "metadata": {},
     "output_type": "execute_result"
    }
   ],
   "source": [
    "# No weird labels\n",
    "train['Item_Type'].value_counts()"
   ]
  },
  {
   "cell_type": "code",
   "execution_count": 16,
   "metadata": {},
   "outputs": [
    {
     "data": {
      "text/plain": [
       "1985    1463\n",
       "1987     932\n",
       "1999     930\n",
       "1997     930\n",
       "2004     930\n",
       "2002     929\n",
       "2009     928\n",
       "2007     926\n",
       "1998     555\n",
       "Name: Outlet_Establishment_Year, dtype: int64"
      ]
     },
     "execution_count": 16,
     "metadata": {},
     "output_type": "execute_result"
    }
   ],
   "source": [
    "# No weird labels\n",
    "train['Outlet_Establishment_Year'].value_counts()"
   ]
  },
  {
   "cell_type": "code",
   "execution_count": 17,
   "metadata": {},
   "outputs": [
    {
     "data": {
      "text/plain": [
       "Tier 3    3350\n",
       "Tier 2    2785\n",
       "Tier 1    2388\n",
       "Name: Outlet_Location_Type, dtype: int64"
      ]
     },
     "execution_count": 17,
     "metadata": {},
     "output_type": "execute_result"
    }
   ],
   "source": [
    "# No weird labels\n",
    "train['Outlet_Location_Type'].value_counts()"
   ]
  },
  {
   "cell_type": "code",
   "execution_count": 18,
   "metadata": {
    "scrolled": true
   },
   "outputs": [
    {
     "data": {
      "text/plain": [
       "Supermarket Type1    5577\n",
       "Grocery Store        1083\n",
       "Supermarket Type3     935\n",
       "Supermarket Type2     928\n",
       "Name: Outlet_Type, dtype: int64"
      ]
     },
     "execution_count": 18,
     "metadata": {},
     "output_type": "execute_result"
    }
   ],
   "source": [
    "# No weird labels\n",
    "train['Outlet_Type'].value_counts()"
   ]
  },
  {
   "cell_type": "markdown",
   "metadata": {},
   "source": [
    "## Exploration through Visualization"
   ]
  },
  {
   "cell_type": "markdown",
   "metadata": {},
   "source": [
    "### Visualization of Numerical Features"
   ]
  },
  {
   "cell_type": "code",
   "execution_count": 19,
   "metadata": {},
   "outputs": [
    {
     "data": {
      "text/plain": [
       "<matplotlib.axes._subplots.AxesSubplot at 0x2725c2bd278>"
      ]
     },
     "execution_count": 19,
     "metadata": {},
     "output_type": "execute_result"
    },
    {
     "data": {
      "image/png": "[encoded data removed]",
      "text/plain": [
       "<matplotlib.figure.Figure at 0x2725cba87f0>"
      ]
     },
     "metadata": {},
     "output_type": "display_data"
    }
   ],
   "source": [
    "train.plot.scatter('Item_Weight', 'Item_Outlet_Sales')"
   ]
  },
  {
   "cell_type": "code",
   "execution_count": 20,
   "metadata": {
    "scrolled": true
   },
   "outputs": [
    {
     "data": {
      "text/plain": [
       "<matplotlib.axes._subplots.AxesSubplot at 0x2725c58beb8>"
      ]
     },
     "execution_count": 20,
     "metadata": {},
     "output_type": "execute_result"
    },
    {
     "data": {
      "image/png": "[encoded data removed]",
      "text/plain": [
       "<matplotlib.figure.Figure at 0x2725c60f240>"
      ]
     },
     "metadata": {},
     "output_type": "display_data"
    }
   ],
   "source": [
    "train.plot.scatter('Item_Visibility', 'Item_Outlet_Sales')"
   ]
  },
  {
   "cell_type": "code",
   "execution_count": 21,
   "metadata": {},
   "outputs": [
    {
     "data": {
      "text/plain": [
       "<matplotlib.axes._subplots.AxesSubplot at 0x2725c6e30b8>"
      ]
     },
     "execution_count": 21,
     "metadata": {},
     "output_type": "execute_result"
    },
    {
     "data": {
      "image/png": "[encoded data removed]",
      "text/plain": [
       "<matplotlib.figure.Figure at 0x2725c6f59b0>"
      ]
     },
     "metadata": {},
     "output_type": "display_data"
    }
   ],
   "source": [
    "train.plot.scatter('Item_MRP', 'Item_Outlet_Sales')"
   ]
  },
  {
   "cell_type": "markdown",
   "metadata": {},
   "source": [
    "### Visualization of Categorical Features"
   ]
  },
  {
   "cell_type": "code",
   "execution_count": 22,
   "metadata": {},
   "outputs": [
    {
     "data": {
      "text/plain": [
       "13.0536748"
      ]
     },
     "execution_count": 22,
     "metadata": {},
     "output_type": "execute_result"
    }
   ],
   "source": [
    "# To estimate the figsize when drawing graphs\n",
    "(train['Item_Outlet_Sales'].max() - train['Item_Outlet_Sales'].min())/1000"
   ]
  },
  {
   "cell_type": "code",
   "execution_count": 23,
   "metadata": {},
   "outputs": [
    {
     "name": "stdout",
     "output_type": "stream",
     "text": [
      "['Item_Fat_Content' 'Item_Type' 'Outlet_Size' 'Outlet_Location_Type'\n",
      " 'Outlet_Type']\n"
     ]
    }
   ],
   "source": [
    "print(train.select_dtypes(include=['object']).columns.values)"
   ]
  },
  {
   "cell_type": "markdown",
   "metadata": {},
   "source": [
    "#### Item_Fat_Content"
   ]
  },
  {
   "cell_type": "code",
   "execution_count": 24,
   "metadata": {},
   "outputs": [
    {
     "data": {
      "text/plain": [
       "Low Fat    5517\n",
       "Regular    3006\n",
       "Name: Item_Fat_Content, dtype: int64"
      ]
     },
     "execution_count": 24,
     "metadata": {},
     "output_type": "execute_result"
    }
   ],
   "source": [
    "train['Item_Fat_Content'].value_counts()"
   ]
  },
  {
   "cell_type": "code",
   "execution_count": 25,
   "metadata": {
    "scrolled": true
   },
   "outputs": [
    {
     "data": {
      "text/plain": [
       "<matplotlib.axes._subplots.AxesSubplot at 0x2725c6089b0>"
      ]
     },
     "execution_count": 25,
     "metadata": {},
     "output_type": "execute_result"
    },
    {
     "data": {
      "image/png": "[encoded data removed]",
      "text/plain": [
       "<matplotlib.figure.Figure at 0x2725c70ce10>"
      ]
     },
     "metadata": {},
     "output_type": "display_data"
    }
   ],
   "source": [
    "plt.figure(figsize = (10, 10))\n",
    "sns.boxplot(x = 'Item_Fat_Content', y = 'Item_Outlet_Sales',  data = train)\n",
    "#plt.xticks(rotation=45)"
   ]
  },
  {
   "cell_type": "markdown",
   "metadata": {},
   "source": [
    "#### Item_Type"
   ]
  },
  {
   "cell_type": "code",
   "execution_count": 26,
   "metadata": {},
   "outputs": [
    {
     "data": {
      "text/plain": [
       "16"
      ]
     },
     "execution_count": 26,
     "metadata": {},
     "output_type": "execute_result"
    }
   ],
   "source": [
    "len(train['Item_Type'].value_counts().index)"
   ]
  },
  {
   "cell_type": "code",
   "execution_count": 27,
   "metadata": {
    "scrolled": true
   },
   "outputs": [
    {
     "data": {
      "text/plain": [
       "(array([ 0,  1,  2,  3,  4,  5,  6,  7,  8,  9, 10, 11, 12, 13, 14, 15]),\n",
       " <a list of 16 Text xticklabel objects>)"
      ]
     },
     "execution_count": 27,
     "metadata": {},
     "output_type": "execute_result"
    },
    {
     "data": {
      "image/png": "[encoded data removed]",
      "text/plain": [
       "<matplotlib.figure.Figure at 0x2725c69fb00>"
      ]
     },
     "metadata": {},
     "output_type": "display_data"
    }
   ],
   "source": [
    "plt.figure(figsize = (17, 10))\n",
    "sns.boxplot(x = 'Item_Type', y = 'Item_Outlet_Sales',  data = train)\n",
    "plt.xticks(rotation=45)"
   ]
  },
  {
   "cell_type": "code",
   "execution_count": 28,
   "metadata": {
    "scrolled": true
   },
   "outputs": [
    {
     "data": {
      "text/plain": [
       "(array([0, 1, 2]), <a list of 3 Text xticklabel objects>)"
      ]
     },
     "execution_count": 28,
     "metadata": {},
     "output_type": "execute_result"
    },
    {
     "data": {
      "image/png": "[encoded data removed]",
      "text/plain": [
       "<matplotlib.figure.Figure at 0x2725c7d1160>"
      ]
     },
     "metadata": {},
     "output_type": "display_data"
    }
   ],
   "source": [
    "plt.figure(figsize = (10, 10))\n",
    "sns.boxplot(x = 'Outlet_Size', y = 'Item_Outlet_Sales',  data = train)\n",
    "plt.xticks(rotation=45)"
   ]
  },
  {
   "cell_type": "code",
   "execution_count": 29,
   "metadata": {
    "scrolled": true
   },
   "outputs": [
    {
     "data": {
      "text/plain": [
       "(array([0, 1, 2]), <a list of 3 Text xticklabel objects>)"
      ]
     },
     "execution_count": 29,
     "metadata": {},
     "output_type": "execute_result"
    },
    {
     "data": {
      "image/png": "[encoded data removed]",
      "text/plain": [
       "<matplotlib.figure.Figure at 0x2725c9bf828>"
      ]
     },
     "metadata": {},
     "output_type": "display_data"
    }
   ],
   "source": [
    "plt.figure(figsize = (10, 10))\n",
    "sns.boxplot(x = 'Outlet_Location_Type', y = 'Item_Outlet_Sales',  data = train)\n",
    "plt.xticks(rotation=45)"
   ]
  },
  {
   "cell_type": "code",
   "execution_count": 30,
   "metadata": {
    "scrolled": true
   },
   "outputs": [
    {
     "data": {
      "text/plain": [
       "(array([0, 1, 2, 3]), <a list of 4 Text xticklabel objects>)"
      ]
     },
     "execution_count": 30,
     "metadata": {},
     "output_type": "execute_result"
    },
    {
     "data": {
      "image/png": "[encoded data removed]",
      "text/plain": [
       "<matplotlib.figure.Figure at 0x2725cf4bcc0>"
      ]
     },
     "metadata": {},
     "output_type": "display_data"
    }
   ],
   "source": [
    "plt.figure(figsize = (10, 10))\n",
    "sns.boxplot(x = 'Outlet_Type', y = 'Item_Outlet_Sales',  data = train)\n",
    "plt.xticks(rotation=45)"
   ]
  },
  {
   "cell_type": "markdown",
   "metadata": {},
   "source": [
    "### Correlation Maxtrix"
   ]
  },
  {
   "cell_type": "code",
   "execution_count": 31,
   "metadata": {},
   "outputs": [
    {
     "data": {
      "text/html": [
       "<div>\n",
       "<style>\n",
       "    .dataframe thead tr:only-child th {\n",
       "        text-align: right;\n",
       "    }\n",
       "\n",
       "    .dataframe thead th {\n",
       "        text-align: left;\n",
       "    }\n",
       "\n",
       "    .dataframe tbody tr th {\n",
       "        vertical-align: top;\n",
       "    }\n",
       "</style>\n",
       "<table border=\"1\" class=\"dataframe\">\n",
       "  <thead>\n",
       "    <tr style=\"text-align: right;\">\n",
       "      <th></th>\n",
       "      <th>Item_Weight</th>\n",
       "      <th>Item_Visibility</th>\n",
       "      <th>Item_MRP</th>\n",
       "      <th>Outlet_Establishment_Year</th>\n",
       "      <th>Item_Outlet_Sales</th>\n",
       "    </tr>\n",
       "  </thead>\n",
       "  <tbody>\n",
       "    <tr>\n",
       "      <th>Item_Weight</th>\n",
       "      <td>1.000000</td>\n",
       "      <td>-0.008834</td>\n",
       "      <td>0.024257</td>\n",
       "      <td>-0.017002</td>\n",
       "      <td>0.010643</td>\n",
       "    </tr>\n",
       "    <tr>\n",
       "      <th>Item_Visibility</th>\n",
       "      <td>-0.008834</td>\n",
       "      <td>1.000000</td>\n",
       "      <td>-0.001315</td>\n",
       "      <td>-0.074834</td>\n",
       "      <td>-0.128625</td>\n",
       "    </tr>\n",
       "    <tr>\n",
       "      <th>Item_MRP</th>\n",
       "      <td>0.024257</td>\n",
       "      <td>-0.001315</td>\n",
       "      <td>1.000000</td>\n",
       "      <td>0.005020</td>\n",
       "      <td>0.567574</td>\n",
       "    </tr>\n",
       "    <tr>\n",
       "      <th>Outlet_Establishment_Year</th>\n",
       "      <td>-0.017002</td>\n",
       "      <td>-0.074834</td>\n",
       "      <td>0.005020</td>\n",
       "      <td>1.000000</td>\n",
       "      <td>-0.049135</td>\n",
       "    </tr>\n",
       "    <tr>\n",
       "      <th>Item_Outlet_Sales</th>\n",
       "      <td>0.010643</td>\n",
       "      <td>-0.128625</td>\n",
       "      <td>0.567574</td>\n",
       "      <td>-0.049135</td>\n",
       "      <td>1.000000</td>\n",
       "    </tr>\n",
       "  </tbody>\n",
       "</table>\n",
       "</div>"
      ],
      "text/plain": [
       "                           Item_Weight  Item_Visibility  Item_MRP  \\\n",
       "Item_Weight                   1.000000        -0.008834  0.024257   \n",
       "Item_Visibility              -0.008834         1.000000 -0.001315   \n",
       "Item_MRP                      0.024257        -0.001315  1.000000   \n",
       "Outlet_Establishment_Year    -0.017002        -0.074834  0.005020   \n",
       "Item_Outlet_Sales             0.010643        -0.128625  0.567574   \n",
       "\n",
       "                           Outlet_Establishment_Year  Item_Outlet_Sales  \n",
       "Item_Weight                                -0.017002           0.010643  \n",
       "Item_Visibility                            -0.074834          -0.128625  \n",
       "Item_MRP                                    0.005020           0.567574  \n",
       "Outlet_Establishment_Year                   1.000000          -0.049135  \n",
       "Item_Outlet_Sales                          -0.049135           1.000000  "
      ]
     },
     "execution_count": 31,
     "metadata": {},
     "output_type": "execute_result"
    }
   ],
   "source": [
    "corrmat = train.corr()\n",
    "\n",
    "corrmat"
   ]
  },
  {
   "cell_type": "code",
   "execution_count": 32,
   "metadata": {
    "scrolled": true
   },
   "outputs": [
    {
     "data": {
      "text/plain": [
       "<matplotlib.axes._subplots.AxesSubplot at 0x2725ced8f60>"
      ]
     },
     "execution_count": 32,
     "metadata": {},
     "output_type": "execute_result"
    },
    {
     "data": {
      "image/png": "[encoded data removed]",
      "text/plain": [
       "<matplotlib.figure.Figure at 0x2725ced8400>"
      ]
     },
     "metadata": {},
     "output_type": "display_data"
    }
   ],
   "source": [
    "k = 5 # number of variables for heatmap\n",
    "\n",
    "cols = corrmat.nlargest(k, 'Item_Outlet_Sales')['Item_Outlet_Sales'].index\n",
    "cm = np.corrcoef(train[cols].values.T)\n",
    "\n",
    "sns.set(font_scale=1.25)\n",
    "\n",
    "sns.heatmap(cm, cbar=True, annot=True, square=True, fmt='.2f', annot_kws={'size': 10}, yticklabels=cols.values, xticklabels=cols.values)"
   ]
  },
  {
   "cell_type": "markdown",
   "metadata": {},
   "source": [
    "## Removing Outliers"
   ]
  },
  {
   "cell_type": "markdown",
   "metadata": {},
   "source": [
    "##### From the exploration above, we can assume that sales that are over approximately 11000 can be considered as outliers and should be removed from the dataset"
   ]
  },
  {
   "cell_type": "code",
   "execution_count": 33,
   "metadata": {
    "collapsed": true
   },
   "outputs": [],
   "source": [
    "train = train[train.Item_Outlet_Sales <= 10000]"
   ]
  },
  {
   "cell_type": "markdown",
   "metadata": {},
   "source": [
    "## Creating New Features"
   ]
  },
  {
   "cell_type": "code",
   "execution_count": 34,
   "metadata": {
    "collapsed": true
   },
   "outputs": [],
   "source": [
    "# Only item_MRP has strong correlation with Item_Outlet_Sales, so only using item_MRP to create new features\n",
    "\n",
    "train['Item_MRP-2']= train['Item_MRP'] **2\n",
    "train['Item_MRP-3']= train['Item_MRP'] **3\n",
    "train['Item_MRP-sq'] = np.sqrt(train['Item_MRP'])"
   ]
  },
  {
   "cell_type": "markdown",
   "metadata": {},
   "source": [
    "## Encoding Oridinal Features (Categorical)"
   ]
  },
  {
   "cell_type": "code",
   "execution_count": 35,
   "metadata": {},
   "outputs": [
    {
     "data": {
      "text/plain": [
       "Low Fat    5512\n",
       "Regular    3003\n",
       "Name: Item_Fat_Content, dtype: int64"
      ]
     },
     "execution_count": 35,
     "metadata": {},
     "output_type": "execute_result"
    }
   ],
   "source": [
    "train.Item_Fat_Content.value_counts()"
   ]
  },
  {
   "cell_type": "code",
   "execution_count": 36,
   "metadata": {
    "collapsed": true
   },
   "outputs": [],
   "source": [
    "train['Item_Fat_Content'] = train['Item_Fat_Content'].replace({'Low Fat': 1, 'Regular':2})"
   ]
  },
  {
   "cell_type": "code",
   "execution_count": 37,
   "metadata": {},
   "outputs": [
    {
     "data": {
      "text/plain": [
       "Medium    3933\n",
       "Small     3290\n",
       "Big       1292\n",
       "Name: Outlet_Size, dtype: int64"
      ]
     },
     "execution_count": 37,
     "metadata": {},
     "output_type": "execute_result"
    }
   ],
   "source": [
    "train.Outlet_Size.value_counts()"
   ]
  },
  {
   "cell_type": "code",
   "execution_count": 38,
   "metadata": {
    "collapsed": true
   },
   "outputs": [],
   "source": [
    "train['Outlet_Size'] =\\\n",
    "train.Outlet_Size.replace({'Small': 1, 'Medium':2, 'Big':3})"
   ]
  },
  {
   "cell_type": "code",
   "execution_count": 39,
   "metadata": {
    "collapsed": true
   },
   "outputs": [],
   "source": [
    "# # # Although the \"Outlet_Establishment_Year\" column is int64, it is more likely a categorical feature(ordinal. \n",
    "# # # Larger years are later in timespan). Thus, this should also be encoded.\n",
    "# # train.Outlet_Establishment_Year = train.Outlet_Establishment_Year.astype('str')\n",
    "# # train.Outlet_Establishment_Year.value_counts()\n",
    "# train['Outlet_Establishment_Year_num'] =\\\n",
    "# train.Outlet_Establishment_Year.astype('category', ordered=True, \n",
    "#                          categories=['1985','1987','1997','1998','1999','2002','2004','2007','2009']).cat.codes"
   ]
  },
  {
   "cell_type": "markdown",
   "metadata": {},
   "source": [
    "## Fixing Skewedness and Standardizing Numerical Features including target data Y"
   ]
  },
  {
   "cell_type": "code",
   "execution_count": 40,
   "metadata": {},
   "outputs": [
    {
     "name": "stdout",
     "output_type": "stream",
     "text": [
      "Numerical features : 9\n",
      "Categorical features : 3\n"
     ]
    }
   ],
   "source": [
    "# Differentiate numerical features (minus the target) and categorical features\n",
    "\n",
    "categorical_features = train.select_dtypes(include = [\"object\"]).columns\n",
    "numerical_features = train.select_dtypes(exclude = [\"object\"]).columns\n",
    "\n",
    "numerical_features = numerical_features.drop(\"Item_Outlet_Sales\")\n",
    "print(\"Numerical features : \" + str(len(numerical_features)))\n",
    "print(\"Categorical features : \" + str(len(categorical_features)))\n",
    "\n",
    "train_num = train[numerical_features]\n",
    "train_cat = train[categorical_features]\n",
    "Y = train.loc[:,['Item_Outlet_Sales']]"
   ]
  },
  {
   "cell_type": "code",
   "execution_count": 41,
   "metadata": {},
   "outputs": [
    {
     "name": "stdout",
     "output_type": "stream",
     "text": [
      "Index(['Item_Weight', 'Item_Fat_Content', 'Item_Visibility', 'Item_MRP',\n",
      "       'Outlet_Establishment_Year', 'Outlet_Size', 'Item_MRP-2', 'Item_MRP-3',\n",
      "       'Item_MRP-sq'],\n",
      "      dtype='object')\n",
      "Index(['Item_Type', 'Outlet_Location_Type', 'Outlet_Type'], dtype='object')\n"
     ]
    }
   ],
   "source": [
    "print(train_num.columns)\n",
    "print(train_cat.columns)"
   ]
  },
  {
   "cell_type": "code",
   "execution_count": 42,
   "metadata": {
    "collapsed": true,
    "scrolled": true
   },
   "outputs": [],
   "source": [
    "# Find nmerical features that have abs(skewness) of over 0.5\n",
    "skewness = train_num.apply(lambda x: skew(x))\n",
    "\n",
    "skewed = skewness.loc[(abs(skewness) > 0.5)]\n",
    "skewed_features = skewed.index"
   ]
  },
  {
   "cell_type": "code",
   "execution_count": 43,
   "metadata": {},
   "outputs": [
    {
     "data": {
      "text/plain": [
       "Index(['Item_Fat_Content', 'Item_Visibility', 'Item_MRP-2', 'Item_MRP-3'], dtype='object')"
      ]
     },
     "execution_count": 43,
     "metadata": {},
     "output_type": "execute_result"
    }
   ],
   "source": [
    "skewed_features"
   ]
  },
  {
   "cell_type": "code",
   "execution_count": 44,
   "metadata": {},
   "outputs": [
    {
     "name": "stderr",
     "output_type": "stream",
     "text": [
      "C:\\Users\\Seungjun\\Anaconda3\\lib\\site-packages\\pandas\\core\\frame.py:2450: SettingWithCopyWarning: \n",
      "A value is trying to be set on a copy of a slice from a DataFrame.\n",
      "Try using .loc[row_indexer,col_indexer] = value instead\n",
      "\n",
      "See the caveats in the documentation: http://pandas.pydata.org/pandas-docs/stable/indexing.html#indexing-view-versus-copy\n",
      "  self[k1] = value[k2]\n"
     ]
    }
   ],
   "source": [
    "# sqrt transformation to fix skewedness\n",
    "\n",
    "train_num[skewed_features] = np.sqrt(train_num[skewed_features])"
   ]
  },
  {
   "cell_type": "code",
   "execution_count": 45,
   "metadata": {},
   "outputs": [
    {
     "name": "stdout",
     "output_type": "stream",
     "text": [
      "-0.09858909553271175\n",
      "0.1277532306392957\n",
      "0.4911109832426934\n"
     ]
    }
   ],
   "source": [
    "# re-measuring skewness of skewed features : skewness of all features have been driven down below abs(0.5)\n",
    "for feature in ['Item_Visibility', 'Item_MRP-2','Item_MRP-3']:\n",
    "    print(skew(train_num[feature]))"
   ]
  },
  {
   "cell_type": "markdown",
   "metadata": {},
   "source": [
    "Lastly, we need to explore the target data, denoted by Y (Item_Outlet_Sales)"
   ]
  },
  {
   "cell_type": "code",
   "execution_count": 46,
   "metadata": {
    "scrolled": true
   },
   "outputs": [
    {
     "data": {
      "text/plain": [
       "<matplotlib.axes._subplots.AxesSubplot at 0x2725d0358d0>"
      ]
     },
     "execution_count": 46,
     "metadata": {},
     "output_type": "execute_result"
    },
    {
     "data": {
      "image/png": "[encoded data removed]",
      "text/plain": [
       "<matplotlib.figure.Figure at 0x2725cb71c50>"
      ]
     },
     "metadata": {},
     "output_type": "display_data"
    }
   ],
   "source": [
    "sns.distplot(Y['Item_Outlet_Sales'], hist_kws={'alpha': 0.9}, fit=norm)"
   ]
  },
  {
   "cell_type": "markdown",
   "metadata": {},
   "source": [
    "We can see that Item_Outlet_Sales is skewed to the left."
   ]
  },
  {
   "cell_type": "code",
   "execution_count": 47,
   "metadata": {
    "collapsed": true
   },
   "outputs": [],
   "source": [
    "Y.loc[:,'Item_Outlet_Sales'] = np.sqrt(Y.loc[:, 'Item_Outlet_Sales'])"
   ]
  },
  {
   "cell_type": "code",
   "execution_count": 48,
   "metadata": {},
   "outputs": [
    {
     "data": {
      "text/plain": [
       "<matplotlib.axes._subplots.AxesSubplot at 0x2725daa77b8>"
      ]
     },
     "execution_count": 48,
     "metadata": {},
     "output_type": "execute_result"
    },
    {
     "data": {
      "image/png": "[encoded data removed]",
      "text/plain": [
       "<matplotlib.figure.Figure at 0x2725dac9d68>"
      ]
     },
     "metadata": {},
     "output_type": "display_data"
    }
   ],
   "source": [
    "sns.distplot(Y['Item_Outlet_Sales'], hist_kws={'alpha': 0.9}, fit=norm)"
   ]
  },
  {
   "cell_type": "code",
   "execution_count": 49,
   "metadata": {},
   "outputs": [
    {
     "data": {
      "text/plain": [
       "0.21033765781382077"
      ]
     },
     "execution_count": 49,
     "metadata": {},
     "output_type": "execute_result"
    }
   ],
   "source": [
    "skew(Y.loc[:, 'Item_Outlet_Sales'])"
   ]
  },
  {
   "cell_type": "markdown",
   "metadata": {},
   "source": [
    "## Encoding Nominal Features (Categorical, non-ordinal)"
   ]
  },
  {
   "cell_type": "code",
   "execution_count": 50,
   "metadata": {},
   "outputs": [
    {
     "data": {
      "text/plain": [
       "Index(['Item_Type', 'Outlet_Location_Type', 'Outlet_Type'], dtype='object')"
      ]
     },
     "execution_count": 50,
     "metadata": {},
     "output_type": "execute_result"
    }
   ],
   "source": [
    "train_cat.columns"
   ]
  },
  {
   "cell_type": "code",
   "execution_count": 51,
   "metadata": {
    "collapsed": true
   },
   "outputs": [],
   "source": [
    "train_cat = pd.get_dummies(train_cat, columns=['Item_Type','Outlet_Location_Type','Outlet_Type'])"
   ]
  },
  {
   "cell_type": "code",
   "execution_count": 52,
   "metadata": {
    "scrolled": true
   },
   "outputs": [
    {
     "data": {
      "text/plain": [
       "Index(['Item_Type_Baking Goods', 'Item_Type_Breads', 'Item_Type_Breakfast',\n",
       "       'Item_Type_Canned', 'Item_Type_Dairy', 'Item_Type_Frozen Foods',\n",
       "       'Item_Type_Fruits and Vegetables', 'Item_Type_Hard Drinks',\n",
       "       'Item_Type_Health and Hygiene', 'Item_Type_Household', 'Item_Type_Meat',\n",
       "       'Item_Type_Others', 'Item_Type_Seafood', 'Item_Type_Snack Foods',\n",
       "       'Item_Type_Soft Drinks', 'Item_Type_Starchy Foods',\n",
       "       'Outlet_Location_Type_Tier 1', 'Outlet_Location_Type_Tier 2',\n",
       "       'Outlet_Location_Type_Tier 3', 'Outlet_Type_Grocery Store',\n",
       "       'Outlet_Type_Supermarket Type1', 'Outlet_Type_Supermarket Type2',\n",
       "       'Outlet_Type_Supermarket Type3'],\n",
       "      dtype='object')"
      ]
     },
     "execution_count": 52,
     "metadata": {},
     "output_type": "execute_result"
    }
   ],
   "source": [
    "train_cat.columns"
   ]
  },
  {
   "cell_type": "code",
   "execution_count": 53,
   "metadata": {
    "collapsed": true
   },
   "outputs": [],
   "source": [
    "## Reducing Dimensionality with PCA"
   ]
  },
  {
   "cell_type": "code",
   "execution_count": 54,
   "metadata": {
    "collapsed": true
   },
   "outputs": [],
   "source": [
    "# standardized_train_pca = standardized_train[['Item_Weight', 'Item_Visibility', 'Item_MRP',\n",
    "#        'Item_Outlet_Sales', 'Item_Fat_Content_num', 'Outlet_Size_num',\n",
    "#        'Outlet_Establishment_Year_num', 'Item_Type_Baking Goods',\n",
    "#        'Item_Type_Breads', 'Item_Type_Breakfast', 'Item_Type_Canned',\n",
    "#        'Item_Type_Dairy', 'Item_Type_Frozen Foods',\n",
    "#        'Item_Type_Fruits and Vegetables', 'Item_Type_Hard Drinks',\n",
    "#        'Item_Type_Health and Hygiene', 'Item_Type_Household', 'Item_Type_Meat',\n",
    "#        'Item_Type_Others', 'Item_Type_Seafood', 'Item_Type_Snack Foods',\n",
    "#        'Item_Type_Soft Drinks', 'Item_Type_Starchy Foods',\n",
    "#        'Outlet_Location_Type_Tier 1', 'Outlet_Location_Type_Tier 2',\n",
    "#        'Outlet_Location_Type_Tier 3', 'Outlet_Type_Grocery Store',\n",
    "#        'Outlet_Type_Supermarket Type1', 'Outlet_Type_Supermarket Type2',\n",
    "#        'Outlet_Type_Supermarket Type3']]"
   ]
  },
  {
   "cell_type": "code",
   "execution_count": 55,
   "metadata": {
    "collapsed": true
   },
   "outputs": [],
   "source": [
    "# pca = PCA()\n",
    "# pca.fit(standardized_train_pca)\n",
    "# np.cumsum(pca.explained_variance_ratio_)"
   ]
  },
  {
   "cell_type": "code",
   "execution_count": 56,
   "metadata": {
    "collapsed": true
   },
   "outputs": [],
   "source": [
    "# The idea is to start with n_components = number of columns. Then select the number of components that add up to 1 variance_ratio. Since cumsum reaches 1 at the 27th index, we can choose 27 to be our n_components number."
   ]
  },
  {
   "cell_type": "code",
   "execution_count": 57,
   "metadata": {
    "collapsed": true
   },
   "outputs": [],
   "source": [
    "# pca = PCA(n_components=27)\n",
    "# standardized_train_pca_array = pca.fit_transform(standardized_train_pca)"
   ]
  },
  {
   "cell_type": "markdown",
   "metadata": {},
   "source": [
    "## Combining train_cat & train_num into X"
   ]
  },
  {
   "cell_type": "code",
   "execution_count": 58,
   "metadata": {
    "collapsed": true
   },
   "outputs": [],
   "source": [
    "train = pd.concat([train_num, train_cat], axis = 1)"
   ]
  },
  {
   "cell_type": "code",
   "execution_count": 59,
   "metadata": {},
   "outputs": [
    {
     "data": {
      "text/plain": [
       "Index(['Item_Weight', 'Item_Fat_Content', 'Item_Visibility', 'Item_MRP',\n",
       "       'Outlet_Establishment_Year', 'Outlet_Size', 'Item_MRP-2', 'Item_MRP-3',\n",
       "       'Item_MRP-sq', 'Item_Type_Baking Goods', 'Item_Type_Breads',\n",
       "       'Item_Type_Breakfast', 'Item_Type_Canned', 'Item_Type_Dairy',\n",
       "       'Item_Type_Frozen Foods', 'Item_Type_Fruits and Vegetables',\n",
       "       'Item_Type_Hard Drinks', 'Item_Type_Health and Hygiene',\n",
       "       'Item_Type_Household', 'Item_Type_Meat', 'Item_Type_Others',\n",
       "       'Item_Type_Seafood', 'Item_Type_Snack Foods', 'Item_Type_Soft Drinks',\n",
       "       'Item_Type_Starchy Foods', 'Outlet_Location_Type_Tier 1',\n",
       "       'Outlet_Location_Type_Tier 2', 'Outlet_Location_Type_Tier 3',\n",
       "       'Outlet_Type_Grocery Store', 'Outlet_Type_Supermarket Type1',\n",
       "       'Outlet_Type_Supermarket Type2', 'Outlet_Type_Supermarket Type3'],\n",
       "      dtype='object')"
      ]
     },
     "execution_count": 59,
     "metadata": {},
     "output_type": "execute_result"
    }
   ],
   "source": [
    "train.columns"
   ]
  },
  {
   "cell_type": "code",
   "execution_count": 60,
   "metadata": {
    "scrolled": true
   },
   "outputs": [
    {
     "name": "stdout",
     "output_type": "stream",
     "text": [
      "<class 'pandas.core.frame.DataFrame'>\n",
      "MultiIndex: 8515 entries, (FDA15, OUT049) to (DRG01, OUT046)\n",
      "Data columns (total 32 columns):\n",
      "Item_Weight                        8515 non-null float64\n",
      "Item_Fat_Content                   8515 non-null float64\n",
      "Item_Visibility                    8515 non-null float64\n",
      "Item_MRP                           8515 non-null float64\n",
      "Outlet_Establishment_Year          8515 non-null int64\n",
      "Outlet_Size                        8515 non-null int64\n",
      "Item_MRP-2                         8515 non-null float64\n",
      "Item_MRP-3                         8515 non-null float64\n",
      "Item_MRP-sq                        8515 non-null float64\n",
      "Item_Type_Baking Goods             8515 non-null uint8\n",
      "Item_Type_Breads                   8515 non-null uint8\n",
      "Item_Type_Breakfast                8515 non-null uint8\n",
      "Item_Type_Canned                   8515 non-null uint8\n",
      "Item_Type_Dairy                    8515 non-null uint8\n",
      "Item_Type_Frozen Foods             8515 non-null uint8\n",
      "Item_Type_Fruits and Vegetables    8515 non-null uint8\n",
      "Item_Type_Hard Drinks              8515 non-null uint8\n",
      "Item_Type_Health and Hygiene       8515 non-null uint8\n",
      "Item_Type_Household                8515 non-null uint8\n",
      "Item_Type_Meat                     8515 non-null uint8\n",
      "Item_Type_Others                   8515 non-null uint8\n",
      "Item_Type_Seafood                  8515 non-null uint8\n",
      "Item_Type_Snack Foods              8515 non-null uint8\n",
      "Item_Type_Soft Drinks              8515 non-null uint8\n",
      "Item_Type_Starchy Foods            8515 non-null uint8\n",
      "Outlet_Location_Type_Tier 1        8515 non-null uint8\n",
      "Outlet_Location_Type_Tier 2        8515 non-null uint8\n",
      "Outlet_Location_Type_Tier 3        8515 non-null uint8\n",
      "Outlet_Type_Grocery Store          8515 non-null uint8\n",
      "Outlet_Type_Supermarket Type1      8515 non-null uint8\n",
      "Outlet_Type_Supermarket Type2      8515 non-null uint8\n",
      "Outlet_Type_Supermarket Type3      8515 non-null uint8\n",
      "dtypes: float64(7), int64(2), uint8(23)\n",
      "memory usage: 827.3+ KB\n"
     ]
    }
   ],
   "source": [
    "train.info()"
   ]
  },
  {
   "cell_type": "markdown",
   "metadata": {},
   "source": [
    "## Splitting into Training and Testing Data"
   ]
  },
  {
   "cell_type": "code",
   "execution_count": 61,
   "metadata": {
    "collapsed": true,
    "scrolled": true
   },
   "outputs": [],
   "source": [
    "X = train\n",
    "\n",
    "X_train, X_test, Y_train, Y_test = train_test_split(X,Y,test_size=0.2, random_state=42)"
   ]
  },
  {
   "cell_type": "code",
   "execution_count": 62,
   "metadata": {},
   "outputs": [
    {
     "name": "stdout",
     "output_type": "stream",
     "text": [
      "X_train : <class 'pandas.core.frame.DataFrame'>(6812, 32)\n",
      "X_test : <class 'pandas.core.frame.DataFrame'>(1703, 32)\n",
      "y_train : <class 'pandas.core.frame.DataFrame'>(6812, 1)\n",
      "y_test : <class 'pandas.core.frame.DataFrame'>(1703, 1)\n"
     ]
    }
   ],
   "source": [
    "print(\"X_train : \" + str(type(X_train)) + str(X_train.shape))\n",
    "print(\"X_test : \" + str(type(X_test)) + str(X_test.shape))\n",
    "print(\"y_train : \" + str(type(Y_train)) + str(Y_train.shape))\n",
    "print(\"y_test : \" + str(type(Y_test)) + str(Y_test.shape))"
   ]
  },
  {
   "cell_type": "code",
   "execution_count": 63,
   "metadata": {
    "scrolled": true
   },
   "outputs": [
    {
     "name": "stderr",
     "output_type": "stream",
     "text": [
      "C:\\Users\\Seungjun\\Anaconda3\\lib\\site-packages\\pandas\\core\\indexing.py:517: SettingWithCopyWarning: \n",
      "A value is trying to be set on a copy of a slice from a DataFrame.\n",
      "Try using .loc[row_indexer,col_indexer] = value instead\n",
      "\n",
      "See the caveats in the documentation: http://pandas.pydata.org/pandas-docs/stable/indexing.html#indexing-view-versus-copy\n",
      "  self.obj[item] = s\n"
     ]
    }
   ],
   "source": [
    "# Standardize train data's numerical features\n",
    "\n",
    "stdSc = StandardScaler()\n",
    "\n",
    "X_train.loc[:,numerical_features] = stdSc.fit_transform(X_train.loc[:,numerical_features])\n",
    "X_test.loc[:,numerical_features] = stdSc.fit_transform(X_test.loc[:,numerical_features])\n",
    "# Y_train = stdSc.fit_transform(Y_train)\n",
    "# Y_test = stdSc.fit_transform(Y_test)\n",
    "\n",
    "# standardized_train = (standardized_train - standardized_train.mean())/standardized_train.std()"
   ]
  },
  {
   "cell_type": "markdown",
   "metadata": {},
   "source": [
    "## Feature Selection"
   ]
  },
  {
   "cell_type": "code",
   "execution_count": 64,
   "metadata": {
    "collapsed": true
   },
   "outputs": [],
   "source": [
    "# model = LinearRegression()\n",
    "# rfe = RFE(model, 10)\n",
    "# fit = rfe.fit(X, Y)\n",
    "\n",
    "# print(fit.n_features_)\n",
    "# print(fit.support_)"
   ]
  },
  {
   "cell_type": "markdown",
   "metadata": {},
   "source": [
    "## Making a Scoring Metric"
   ]
  },
  {
   "cell_type": "code",
   "execution_count": 65,
   "metadata": {
    "collapsed": true
   },
   "outputs": [],
   "source": [
    "# Define error measure for official scoring : RMSE\n",
    "\n",
    "scorer = make_scorer(mean_squared_error, greater_is_better = False)\n",
    "\n",
    "def rmse_cv_train(model):\n",
    "    rmse= np.sqrt(-cross_val_score(model, X_train, Y_train, scoring = scorer))\n",
    "    return(rmse)\n",
    "\n",
    "def rmse_cv_test(model):\n",
    "    rmse= np.sqrt(-cross_val_score(model, X_test, Y_test, scoring = scorer))\n",
    "    return(rmse)"
   ]
  },
  {
   "cell_type": "markdown",
   "metadata": {},
   "source": [
    "## Linear Regression"
   ]
  },
  {
   "cell_type": "code",
   "execution_count": 66,
   "metadata": {
    "scrolled": true
   },
   "outputs": [
    {
     "name": "stdout",
     "output_type": "stream",
     "text": [
      "RMSE on Training set : 10.7115725867\n",
      "RMSE on Test set : 10.6761600879\n"
     ]
    }
   ],
   "source": [
    "# Linear Regression\n",
    "lr_model = LinearRegression()\n",
    "lr_model.fit(X_train, Y_train)\n",
    "\n",
    "# Look at predictions on training and validation set\n",
    "print(\"RMSE on Training set :\", rmse_cv_train(lr_model).mean())\n",
    "print(\"RMSE on Test set :\", rmse_cv_test(lr_model).mean())"
   ]
  },
  {
   "cell_type": "code",
   "execution_count": 67,
   "metadata": {},
   "outputs": [
    {
     "data": {
      "text/plain": [
       "<matplotlib.collections.LineCollection at 0x2725ec2d860>"
      ]
     },
     "execution_count": 67,
     "metadata": {},
     "output_type": "execute_result"
    },
    {
     "data": {
      "image/png": "[encoded data removed]",
      "text/plain": [
       "<matplotlib.figure.Figure at 0x2725dbf3ac8>"
      ]
     },
     "metadata": {},
     "output_type": "display_data"
    }
   ],
   "source": [
    "# Plot residuals\n",
    "plt.scatter(lr_model.predict(X_train), lr_model.predict(X_train) - Y_train, c = \"blue\", label = \"Training data\", s=15)\n",
    "plt.scatter(lr_model.predict(X_test), lr_model.predict(X_test) - Y_test, c = \"lightgreen\", label = \"Validation data\", s=15)\n",
    "\n",
    "plt.title(\"Linear regression\")\n",
    "plt.xlabel(\"Predicted values\")\n",
    "plt.ylabel(\"Residuals\")\n",
    "plt.legend(loc = \"upper left\")\n",
    "plt.hlines(y = 0, xmin = min(lr_model.predict(X_train)), xmax = max(lr_model.predict(X_train)), color = \"red\")"
   ]
  },
  {
   "cell_type": "code",
   "execution_count": 68,
   "metadata": {
    "scrolled": true
   },
   "outputs": [
    {
     "data": {
      "text/plain": [
       "[<matplotlib.lines.Line2D at 0x2725ecf2550>]"
      ]
     },
     "execution_count": 68,
     "metadata": {},
     "output_type": "execute_result"
    },
    {
     "data": {
      "image/png": "[encoded data removed]",
      "text/plain": [
       "<matplotlib.figure.Figure at 0x2725edb6080>"
      ]
     },
     "metadata": {},
     "output_type": "display_data"
    }
   ],
   "source": [
    "# Plot predictions\n",
    "plt.scatter(lr_model.predict(X_train), Y_train, c = \"blue\", label = \"Training data\", s=10)\n",
    "plt.scatter(lr_model.predict(X_test), Y_test, c = \"lightgreen\", label = \"Validation data\", s=10)\n",
    "\n",
    "plt.title(\"Linear regression\")\n",
    "plt.xlabel(\"Predicted values\")\n",
    "plt.ylabel(\"Real values\")\n",
    "plt.legend(loc = \"upper left\")\n",
    "\n",
    "plt.plot([min(lr_model.predict(X_train)), max(lr_model.predict(X_train))], \n",
    "         [min(lr_model.predict(X_train)), max(lr_model.predict(X_train))], c='red')"
   ]
  },
  {
   "cell_type": "markdown",
   "metadata": {},
   "source": [
    "## Linear Regression with Polynomial Features"
   ]
  },
  {
   "cell_type": "code",
   "execution_count": 69,
   "metadata": {
    "scrolled": true
   },
   "outputs": [
    {
     "name": "stdout",
     "output_type": "stream",
     "text": [
      "Item_Outlet_Sales    10.205825\n",
      "dtype: float64\n",
      "Item_Outlet_Sales    3.665830e+11\n",
      "dtype: float64\n"
     ]
    }
   ],
   "source": [
    "from sklearn.preprocessing import PolynomialFeatures\n",
    "from sklearn.pipeline import make_pipeline\n",
    "\n",
    "poly2_model = make_pipeline(PolynomialFeatures(2), LinearRegression())\n",
    "poly2_model.fit(X_train, Y_train)\n",
    "    \n",
    "# RMSE of Linear Regression model with 2nd degree polynomial features\n",
    "print(np.sqrt(((poly2_model.predict(X_train) - Y_train) ** 2).mean()))\n",
    "print(np.sqrt(((poly2_model.predict(X_test) - Y_test) ** 2).mean()))"
   ]
  },
  {
   "cell_type": "code",
   "execution_count": 70,
   "metadata": {},
   "outputs": [
    {
     "name": "stdout",
     "output_type": "stream",
     "text": [
      "Item_Outlet_Sales    9.609014\n",
      "dtype: float64\n",
      "Item_Outlet_Sales    2.460970e+12\n",
      "dtype: float64\n"
     ]
    }
   ],
   "source": [
    "poly3_model = make_pipeline(PolynomialFeatures(3), LinearRegression())\n",
    "poly3_model.fit(X_train, Y_train)\n",
    "    \n",
    "# RMSE of Linear Regression model with 3nd degree polynomial features\n",
    "print(np.sqrt(((poly3_model.predict(X_train) - Y_train) ** 2).mean()))\n",
    "print(np.sqrt(((poly3_model.predict(X_test) - Y_test) ** 2).mean()))"
   ]
  },
  {
   "cell_type": "markdown",
   "metadata": {},
   "source": [
    "RMSE for test set increases dramatically than the linear regression model which just used linear features. So, we can assume that the data isn't really polynomial"
   ]
  },
  {
   "cell_type": "markdown",
   "metadata": {},
   "source": [
    "## Ridge regularization (L2 penalty)"
   ]
  },
  {
   "cell_type": "markdown",
   "metadata": {
    "collapsed": true
   },
   "source": [
    "Regularization is a very useful method to handle collinearity, filter out noise from data, and eventually prevent overfitting. The concept behind regularization is to introduce additional information (bias) to penalize extreme parameter weights. Ridge regression is an L2 penalized model where we simply add the squared sum of the weights to our cost function."
   ]
  },
  {
   "cell_type": "code",
   "execution_count": 71,
   "metadata": {
    "scrolled": true
   },
   "outputs": [
    {
     "name": "stdout",
     "output_type": "stream",
     "text": [
      "Best alpha : 5\n",
      "Ridge RMSE on Training set : 10.7120886417\n",
      "Ridge RMSE on Test set : 10.6193904221\n"
     ]
    }
   ],
   "source": [
    "ridge = RidgeCV(alphas = [0.01, 0.05, 0.1, 0.3, 0.6, 1, 3, 5, 10, 30, 60, 100], cv=10)\n",
    "\n",
    "ridge.fit(X_train, Y_train)\n",
    "alpha = ridge.alpha_\n",
    "print(\"Best alpha :\", alpha)\n",
    "\n",
    "print(\"Ridge RMSE on Training set :\", rmse_cv_train(ridge).mean())\n",
    "print(\"Ridge RMSE on Test set :\", rmse_cv_test(ridge).mean())"
   ]
  },
  {
   "cell_type": "code",
   "execution_count": 72,
   "metadata": {},
   "outputs": [
    {
     "name": "stdout",
     "output_type": "stream",
     "text": [
      "Item_Outlet_Sales    10.205825\n",
      "dtype: float64\n",
      "Item_Outlet_Sales    3.665830e+11\n",
      "dtype: float64\n"
     ]
    }
   ],
   "source": [
    "ridge2 = make_pipeline(PolynomialFeatures(2), RidgeCV(alphas = [0.01, 0.05, 0.1, 0.3, 0.6, 1, 3, 5, 10, 30, 60, 100], cv=10))\n",
    "\n",
    "ridge2.fit(X_train, Y_train)\n",
    "    \n",
    "# RMSE of Ridge Regression model with 2nd degree polynomial features\n",
    "print(np.sqrt(((poly2_model.predict(X_train) - Y_train) ** 2).mean()))\n",
    "print(np.sqrt(((poly2_model.predict(X_test) - Y_test) ** 2).mean()))"
   ]
  },
  {
   "cell_type": "markdown",
   "metadata": {
    "collapsed": true
   },
   "source": [
    "## Lasso Regression"
   ]
  },
  {
   "cell_type": "code",
   "execution_count": 73,
   "metadata": {},
   "outputs": [
    {
     "name": "stderr",
     "output_type": "stream",
     "text": [
      "C:\\Users\\Seungjun\\Anaconda3\\lib\\site-packages\\sklearn\\linear_model\\coordinate_descent.py:1082: DataConversionWarning: A column-vector y was passed when a 1d array was expected. Please change the shape of y to (n_samples, ), for example using ravel().\n",
      "  y = column_or_1d(y, warn=True)\n"
     ]
    },
    {
     "name": "stdout",
     "output_type": "stream",
     "text": [
      "Best alpha : 0.03\n"
     ]
    },
    {
     "name": "stderr",
     "output_type": "stream",
     "text": [
      "C:\\Users\\Seungjun\\Anaconda3\\lib\\site-packages\\sklearn\\linear_model\\coordinate_descent.py:1082: DataConversionWarning: A column-vector y was passed when a 1d array was expected. Please change the shape of y to (n_samples, ), for example using ravel().\n",
      "  y = column_or_1d(y, warn=True)\n",
      "C:\\Users\\Seungjun\\Anaconda3\\lib\\site-packages\\sklearn\\linear_model\\coordinate_descent.py:1082: DataConversionWarning: A column-vector y was passed when a 1d array was expected. Please change the shape of y to (n_samples, ), for example using ravel().\n",
      "  y = column_or_1d(y, warn=True)\n",
      "C:\\Users\\Seungjun\\Anaconda3\\lib\\site-packages\\sklearn\\linear_model\\coordinate_descent.py:1082: DataConversionWarning: A column-vector y was passed when a 1d array was expected. Please change the shape of y to (n_samples, ), for example using ravel().\n",
      "  y = column_or_1d(y, warn=True)\n"
     ]
    },
    {
     "name": "stdout",
     "output_type": "stream",
     "text": [
      "Lasso RMSE on Training set : 10.6912043501\n"
     ]
    },
    {
     "name": "stderr",
     "output_type": "stream",
     "text": [
      "C:\\Users\\Seungjun\\Anaconda3\\lib\\site-packages\\sklearn\\linear_model\\coordinate_descent.py:1082: DataConversionWarning: A column-vector y was passed when a 1d array was expected. Please change the shape of y to (n_samples, ), for example using ravel().\n",
      "  y = column_or_1d(y, warn=True)\n",
      "C:\\Users\\Seungjun\\Anaconda3\\lib\\site-packages\\sklearn\\linear_model\\coordinate_descent.py:1082: DataConversionWarning: A column-vector y was passed when a 1d array was expected. Please change the shape of y to (n_samples, ), for example using ravel().\n",
      "  y = column_or_1d(y, warn=True)\n",
      "C:\\Users\\Seungjun\\Anaconda3\\lib\\site-packages\\sklearn\\linear_model\\coordinate_descent.py:1082: DataConversionWarning: A column-vector y was passed when a 1d array was expected. Please change the shape of y to (n_samples, ), for example using ravel().\n",
      "  y = column_or_1d(y, warn=True)\n"
     ]
    },
    {
     "name": "stdout",
     "output_type": "stream",
     "text": [
      "Lasso RMSE on Test set : 10.569762983\n"
     ]
    }
   ],
   "source": [
    "lasso = LassoCV(alphas = [1e-4, 5e-4, 1e-3, 5e-3, 0.0001, 0.0003, 0.0006, 0.001, 0.003, 0.006, 0.01, 0.03, 0.06, 0.1, \n",
    "                          0.3, 0.6, 1], \n",
    "                max_iter = 50000, cv = 10)\n",
    "lasso.fit(X_train, Y_train)\n",
    "alpha = lasso.alpha_\n",
    "print(\"Best alpha :\", alpha)\n",
    "\n",
    "print(\"Lasso RMSE on Training set :\", rmse_cv_train(lasso).mean())\n",
    "print(\"Lasso RMSE on Test set :\", rmse_cv_test(lasso).mean())"
   ]
  },
  {
   "cell_type": "markdown",
   "metadata": {
    "collapsed": true
   },
   "source": [
    "## Elastic Net"
   ]
  },
  {
   "cell_type": "code",
   "execution_count": 74,
   "metadata": {
    "scrolled": true
   },
   "outputs": [
    {
     "name": "stderr",
     "output_type": "stream",
     "text": [
      "C:\\Users\\Seungjun\\Anaconda3\\lib\\site-packages\\sklearn\\linear_model\\coordinate_descent.py:1082: DataConversionWarning: A column-vector y was passed when a 1d array was expected. Please change the shape of y to (n_samples, ), for example using ravel().\n",
      "  y = column_or_1d(y, warn=True)\n"
     ]
    },
    {
     "name": "stdout",
     "output_type": "stream",
     "text": [
      "Best l1_ratio : 1.0\n",
      "Best alpha : 0.03\n"
     ]
    },
    {
     "name": "stderr",
     "output_type": "stream",
     "text": [
      "C:\\Users\\Seungjun\\Anaconda3\\lib\\site-packages\\sklearn\\linear_model\\coordinate_descent.py:1082: DataConversionWarning: A column-vector y was passed when a 1d array was expected. Please change the shape of y to (n_samples, ), for example using ravel().\n",
      "  y = column_or_1d(y, warn=True)\n",
      "C:\\Users\\Seungjun\\Anaconda3\\lib\\site-packages\\sklearn\\linear_model\\coordinate_descent.py:484: ConvergenceWarning: Objective did not converge. You might want to increase the number of iterations. Fitting data with very small alpha may cause precision problems.\n",
      "  ConvergenceWarning)\n",
      "C:\\Users\\Seungjun\\Anaconda3\\lib\\site-packages\\sklearn\\linear_model\\coordinate_descent.py:1082: DataConversionWarning: A column-vector y was passed when a 1d array was expected. Please change the shape of y to (n_samples, ), for example using ravel().\n",
      "  y = column_or_1d(y, warn=True)\n",
      "C:\\Users\\Seungjun\\Anaconda3\\lib\\site-packages\\sklearn\\linear_model\\coordinate_descent.py:1082: DataConversionWarning: A column-vector y was passed when a 1d array was expected. Please change the shape of y to (n_samples, ), for example using ravel().\n",
      "  y = column_or_1d(y, warn=True)\n"
     ]
    },
    {
     "name": "stdout",
     "output_type": "stream",
     "text": [
      "ElasticNet RMSE on Training set : 10.6912043501\n"
     ]
    },
    {
     "name": "stderr",
     "output_type": "stream",
     "text": [
      "C:\\Users\\Seungjun\\Anaconda3\\lib\\site-packages\\sklearn\\linear_model\\coordinate_descent.py:1082: DataConversionWarning: A column-vector y was passed when a 1d array was expected. Please change the shape of y to (n_samples, ), for example using ravel().\n",
      "  y = column_or_1d(y, warn=True)\n",
      "C:\\Users\\Seungjun\\Anaconda3\\lib\\site-packages\\sklearn\\linear_model\\coordinate_descent.py:484: ConvergenceWarning: Objective did not converge. You might want to increase the number of iterations. Fitting data with very small alpha may cause precision problems.\n",
      "  ConvergenceWarning)\n",
      "C:\\Users\\Seungjun\\Anaconda3\\lib\\site-packages\\sklearn\\linear_model\\coordinate_descent.py:1082: DataConversionWarning: A column-vector y was passed when a 1d array was expected. Please change the shape of y to (n_samples, ), for example using ravel().\n",
      "  y = column_or_1d(y, warn=True)\n",
      "C:\\Users\\Seungjun\\Anaconda3\\lib\\site-packages\\sklearn\\linear_model\\coordinate_descent.py:484: ConvergenceWarning: Objective did not converge. You might want to increase the number of iterations. Fitting data with very small alpha may cause precision problems.\n",
      "  ConvergenceWarning)\n",
      "C:\\Users\\Seungjun\\Anaconda3\\lib\\site-packages\\sklearn\\linear_model\\coordinate_descent.py:1082: DataConversionWarning: A column-vector y was passed when a 1d array was expected. Please change the shape of y to (n_samples, ), for example using ravel().\n",
      "  y = column_or_1d(y, warn=True)\n",
      "C:\\Users\\Seungjun\\Anaconda3\\lib\\site-packages\\sklearn\\linear_model\\coordinate_descent.py:484: ConvergenceWarning: Objective did not converge. You might want to increase the number of iterations. Fitting data with very small alpha may cause precision problems.\n",
      "  ConvergenceWarning)\n"
     ]
    },
    {
     "name": "stdout",
     "output_type": "stream",
     "text": [
      "ElasticNet RMSE on Test set : 10.569762983\n"
     ]
    }
   ],
   "source": [
    "elasticNet = ElasticNetCV(l1_ratio = [0.1, 0.3, 0.5, 0.6, 0.7, 0.8, 0.85, 0.9, 0.95, 1],\n",
    "                          alphas = [0.0001, 0.0003, 0.0006, 0.001, 0.003, 0.006, \n",
    "                                    0.01, 0.03, 0.06, 0.1, 0.3, 0.6, 1, 3, 6], \n",
    "                          max_iter = 50000, cv = 10)\n",
    "elasticNet.fit(X_train, Y_train)\n",
    "alpha = elasticNet.alpha_\n",
    "ratio = elasticNet.l1_ratio_\n",
    "\n",
    "print(\"Best l1_ratio :\", ratio)\n",
    "print(\"Best alpha :\", alpha )\n",
    "\n",
    "if (elasticNet.l1_ratio_ > 1):\n",
    "    elasticNet.l1_ratio_ = 1\n",
    "    \n",
    "print(\"ElasticNet RMSE on Training set :\", rmse_cv_train(elasticNet).mean())\n",
    "print(\"ElasticNet RMSE on Test set :\", rmse_cv_test(elasticNet).mean())"
   ]
  },
  {
   "cell_type": "markdown",
   "metadata": {},
   "source": [
    "## RandomForestRegressor"
   ]
  },
  {
   "cell_type": "code",
   "execution_count": 75,
   "metadata": {
    "collapsed": true
   },
   "outputs": [],
   "source": [
    "from sklearn.ensemble import RandomForestRegressor"
   ]
  },
  {
   "cell_type": "code",
   "execution_count": 76,
   "metadata": {},
   "outputs": [
    {
     "name": "stderr",
     "output_type": "stream",
     "text": [
      "C:\\Users\\Seungjun\\Anaconda3\\lib\\site-packages\\ipykernel_launcher.py:4: DataConversionWarning: A column-vector y was passed when a 1d array was expected. Please change the shape of y to (n_samples,), for example using ravel().\n",
      "  after removing the cwd from sys.path.\n"
     ]
    },
    {
     "data": {
      "image/png": "[encoded data removed]",
      "text/plain": [
       "<matplotlib.figure.Figure at 0x2720036f5c0>"
      ]
     },
     "metadata": {},
     "output_type": "display_data"
    }
   ],
   "source": [
    "clf = RandomForestRegressor(n_estimators=100, n_jobs=-1)\n",
    "\n",
    "# Fit model with training data\n",
    "clf.fit(X_train, Y_train)\n",
    "\n",
    "# Output feature importance coefficients, map them to their feature name, and sort values\n",
    "coef = pd.Series(clf.feature_importances_, index = X_train.columns).sort_values(ascending=False)\n",
    "\n",
    "plt.figure(figsize=(10, 5))\n",
    "coef.head(25).plot(kind='bar')\n",
    "plt.title('Feature Significance')\n",
    "plt.tight_layout()"
   ]
  },
  {
   "cell_type": "code",
   "execution_count": 77,
   "metadata": {},
   "outputs": [
    {
     "name": "stderr",
     "output_type": "stream",
     "text": [
      "C:\\Users\\Seungjun\\Anaconda3\\lib\\site-packages\\sklearn\\model_selection\\_validation.py:238: DataConversionWarning: A column-vector y was passed when a 1d array was expected. Please change the shape of y to (n_samples,), for example using ravel().\n",
      "  estimator.fit(X_train, y_train, **fit_params)\n",
      "C:\\Users\\Seungjun\\Anaconda3\\lib\\site-packages\\sklearn\\model_selection\\_validation.py:238: DataConversionWarning: A column-vector y was passed when a 1d array was expected. Please change the shape of y to (n_samples,), for example using ravel().\n",
      "  estimator.fit(X_train, y_train, **fit_params)\n",
      "C:\\Users\\Seungjun\\Anaconda3\\lib\\site-packages\\sklearn\\model_selection\\_validation.py:238: DataConversionWarning: A column-vector y was passed when a 1d array was expected. Please change the shape of y to (n_samples,), for example using ravel().\n",
      "  estimator.fit(X_train, y_train, **fit_params)\n"
     ]
    },
    {
     "name": "stdout",
     "output_type": "stream",
     "text": [
      "RandomForestRegressor RMSE on Training set : 11.0549755274\n"
     ]
    },
    {
     "name": "stderr",
     "output_type": "stream",
     "text": [
      "C:\\Users\\Seungjun\\Anaconda3\\lib\\site-packages\\sklearn\\model_selection\\_validation.py:238: DataConversionWarning: A column-vector y was passed when a 1d array was expected. Please change the shape of y to (n_samples,), for example using ravel().\n",
      "  estimator.fit(X_train, y_train, **fit_params)\n",
      "C:\\Users\\Seungjun\\Anaconda3\\lib\\site-packages\\sklearn\\model_selection\\_validation.py:238: DataConversionWarning: A column-vector y was passed when a 1d array was expected. Please change the shape of y to (n_samples,), for example using ravel().\n",
      "  estimator.fit(X_train, y_train, **fit_params)\n",
      "C:\\Users\\Seungjun\\Anaconda3\\lib\\site-packages\\sklearn\\model_selection\\_validation.py:238: DataConversionWarning: A column-vector y was passed when a 1d array was expected. Please change the shape of y to (n_samples,), for example using ravel().\n",
      "  estimator.fit(X_train, y_train, **fit_params)\n"
     ]
    },
    {
     "name": "stdout",
     "output_type": "stream",
     "text": [
      "RandomForestRegressor RMSE on Test set : 11.0564301278\n"
     ]
    }
   ],
   "source": [
    "print(\"RandomForestRegressor RMSE on Training set :\", rmse_cv_train(clf).mean())\n",
    "print(\"RandomForestRegressor RMSE on Test set :\", rmse_cv_test(clf).mean())"
   ]
  },
  {
   "cell_type": "code",
   "execution_count": 78,
   "metadata": {
    "scrolled": true
   },
   "outputs": [
    {
     "data": {
      "image/png": "[encoded data removed]",
      "text/plain": [
       "<matplotlib.figure.Figure at 0x2725ec6d7f0>"
      ]
     },
     "metadata": {},
     "output_type": "display_data"
    }
   ],
   "source": [
    "# Plot predictions\n",
    "\n",
    "plt.figure(figsize=(10, 5))\n",
    "plt.scatter(clf.predict(X_train), Y_train, c = \"blue\", label = \"Training data\", s=10)\n",
    "plt.scatter(clf.predict(X_test), Y_test, c = \"lightgreen\", label = \"Validation data\", s=10)\n",
    "\n",
    "plt.title(\"RandomForestRegressor\")\n",
    "plt.xlabel(\"Predicted values\")\n",
    "plt.ylabel(\"Real values\")\n",
    "plt.legend(loc = \"upper left\")\n",
    "\n",
    "plt.plot([min(clf.predict(X_train)), max(clf.predict(X_train))], \n",
    "         [min(clf.predict(X_train)), max(clf.predict(X_train))], c='red')\n",
    "plt.tight_layout()"
   ]
  },
  {
   "cell_type": "markdown",
   "metadata": {},
   "source": [
    "# Predicting Item_Outlet_Sales for Test Data"
   ]
  },
  {
   "cell_type": "code",
   "execution_count": 79,
   "metadata": {
    "collapsed": true
   },
   "outputs": [],
   "source": [
    "test = pd.read_csv('big mart test.csv')"
   ]
  },
  {
   "cell_type": "code",
   "execution_count": 80,
   "metadata": {
    "scrolled": true
   },
   "outputs": [
    {
     "data": {
      "text/html": [
       "<div>\n",
       "<style>\n",
       "    .dataframe thead tr:only-child th {\n",
       "        text-align: right;\n",
       "    }\n",
       "\n",
       "    .dataframe thead th {\n",
       "        text-align: left;\n",
       "    }\n",
       "\n",
       "    .dataframe tbody tr th {\n",
       "        vertical-align: top;\n",
       "    }\n",
       "</style>\n",
       "<table border=\"1\" class=\"dataframe\">\n",
       "  <thead>\n",
       "    <tr style=\"text-align: right;\">\n",
       "      <th></th>\n",
       "      <th>Item_Identifier</th>\n",
       "      <th>Item_Weight</th>\n",
       "      <th>Item_Fat_Content</th>\n",
       "      <th>Item_Visibility</th>\n",
       "      <th>Item_Type</th>\n",
       "      <th>Item_MRP</th>\n",
       "      <th>Outlet_Identifier</th>\n",
       "      <th>Outlet_Establishment_Year</th>\n",
       "      <th>Outlet_Size</th>\n",
       "      <th>Outlet_Location_Type</th>\n",
       "      <th>Outlet_Type</th>\n",
       "    </tr>\n",
       "  </thead>\n",
       "  <tbody>\n",
       "    <tr>\n",
       "      <th>0</th>\n",
       "      <td>FDW58</td>\n",
       "      <td>20.750</td>\n",
       "      <td>Low Fat</td>\n",
       "      <td>0.007565</td>\n",
       "      <td>Snack Foods</td>\n",
       "      <td>107.8622</td>\n",
       "      <td>OUT049</td>\n",
       "      <td>1999</td>\n",
       "      <td>Medium</td>\n",
       "      <td>Tier 1</td>\n",
       "      <td>Supermarket Type1</td>\n",
       "    </tr>\n",
       "    <tr>\n",
       "      <th>1</th>\n",
       "      <td>FDW14</td>\n",
       "      <td>8.300</td>\n",
       "      <td>reg</td>\n",
       "      <td>0.038428</td>\n",
       "      <td>Dairy</td>\n",
       "      <td>87.3198</td>\n",
       "      <td>OUT017</td>\n",
       "      <td>2007</td>\n",
       "      <td>NaN</td>\n",
       "      <td>Tier 2</td>\n",
       "      <td>Supermarket Type1</td>\n",
       "    </tr>\n",
       "    <tr>\n",
       "      <th>2</th>\n",
       "      <td>NCN55</td>\n",
       "      <td>14.600</td>\n",
       "      <td>Low Fat</td>\n",
       "      <td>0.099575</td>\n",
       "      <td>Others</td>\n",
       "      <td>241.7538</td>\n",
       "      <td>OUT010</td>\n",
       "      <td>1998</td>\n",
       "      <td>NaN</td>\n",
       "      <td>Tier 3</td>\n",
       "      <td>Grocery Store</td>\n",
       "    </tr>\n",
       "    <tr>\n",
       "      <th>3</th>\n",
       "      <td>FDQ58</td>\n",
       "      <td>7.315</td>\n",
       "      <td>Low Fat</td>\n",
       "      <td>0.015388</td>\n",
       "      <td>Snack Foods</td>\n",
       "      <td>155.0340</td>\n",
       "      <td>OUT017</td>\n",
       "      <td>2007</td>\n",
       "      <td>NaN</td>\n",
       "      <td>Tier 2</td>\n",
       "      <td>Supermarket Type1</td>\n",
       "    </tr>\n",
       "    <tr>\n",
       "      <th>4</th>\n",
       "      <td>FDY38</td>\n",
       "      <td>NaN</td>\n",
       "      <td>Regular</td>\n",
       "      <td>0.118599</td>\n",
       "      <td>Dairy</td>\n",
       "      <td>234.2300</td>\n",
       "      <td>OUT027</td>\n",
       "      <td>1985</td>\n",
       "      <td>Medium</td>\n",
       "      <td>Tier 3</td>\n",
       "      <td>Supermarket Type3</td>\n",
       "    </tr>\n",
       "  </tbody>\n",
       "</table>\n",
       "</div>"
      ],
      "text/plain": [
       "  Item_Identifier  Item_Weight Item_Fat_Content  Item_Visibility    Item_Type  \\\n",
       "0           FDW58       20.750          Low Fat         0.007565  Snack Foods   \n",
       "1           FDW14        8.300              reg         0.038428        Dairy   \n",
       "2           NCN55       14.600          Low Fat         0.099575       Others   \n",
       "3           FDQ58        7.315          Low Fat         0.015388  Snack Foods   \n",
       "4           FDY38          NaN          Regular         0.118599        Dairy   \n",
       "\n",
       "   Item_MRP Outlet_Identifier  Outlet_Establishment_Year Outlet_Size  \\\n",
       "0  107.8622            OUT049                       1999      Medium   \n",
       "1   87.3198            OUT017                       2007         NaN   \n",
       "2  241.7538            OUT010                       1998         NaN   \n",
       "3  155.0340            OUT017                       2007         NaN   \n",
       "4  234.2300            OUT027                       1985      Medium   \n",
       "\n",
       "  Outlet_Location_Type        Outlet_Type  \n",
       "0               Tier 1  Supermarket Type1  \n",
       "1               Tier 2  Supermarket Type1  \n",
       "2               Tier 3      Grocery Store  \n",
       "3               Tier 2  Supermarket Type1  \n",
       "4               Tier 3  Supermarket Type3  "
      ]
     },
     "execution_count": 80,
     "metadata": {},
     "output_type": "execute_result"
    }
   ],
   "source": [
    "test.head()"
   ]
  },
  {
   "cell_type": "markdown",
   "metadata": {},
   "source": [
    "## Filling in missing data in Test.csv"
   ]
  },
  {
   "cell_type": "code",
   "execution_count": 81,
   "metadata": {},
   "outputs": [
    {
     "name": "stdout",
     "output_type": "stream",
     "text": [
      "<class 'pandas.core.frame.DataFrame'>\n",
      "RangeIndex: 5681 entries, 0 to 5680\n",
      "Data columns (total 11 columns):\n",
      "Item_Identifier              5681 non-null object\n",
      "Item_Weight                  4705 non-null float64\n",
      "Item_Fat_Content             5681 non-null object\n",
      "Item_Visibility              5681 non-null float64\n",
      "Item_Type                    5681 non-null object\n",
      "Item_MRP                     5681 non-null float64\n",
      "Outlet_Identifier            5681 non-null object\n",
      "Outlet_Establishment_Year    5681 non-null int64\n",
      "Outlet_Size                  4075 non-null object\n",
      "Outlet_Location_Type         5681 non-null object\n",
      "Outlet_Type                  5681 non-null object\n",
      "dtypes: float64(3), int64(1), object(7)\n",
      "memory usage: 488.3+ KB\n"
     ]
    }
   ],
   "source": [
    "test.info()"
   ]
  },
  {
   "cell_type": "code",
   "execution_count": 82,
   "metadata": {
    "collapsed": true
   },
   "outputs": [],
   "source": [
    "test['Item_Weight']=\\\n",
    "test.groupby(['Item_Identifier'])['Item_Weight'].ffill().bfill()"
   ]
  },
  {
   "cell_type": "code",
   "execution_count": 83,
   "metadata": {
    "collapsed": true
   },
   "outputs": [],
   "source": [
    "test['Outlet_Size'] = test.groupby('Outlet_Identifier')['Outlet_Size'].ffill().bfill()"
   ]
  },
  {
   "cell_type": "code",
   "execution_count": 84,
   "metadata": {
    "scrolled": true
   },
   "outputs": [
    {
     "name": "stdout",
     "output_type": "stream",
     "text": [
      "<class 'pandas.core.frame.DataFrame'>\n",
      "RangeIndex: 5681 entries, 0 to 5680\n",
      "Data columns (total 11 columns):\n",
      "Item_Identifier              5681 non-null object\n",
      "Item_Weight                  5681 non-null float64\n",
      "Item_Fat_Content             5681 non-null object\n",
      "Item_Visibility              5681 non-null float64\n",
      "Item_Type                    5681 non-null object\n",
      "Item_MRP                     5681 non-null float64\n",
      "Outlet_Identifier            5681 non-null object\n",
      "Outlet_Establishment_Year    5681 non-null int64\n",
      "Outlet_Size                  5678 non-null object\n",
      "Outlet_Location_Type         5681 non-null object\n",
      "Outlet_Type                  5681 non-null object\n",
      "dtypes: float64(3), int64(1), object(7)\n",
      "memory usage: 488.3+ KB\n"
     ]
    }
   ],
   "source": [
    "test.info()"
   ]
  },
  {
   "cell_type": "markdown",
   "metadata": {},
   "source": [
    "## Fixing Weird Labels"
   ]
  },
  {
   "cell_type": "code",
   "execution_count": 85,
   "metadata": {
    "collapsed": true
   },
   "outputs": [],
   "source": [
    "# Since item_identifier is not a feature, we'll use that column as our index\n",
    "test.set_index(['Item_Identifier', 'Outlet_Identifier'], inplace=True)"
   ]
  },
  {
   "cell_type": "code",
   "execution_count": 86,
   "metadata": {},
   "outputs": [
    {
     "data": {
      "text/plain": [
       "Low Fat    3396\n",
       "Regular    1935\n",
       "LF          206\n",
       "reg          78\n",
       "low fat      66\n",
       "Name: Item_Fat_Content, dtype: int64"
      ]
     },
     "execution_count": 86,
     "metadata": {},
     "output_type": "execute_result"
    }
   ],
   "source": [
    "# Have inconsistent labels. Need to make it uniform.\n",
    "\n",
    "test['Item_Fat_Content'].value_counts()"
   ]
  },
  {
   "cell_type": "code",
   "execution_count": 87,
   "metadata": {
    "collapsed": true
   },
   "outputs": [],
   "source": [
    "test['Item_Fat_Content'] = test['Item_Fat_Content'].str.replace('LF', 'Low Fat')\n",
    "test['Item_Fat_Content'] = test['Item_Fat_Content'].str.replace('reg', 'Regular')\n",
    "test['Item_Fat_Content'] = test['Item_Fat_Content'].str.replace('low fat', 'Low Fat')"
   ]
  },
  {
   "cell_type": "code",
   "execution_count": 88,
   "metadata": {},
   "outputs": [
    {
     "data": {
      "text/plain": [
       "Medium    2570\n",
       "Small     2223\n",
       "High       885\n",
       "Name: Outlet_Size, dtype: int64"
      ]
     },
     "execution_count": 88,
     "metadata": {},
     "output_type": "execute_result"
    }
   ],
   "source": [
    "# 3 categories. No inconsistent labels. But unclear naming found. Let's change the label \"high\" to Big.\n",
    "test['Outlet_Size'].value_counts()"
   ]
  },
  {
   "cell_type": "code",
   "execution_count": 89,
   "metadata": {
    "collapsed": true
   },
   "outputs": [],
   "source": [
    "test['Outlet_Size'] = test['Outlet_Size'].str.replace('High', 'Big')"
   ]
  },
  {
   "cell_type": "markdown",
   "metadata": {},
   "source": [
    "## Creating New Features"
   ]
  },
  {
   "cell_type": "code",
   "execution_count": 90,
   "metadata": {
    "collapsed": true
   },
   "outputs": [],
   "source": [
    "test['Item_MRP-2']= test['Item_MRP'] **2\n",
    "test['Item_MRP-3']= test['Item_MRP'] **3\n",
    "test['Item_MRP-sq'] = np.sqrt(test['Item_MRP'])"
   ]
  },
  {
   "cell_type": "markdown",
   "metadata": {},
   "source": [
    "## Encoding Oridinal Features (Categorical)"
   ]
  },
  {
   "cell_type": "code",
   "execution_count": 91,
   "metadata": {
    "collapsed": true
   },
   "outputs": [],
   "source": [
    "test['Item_Fat_Content'] = test['Item_Fat_Content'].replace({'Low Fat': 1, 'Regular':2})"
   ]
  },
  {
   "cell_type": "code",
   "execution_count": 92,
   "metadata": {
    "collapsed": true
   },
   "outputs": [],
   "source": [
    "test['Outlet_Size'] =\\\n",
    "test.Outlet_Size.replace({'Small': 1, 'Medium':2, 'Big':3})"
   ]
  },
  {
   "cell_type": "markdown",
   "metadata": {
    "collapsed": true
   },
   "source": [
    "## Fixing Skewedness and Standardizing Numerical Features "
   ]
  },
  {
   "cell_type": "code",
   "execution_count": 93,
   "metadata": {},
   "outputs": [
    {
     "name": "stdout",
     "output_type": "stream",
     "text": [
      "Numerical features : 9\n",
      "Categorical features : 3\n"
     ]
    }
   ],
   "source": [
    "# Differentiate numerical features (minus the target) and categorical features\n",
    "\n",
    "test_categorical_features = test.select_dtypes(include = [\"object\"]).columns\n",
    "test_numerical_features = test.select_dtypes(exclude = [\"object\"]).columns\n",
    "\n",
    "print(\"Numerical features : \" + str(len(numerical_features)))\n",
    "print(\"Categorical features : \" + str(len(categorical_features)))\n",
    "\n",
    "test_num = test[test_numerical_features]\n",
    "test_cat = test[test_categorical_features]"
   ]
  },
  {
   "cell_type": "code",
   "execution_count": 94,
   "metadata": {
    "collapsed": true
   },
   "outputs": [],
   "source": [
    "# Find nmerical features that have abs(skewness) of over 0.5\n",
    "test_skewness = test_num.apply(lambda x: skew(x))\n",
    "\n",
    "test_skewed = test_skewness.loc[(abs(test_skewness) > 0.5)]\n",
    "test_skewed_features = test_skewed.index"
   ]
  },
  {
   "cell_type": "code",
   "execution_count": 95,
   "metadata": {},
   "outputs": [
    {
     "data": {
      "text/plain": [
       "Index(['Item_Fat_Content', 'Item_Visibility', 'Item_MRP-2', 'Item_MRP-3'], dtype='object')"
      ]
     },
     "execution_count": 95,
     "metadata": {},
     "output_type": "execute_result"
    }
   ],
   "source": [
    "test_skewed_features"
   ]
  },
  {
   "cell_type": "code",
   "execution_count": 96,
   "metadata": {},
   "outputs": [
    {
     "name": "stderr",
     "output_type": "stream",
     "text": [
      "C:\\Users\\Seungjun\\Anaconda3\\lib\\site-packages\\pandas\\core\\frame.py:2450: SettingWithCopyWarning: \n",
      "A value is trying to be set on a copy of a slice from a DataFrame.\n",
      "Try using .loc[row_indexer,col_indexer] = value instead\n",
      "\n",
      "See the caveats in the documentation: http://pandas.pydata.org/pandas-docs/stable/indexing.html#indexing-view-versus-copy\n",
      "  self[k1] = value[k2]\n"
     ]
    }
   ],
   "source": [
    "# sqrt transformation to fix skewedness\n",
    "\n",
    "test_num[test_skewed_features] = np.sqrt(test_num[test_skewed_features])"
   ]
  },
  {
   "cell_type": "code",
   "execution_count": 97,
   "metadata": {},
   "outputs": [
    {
     "name": "stdout",
     "output_type": "stream",
     "text": [
      "-0.09491613782987758\n",
      "0.13614557906208313\n",
      "0.4905987578745139\n"
     ]
    }
   ],
   "source": [
    "# re-measuring skewness of skewed features : skewness of all features have been driven down below abs(0.5)\n",
    "for feature in ['Item_Visibility', 'Item_MRP-2','Item_MRP-3']:\n",
    "    print(skew(test_num[feature]))"
   ]
  },
  {
   "cell_type": "markdown",
   "metadata": {},
   "source": [
    "## Encoding Nominal Features (Categorical, non-ordinal)"
   ]
  },
  {
   "cell_type": "code",
   "execution_count": 98,
   "metadata": {},
   "outputs": [
    {
     "data": {
      "text/plain": [
       "Index(['Item_Type', 'Outlet_Location_Type', 'Outlet_Type'], dtype='object')"
      ]
     },
     "execution_count": 98,
     "metadata": {},
     "output_type": "execute_result"
    }
   ],
   "source": [
    "test_cat.columns"
   ]
  },
  {
   "cell_type": "code",
   "execution_count": 99,
   "metadata": {
    "collapsed": true
   },
   "outputs": [],
   "source": [
    "test_cat = pd.get_dummies(test_cat, columns=['Item_Type','Outlet_Location_Type','Outlet_Type'])"
   ]
  },
  {
   "cell_type": "markdown",
   "metadata": {},
   "source": [
    "## Combining test_cat & test_num into X"
   ]
  },
  {
   "cell_type": "code",
   "execution_count": 100,
   "metadata": {
    "collapsed": true
   },
   "outputs": [],
   "source": [
    "test = pd.concat([test_num, test_cat], axis = 1)"
   ]
  },
  {
   "cell_type": "markdown",
   "metadata": {},
   "source": [
    "## Filling in still remaining NaN"
   ]
  },
  {
   "cell_type": "code",
   "execution_count": 101,
   "metadata": {
    "collapsed": true,
    "scrolled": true
   },
   "outputs": [],
   "source": [
    "test['Outlet_Size'] = test['Outlet_Size'].fillna(test['Outlet_Size'].mean())"
   ]
  },
  {
   "cell_type": "markdown",
   "metadata": {},
   "source": [
    "## Making \"test_x\" from test data"
   ]
  },
  {
   "cell_type": "code",
   "execution_count": 102,
   "metadata": {
    "collapsed": true
   },
   "outputs": [],
   "source": [
    "test_x = test"
   ]
  },
  {
   "cell_type": "code",
   "execution_count": 103,
   "metadata": {
    "collapsed": true
   },
   "outputs": [],
   "source": [
    "# standardizing numerical features of test dataset\n",
    "test_x.loc[:,test_numerical_features] = stdSc.fit_transform(test_x.loc[:,test_numerical_features])"
   ]
  },
  {
   "cell_type": "markdown",
   "metadata": {},
   "source": [
    "## Making the final prediction csv"
   ]
  },
  {
   "cell_type": "code",
   "execution_count": 104,
   "metadata": {
    "collapsed": true,
    "scrolled": true
   },
   "outputs": [],
   "source": [
    "test_x['Item_Outlet_Sales']=\\\n",
    "(elasticNet.predict(test_x))**2"
   ]
  },
  {
   "cell_type": "code",
   "execution_count": 105,
   "metadata": {
    "scrolled": true
   },
   "outputs": [
    {
     "data": {
      "text/html": [
       "<div>\n",
       "<style>\n",
       "    .dataframe thead tr:only-child th {\n",
       "        text-align: right;\n",
       "    }\n",
       "\n",
       "    .dataframe thead th {\n",
       "        text-align: left;\n",
       "    }\n",
       "\n",
       "    .dataframe tbody tr th {\n",
       "        vertical-align: top;\n",
       "    }\n",
       "</style>\n",
       "<table border=\"1\" class=\"dataframe\">\n",
       "  <thead>\n",
       "    <tr style=\"text-align: right;\">\n",
       "      <th></th>\n",
       "      <th></th>\n",
       "      <th>Item_Weight</th>\n",
       "      <th>Item_Fat_Content</th>\n",
       "      <th>Item_Visibility</th>\n",
       "      <th>Item_MRP</th>\n",
       "      <th>Outlet_Establishment_Year</th>\n",
       "      <th>Outlet_Size</th>\n",
       "      <th>Item_MRP-2</th>\n",
       "      <th>Item_MRP-3</th>\n",
       "      <th>Item_MRP-sq</th>\n",
       "      <th>Item_Type_Baking Goods</th>\n",
       "      <th>...</th>\n",
       "      <th>Item_Type_Soft Drinks</th>\n",
       "      <th>Item_Type_Starchy Foods</th>\n",
       "      <th>Outlet_Location_Type_Tier 1</th>\n",
       "      <th>Outlet_Location_Type_Tier 2</th>\n",
       "      <th>Outlet_Location_Type_Tier 3</th>\n",
       "      <th>Outlet_Type_Grocery Store</th>\n",
       "      <th>Outlet_Type_Supermarket Type1</th>\n",
       "      <th>Outlet_Type_Supermarket Type2</th>\n",
       "      <th>Outlet_Type_Supermarket Type3</th>\n",
       "      <th>Item_Outlet_Sales</th>\n",
       "    </tr>\n",
       "    <tr>\n",
       "      <th>Item_Identifier</th>\n",
       "      <th>Outlet_Identifier</th>\n",
       "      <th></th>\n",
       "      <th></th>\n",
       "      <th></th>\n",
       "      <th></th>\n",
       "      <th></th>\n",
       "      <th></th>\n",
       "      <th></th>\n",
       "      <th></th>\n",
       "      <th></th>\n",
       "      <th></th>\n",
       "      <th></th>\n",
       "      <th></th>\n",
       "      <th></th>\n",
       "      <th></th>\n",
       "      <th></th>\n",
       "      <th></th>\n",
       "      <th></th>\n",
       "      <th></th>\n",
       "      <th></th>\n",
       "      <th></th>\n",
       "      <th></th>\n",
       "    </tr>\n",
       "  </thead>\n",
       "  <tbody>\n",
       "    <tr>\n",
       "      <th>FDW58</th>\n",
       "      <th>OUT049</th>\n",
       "      <td>1.723358</td>\n",
       "      <td>-0.740811</td>\n",
       "      <td>-1.370837</td>\n",
       "      <td>-0.536555</td>\n",
       "      <td>0.139891</td>\n",
       "      <td>3.360939e-01</td>\n",
       "      <td>-0.536555</td>\n",
       "      <td>-0.612599</td>\n",
       "      <td>-0.426798</td>\n",
       "      <td>0</td>\n",
       "      <td>...</td>\n",
       "      <td>0</td>\n",
       "      <td>0</td>\n",
       "      <td>1</td>\n",
       "      <td>0</td>\n",
       "      <td>0</td>\n",
       "      <td>0</td>\n",
       "      <td>1</td>\n",
       "      <td>0</td>\n",
       "      <td>0</td>\n",
       "      <td>1695.439134</td>\n",
       "    </tr>\n",
       "    <tr>\n",
       "      <th>FDW14</th>\n",
       "      <th>OUT017</th>\n",
       "      <td>-0.938719</td>\n",
       "      <td>1.349873</td>\n",
       "      <td>-0.347608</td>\n",
       "      <td>-0.868937</td>\n",
       "      <td>1.095512</td>\n",
       "      <td>3.360939e-01</td>\n",
       "      <td>-0.868937</td>\n",
       "      <td>-0.887836</td>\n",
       "      <td>-0.806828</td>\n",
       "      <td>0</td>\n",
       "      <td>...</td>\n",
       "      <td>0</td>\n",
       "      <td>0</td>\n",
       "      <td>0</td>\n",
       "      <td>1</td>\n",
       "      <td>0</td>\n",
       "      <td>0</td>\n",
       "      <td>1</td>\n",
       "      <td>0</td>\n",
       "      <td>0</td>\n",
       "      <td>1365.091041</td>\n",
       "    </tr>\n",
       "    <tr>\n",
       "      <th>NCN55</th>\n",
       "      <th>OUT010</th>\n",
       "      <td>0.408356</td>\n",
       "      <td>-0.740811</td>\n",
       "      <td>0.773872</td>\n",
       "      <td>1.629848</td>\n",
       "      <td>0.020438</td>\n",
       "      <td>3.360939e-01</td>\n",
       "      <td>1.629848</td>\n",
       "      <td>1.774362</td>\n",
       "      <td>1.457630</td>\n",
       "      <td>0</td>\n",
       "      <td>...</td>\n",
       "      <td>0</td>\n",
       "      <td>0</td>\n",
       "      <td>0</td>\n",
       "      <td>0</td>\n",
       "      <td>1</td>\n",
       "      <td>1</td>\n",
       "      <td>0</td>\n",
       "      <td>0</td>\n",
       "      <td>0</td>\n",
       "      <td>1057.552086</td>\n",
       "    </tr>\n",
       "    <tr>\n",
       "      <th>FDQ58</th>\n",
       "      <th>OUT017</th>\n",
       "      <td>-1.149333</td>\n",
       "      <td>-0.740811</td>\n",
       "      <td>-1.022980</td>\n",
       "      <td>0.226697</td>\n",
       "      <td>1.095512</td>\n",
       "      <td>3.360939e-01</td>\n",
       "      <td>0.226697</td>\n",
       "      <td>0.120266</td>\n",
       "      <td>0.327151</td>\n",
       "      <td>0</td>\n",
       "      <td>...</td>\n",
       "      <td>0</td>\n",
       "      <td>0</td>\n",
       "      <td>0</td>\n",
       "      <td>1</td>\n",
       "      <td>0</td>\n",
       "      <td>0</td>\n",
       "      <td>1</td>\n",
       "      <td>0</td>\n",
       "      <td>0</td>\n",
       "      <td>2388.319382</td>\n",
       "    </tr>\n",
       "    <tr>\n",
       "      <th>FDY38</th>\n",
       "      <th>OUT027</th>\n",
       "      <td>-0.617987</td>\n",
       "      <td>1.349873</td>\n",
       "      <td>1.044355</td>\n",
       "      <td>1.508110</td>\n",
       "      <td>-1.532446</td>\n",
       "      <td>3.360939e-01</td>\n",
       "      <td>1.508110</td>\n",
       "      <td>1.616868</td>\n",
       "      <td>1.368620</td>\n",
       "      <td>0</td>\n",
       "      <td>...</td>\n",
       "      <td>0</td>\n",
       "      <td>0</td>\n",
       "      <td>0</td>\n",
       "      <td>0</td>\n",
       "      <td>1</td>\n",
       "      <td>0</td>\n",
       "      <td>0</td>\n",
       "      <td>0</td>\n",
       "      <td>1</td>\n",
       "      <td>5174.589649</td>\n",
       "    </tr>\n",
       "    <tr>\n",
       "      <th>FDH56</th>\n",
       "      <th>OUT046</th>\n",
       "      <td>-0.617987</td>\n",
       "      <td>1.349873</td>\n",
       "      <td>0.183373</td>\n",
       "      <td>-0.386289</td>\n",
       "      <td>-0.099015</td>\n",
       "      <td>-1.090170e+00</td>\n",
       "      <td>-0.386289</td>\n",
       "      <td>-0.478945</td>\n",
       "      <td>-0.266972</td>\n",
       "      <td>0</td>\n",
       "      <td>...</td>\n",
       "      <td>0</td>\n",
       "      <td>0</td>\n",
       "      <td>1</td>\n",
       "      <td>0</td>\n",
       "      <td>0</td>\n",
       "      <td>0</td>\n",
       "      <td>1</td>\n",
       "      <td>0</td>\n",
       "      <td>0</td>\n",
       "      <td>1895.338352</td>\n",
       "    </tr>\n",
       "    <tr>\n",
       "      <th>FDL48</th>\n",
       "      <th>OUT018</th>\n",
       "      <td>1.424008</td>\n",
       "      <td>1.349873</td>\n",
       "      <td>0.509745</td>\n",
       "      <td>-1.471108</td>\n",
       "      <td>1.334417</td>\n",
       "      <td>3.360939e-01</td>\n",
       "      <td>-1.471108</td>\n",
       "      <td>-1.305140</td>\n",
       "      <td>-1.633975</td>\n",
       "      <td>1</td>\n",
       "      <td>...</td>\n",
       "      <td>0</td>\n",
       "      <td>0</td>\n",
       "      <td>0</td>\n",
       "      <td>0</td>\n",
       "      <td>1</td>\n",
       "      <td>0</td>\n",
       "      <td>0</td>\n",
       "      <td>1</td>\n",
       "      <td>0</td>\n",
       "      <td>658.925240</td>\n",
       "    </tr>\n",
       "    <tr>\n",
       "      <th>FDC48</th>\n",
       "      <th>OUT027</th>\n",
       "      <td>-1.365292</td>\n",
       "      <td>-0.740811</td>\n",
       "      <td>-1.008170</td>\n",
       "      <td>-0.970235</td>\n",
       "      <td>-1.532446</td>\n",
       "      <td>3.360939e-01</td>\n",
       "      <td>-0.970235</td>\n",
       "      <td>-0.965778</td>\n",
       "      <td>-0.931374</td>\n",
       "      <td>1</td>\n",
       "      <td>...</td>\n",
       "      <td>0</td>\n",
       "      <td>0</td>\n",
       "      <td>0</td>\n",
       "      <td>0</td>\n",
       "      <td>1</td>\n",
       "      <td>0</td>\n",
       "      <td>0</td>\n",
       "      <td>0</td>\n",
       "      <td>1</td>\n",
       "      <td>2326.525444</td>\n",
       "    </tr>\n",
       "    <tr>\n",
       "      <th>FDN33</th>\n",
       "      <th>OUT045</th>\n",
       "      <td>-1.365292</td>\n",
       "      <td>1.349873</td>\n",
       "      <td>1.108643</td>\n",
       "      <td>-0.732638</td>\n",
       "      <td>0.498248</td>\n",
       "      <td>-1.090170e+00</td>\n",
       "      <td>-0.732638</td>\n",
       "      <td>-0.778489</td>\n",
       "      <td>-0.646095</td>\n",
       "      <td>0</td>\n",
       "      <td>...</td>\n",
       "      <td>0</td>\n",
       "      <td>0</td>\n",
       "      <td>0</td>\n",
       "      <td>1</td>\n",
       "      <td>0</td>\n",
       "      <td>0</td>\n",
       "      <td>1</td>\n",
       "      <td>0</td>\n",
       "      <td>0</td>\n",
       "      <td>1536.276439</td>\n",
       "    </tr>\n",
       "    <tr>\n",
       "      <th>FDA36</th>\n",
       "      <th>OUT017</th>\n",
       "      <td>-1.433715</td>\n",
       "      <td>-0.740811</td>\n",
       "      <td>-1.478627</td>\n",
       "      <td>0.742175</td>\n",
       "      <td>1.095512</td>\n",
       "      <td>-1.090170e+00</td>\n",
       "      <td>0.742175</td>\n",
       "      <td>0.685293</td>\n",
       "      <td>0.772308</td>\n",
       "      <td>1</td>\n",
       "      <td>...</td>\n",
       "      <td>0</td>\n",
       "      <td>0</td>\n",
       "      <td>0</td>\n",
       "      <td>1</td>\n",
       "      <td>0</td>\n",
       "      <td>0</td>\n",
       "      <td>1</td>\n",
       "      <td>0</td>\n",
       "      <td>0</td>\n",
       "      <td>2872.441576</td>\n",
       "    </tr>\n",
       "    <tr>\n",
       "      <th>FDT44</th>\n",
       "      <th>OUT017</th>\n",
       "      <td>0.835999</td>\n",
       "      <td>-0.740811</td>\n",
       "      <td>0.832670</td>\n",
       "      <td>-0.366915</td>\n",
       "      <td>1.095512</td>\n",
       "      <td>-1.090170e+00</td>\n",
       "      <td>-0.366915</td>\n",
       "      <td>-0.461314</td>\n",
       "      <td>-0.246833</td>\n",
       "      <td>0</td>\n",
       "      <td>...</td>\n",
       "      <td>0</td>\n",
       "      <td>0</td>\n",
       "      <td>0</td>\n",
       "      <td>1</td>\n",
       "      <td>0</td>\n",
       "      <td>0</td>\n",
       "      <td>1</td>\n",
       "      <td>0</td>\n",
       "      <td>0</td>\n",
       "      <td>1873.103999</td>\n",
       "    </tr>\n",
       "    <tr>\n",
       "      <th>FDQ56</th>\n",
       "      <th>OUT045</th>\n",
       "      <td>-1.304353</td>\n",
       "      <td>-0.740811</td>\n",
       "      <td>0.865183</td>\n",
       "      <td>-0.900149</td>\n",
       "      <td>0.498248</td>\n",
       "      <td>-1.090170e+00</td>\n",
       "      <td>-0.900149</td>\n",
       "      <td>-0.912159</td>\n",
       "      <td>-0.844713</td>\n",
       "      <td>0</td>\n",
       "      <td>...</td>\n",
       "      <td>0</td>\n",
       "      <td>0</td>\n",
       "      <td>0</td>\n",
       "      <td>1</td>\n",
       "      <td>0</td>\n",
       "      <td>0</td>\n",
       "      <td>1</td>\n",
       "      <td>0</td>\n",
       "      <td>0</td>\n",
       "      <td>1367.235191</td>\n",
       "    </tr>\n",
       "    <tr>\n",
       "      <th>NCC54</th>\n",
       "      <th>OUT019</th>\n",
       "      <td>-1.690301</td>\n",
       "      <td>-0.740811</td>\n",
       "      <td>1.693970</td>\n",
       "      <td>1.608260</td>\n",
       "      <td>-1.532446</td>\n",
       "      <td>-1.090170e+00</td>\n",
       "      <td>1.608260</td>\n",
       "      <td>1.746252</td>\n",
       "      <td>1.441948</td>\n",
       "      <td>0</td>\n",
       "      <td>...</td>\n",
       "      <td>0</td>\n",
       "      <td>0</td>\n",
       "      <td>1</td>\n",
       "      <td>0</td>\n",
       "      <td>0</td>\n",
       "      <td>1</td>\n",
       "      <td>0</td>\n",
       "      <td>0</td>\n",
       "      <td>0</td>\n",
       "      <td>1061.933064</td>\n",
       "    </tr>\n",
       "    <tr>\n",
       "      <th>FDU11</th>\n",
       "      <th>OUT049</th>\n",
       "      <td>-1.690301</td>\n",
       "      <td>-0.740811</td>\n",
       "      <td>0.670413</td>\n",
       "      <td>-0.302789</td>\n",
       "      <td>0.139891</td>\n",
       "      <td>3.360939e-01</td>\n",
       "      <td>-0.302789</td>\n",
       "      <td>-0.402325</td>\n",
       "      <td>-0.180894</td>\n",
       "      <td>0</td>\n",
       "      <td>...</td>\n",
       "      <td>0</td>\n",
       "      <td>0</td>\n",
       "      <td>1</td>\n",
       "      <td>0</td>\n",
       "      <td>0</td>\n",
       "      <td>0</td>\n",
       "      <td>1</td>\n",
       "      <td>0</td>\n",
       "      <td>0</td>\n",
       "      <td>1889.610212</td>\n",
       "    </tr>\n",
       "    <tr>\n",
       "      <th>DRL59</th>\n",
       "      <th>OUT013</th>\n",
       "      <td>0.868072</td>\n",
       "      <td>-0.740811</td>\n",
       "      <td>-0.820552</td>\n",
       "      <td>-1.439939</td>\n",
       "      <td>-1.293541</td>\n",
       "      <td>1.762358e+00</td>\n",
       "      <td>-1.439939</td>\n",
       "      <td>-1.286461</td>\n",
       "      <td>-1.584775</td>\n",
       "      <td>0</td>\n",
       "      <td>...</td>\n",
       "      <td>0</td>\n",
       "      <td>0</td>\n",
       "      <td>0</td>\n",
       "      <td>0</td>\n",
       "      <td>1</td>\n",
       "      <td>0</td>\n",
       "      <td>1</td>\n",
       "      <td>0</td>\n",
       "      <td>0</td>\n",
       "      <td>823.934161</td>\n",
       "    </tr>\n",
       "    <tr>\n",
       "      <th>FDM24</th>\n",
       "      <th>OUT049</th>\n",
       "      <td>-1.401642</td>\n",
       "      <td>1.349873</td>\n",
       "      <td>0.457813</td>\n",
       "      <td>0.171727</td>\n",
       "      <td>0.139891</td>\n",
       "      <td>3.360939e-01</td>\n",
       "      <td>0.171727</td>\n",
       "      <td>0.063182</td>\n",
       "      <td>0.277079</td>\n",
       "      <td>1</td>\n",
       "      <td>...</td>\n",
       "      <td>0</td>\n",
       "      <td>0</td>\n",
       "      <td>1</td>\n",
       "      <td>0</td>\n",
       "      <td>0</td>\n",
       "      <td>0</td>\n",
       "      <td>1</td>\n",
       "      <td>0</td>\n",
       "      <td>0</td>\n",
       "      <td>2375.634042</td>\n",
       "    </tr>\n",
       "    <tr>\n",
       "      <th>FDI57</th>\n",
       "      <th>OUT045</th>\n",
       "      <td>1.530919</td>\n",
       "      <td>-0.740811</td>\n",
       "      <td>-0.003823</td>\n",
       "      <td>0.934468</td>\n",
       "      <td>0.498248</td>\n",
       "      <td>3.360939e-01</td>\n",
       "      <td>0.934468</td>\n",
       "      <td>0.909219</td>\n",
       "      <td>0.928516</td>\n",
       "      <td>0</td>\n",
       "      <td>...</td>\n",
       "      <td>0</td>\n",
       "      <td>0</td>\n",
       "      <td>0</td>\n",
       "      <td>1</td>\n",
       "      <td>0</td>\n",
       "      <td>0</td>\n",
       "      <td>1</td>\n",
       "      <td>0</td>\n",
       "      <td>0</td>\n",
       "      <td>3043.797729</td>\n",
       "    </tr>\n",
       "    <tr>\n",
       "      <th>DRC12</th>\n",
       "      <th>OUT018</th>\n",
       "      <td>1.103276</td>\n",
       "      <td>-0.740811</td>\n",
       "      <td>-0.358330</td>\n",
       "      <td>0.828358</td>\n",
       "      <td>1.334417</td>\n",
       "      <td>3.360939e-01</td>\n",
       "      <td>0.828358</td>\n",
       "      <td>0.784800</td>\n",
       "      <td>0.842914</td>\n",
       "      <td>0</td>\n",
       "      <td>...</td>\n",
       "      <td>1</td>\n",
       "      <td>0</td>\n",
       "      <td>0</td>\n",
       "      <td>0</td>\n",
       "      <td>1</td>\n",
       "      <td>0</td>\n",
       "      <td>0</td>\n",
       "      <td>1</td>\n",
       "      <td>0</td>\n",
       "      <td>2596.594487</td>\n",
       "    </tr>\n",
       "    <tr>\n",
       "      <th>NCM42</th>\n",
       "      <th>OUT027</th>\n",
       "      <td>0.194535</td>\n",
       "      <td>-0.740811</td>\n",
       "      <td>-0.611714</td>\n",
       "      <td>-0.506962</td>\n",
       "      <td>-1.532446</td>\n",
       "      <td>3.360939e-01</td>\n",
       "      <td>-0.506962</td>\n",
       "      <td>-0.586715</td>\n",
       "      <td>-0.394793</td>\n",
       "      <td>0</td>\n",
       "      <td>...</td>\n",
       "      <td>0</td>\n",
       "      <td>0</td>\n",
       "      <td>0</td>\n",
       "      <td>0</td>\n",
       "      <td>1</td>\n",
       "      <td>0</td>\n",
       "      <td>0</td>\n",
       "      <td>0</td>\n",
       "      <td>1</td>\n",
       "      <td>2899.943079</td>\n",
       "    </tr>\n",
       "    <tr>\n",
       "      <th>FDA46</th>\n",
       "      <th>OUT010</th>\n",
       "      <td>0.194535</td>\n",
       "      <td>-0.740811</td>\n",
       "      <td>1.976526</td>\n",
       "      <td>0.852544</td>\n",
       "      <td>0.020438</td>\n",
       "      <td>1.762358e+00</td>\n",
       "      <td>0.852544</td>\n",
       "      <td>0.812975</td>\n",
       "      <td>0.862553</td>\n",
       "      <td>0</td>\n",
       "      <td>...</td>\n",
       "      <td>0</td>\n",
       "      <td>0</td>\n",
       "      <td>0</td>\n",
       "      <td>0</td>\n",
       "      <td>1</td>\n",
       "      <td>1</td>\n",
       "      <td>0</td>\n",
       "      <td>0</td>\n",
       "      <td>0</td>\n",
       "      <td>685.027205</td>\n",
       "    </tr>\n",
       "    <tr>\n",
       "      <th>FDA31</th>\n",
       "      <th>OUT013</th>\n",
       "      <td>-1.195304</td>\n",
       "      <td>-0.740811</td>\n",
       "      <td>0.923876</td>\n",
       "      <td>0.549882</td>\n",
       "      <td>-1.293541</td>\n",
       "      <td>1.762358e+00</td>\n",
       "      <td>0.549882</td>\n",
       "      <td>0.468379</td>\n",
       "      <td>0.611049</td>\n",
       "      <td>0</td>\n",
       "      <td>...</td>\n",
       "      <td>0</td>\n",
       "      <td>0</td>\n",
       "      <td>0</td>\n",
       "      <td>0</td>\n",
       "      <td>1</td>\n",
       "      <td>0</td>\n",
       "      <td>1</td>\n",
       "      <td>0</td>\n",
       "      <td>0</td>\n",
       "      <td>2667.575515</td>\n",
       "    </tr>\n",
       "    <tr>\n",
       "      <th>NCJ31</th>\n",
       "      <th>OUT035</th>\n",
       "      <td>1.391935</td>\n",
       "      <td>-0.740811</td>\n",
       "      <td>1.822725</td>\n",
       "      <td>1.600170</td>\n",
       "      <td>0.737154</td>\n",
       "      <td>-1.090170e+00</td>\n",
       "      <td>1.600170</td>\n",
       "      <td>1.735738</td>\n",
       "      <td>1.436060</td>\n",
       "      <td>0</td>\n",
       "      <td>...</td>\n",
       "      <td>0</td>\n",
       "      <td>0</td>\n",
       "      <td>0</td>\n",
       "      <td>1</td>\n",
       "      <td>0</td>\n",
       "      <td>0</td>\n",
       "      <td>1</td>\n",
       "      <td>0</td>\n",
       "      <td>0</td>\n",
       "      <td>3650.075779</td>\n",
       "    </tr>\n",
       "    <tr>\n",
       "      <th>FDG52</th>\n",
       "      <th>OUT046</th>\n",
       "      <td>0.205226</td>\n",
       "      <td>-0.740811</td>\n",
       "      <td>0.216817</td>\n",
       "      <td>-1.509346</td>\n",
       "      <td>-0.099015</td>\n",
       "      <td>-1.090170e+00</td>\n",
       "      <td>-1.509346</td>\n",
       "      <td>-1.327568</td>\n",
       "      <td>-1.695641</td>\n",
       "      <td>0</td>\n",
       "      <td>...</td>\n",
       "      <td>0</td>\n",
       "      <td>0</td>\n",
       "      <td>1</td>\n",
       "      <td>0</td>\n",
       "      <td>0</td>\n",
       "      <td>0</td>\n",
       "      <td>1</td>\n",
       "      <td>0</td>\n",
       "      <td>0</td>\n",
       "      <td>779.490877</td>\n",
       "    </tr>\n",
       "    <tr>\n",
       "      <th>NCL19</th>\n",
       "      <th>OUT019</th>\n",
       "      <td>1.391935</td>\n",
       "      <td>-0.740811</td>\n",
       "      <td>-0.632453</td>\n",
       "      <td>0.021418</td>\n",
       "      <td>-1.532446</td>\n",
       "      <td>-1.090170e+00</td>\n",
       "      <td>0.021418</td>\n",
       "      <td>-0.089637</td>\n",
       "      <td>0.137225</td>\n",
       "      <td>0</td>\n",
       "      <td>...</td>\n",
       "      <td>0</td>\n",
       "      <td>0</td>\n",
       "      <td>1</td>\n",
       "      <td>0</td>\n",
       "      <td>0</td>\n",
       "      <td>1</td>\n",
       "      <td>0</td>\n",
       "      <td>0</td>\n",
       "      <td>0</td>\n",
       "      <td>372.266135</td>\n",
       "    </tr>\n",
       "    <tr>\n",
       "      <th>FDS10</th>\n",
       "      <th>OUT035</th>\n",
       "      <td>1.391935</td>\n",
       "      <td>-0.740811</td>\n",
       "      <td>-0.427074</td>\n",
       "      <td>0.642495</td>\n",
       "      <td>0.737154</td>\n",
       "      <td>-1.090170e+00</td>\n",
       "      <td>0.642495</td>\n",
       "      <td>0.571960</td>\n",
       "      <td>0.689377</td>\n",
       "      <td>0</td>\n",
       "      <td>...</td>\n",
       "      <td>0</td>\n",
       "      <td>0</td>\n",
       "      <td>0</td>\n",
       "      <td>1</td>\n",
       "      <td>0</td>\n",
       "      <td>0</td>\n",
       "      <td>1</td>\n",
       "      <td>0</td>\n",
       "      <td>0</td>\n",
       "      <td>2786.676443</td>\n",
       "    </tr>\n",
       "    <tr>\n",
       "      <th>FDX22</th>\n",
       "      <th>OUT010</th>\n",
       "      <td>-1.262658</td>\n",
       "      <td>1.349873</td>\n",
       "      <td>-0.346951</td>\n",
       "      <td>1.107856</td>\n",
       "      <td>0.020438</td>\n",
       "      <td>-1.090170e+00</td>\n",
       "      <td>1.107856</td>\n",
       "      <td>1.116964</td>\n",
       "      <td>1.065409</td>\n",
       "      <td>0</td>\n",
       "      <td>...</td>\n",
       "      <td>0</td>\n",
       "      <td>0</td>\n",
       "      <td>0</td>\n",
       "      <td>0</td>\n",
       "      <td>1</td>\n",
       "      <td>1</td>\n",
       "      <td>0</td>\n",
       "      <td>0</td>\n",
       "      <td>0</td>\n",
       "      <td>841.735513</td>\n",
       "    </tr>\n",
       "    <tr>\n",
       "      <th>NCF19</th>\n",
       "      <th>OUT035</th>\n",
       "      <td>0.066242</td>\n",
       "      <td>-0.740811</td>\n",
       "      <td>-0.428997</td>\n",
       "      <td>-1.511559</td>\n",
       "      <td>0.737154</td>\n",
       "      <td>-1.090170e+00</td>\n",
       "      <td>-1.511559</td>\n",
       "      <td>-1.328850</td>\n",
       "      <td>-1.699257</td>\n",
       "      <td>0</td>\n",
       "      <td>...</td>\n",
       "      <td>0</td>\n",
       "      <td>0</td>\n",
       "      <td>0</td>\n",
       "      <td>1</td>\n",
       "      <td>0</td>\n",
       "      <td>0</td>\n",
       "      <td>1</td>\n",
       "      <td>0</td>\n",
       "      <td>0</td>\n",
       "      <td>779.184969</td>\n",
       "    </tr>\n",
       "    <tr>\n",
       "      <th>NCE06</th>\n",
       "      <th>OUT046</th>\n",
       "      <td>-1.467927</td>\n",
       "      <td>-0.740811</td>\n",
       "      <td>0.651054</td>\n",
       "      <td>0.329530</td>\n",
       "      <td>-0.099015</td>\n",
       "      <td>-1.090170e+00</td>\n",
       "      <td>0.329530</td>\n",
       "      <td>0.228736</td>\n",
       "      <td>0.419369</td>\n",
       "      <td>0</td>\n",
       "      <td>...</td>\n",
       "      <td>0</td>\n",
       "      <td>0</td>\n",
       "      <td>1</td>\n",
       "      <td>0</td>\n",
       "      <td>0</td>\n",
       "      <td>0</td>\n",
       "      <td>1</td>\n",
       "      <td>0</td>\n",
       "      <td>0</td>\n",
       "      <td>2480.190989</td>\n",
       "    </tr>\n",
       "    <tr>\n",
       "      <th>DRC27</th>\n",
       "      <th>OUT046</th>\n",
       "      <td>0.237299</td>\n",
       "      <td>-0.740811</td>\n",
       "      <td>0.074756</td>\n",
       "      <td>1.677197</td>\n",
       "      <td>-0.099015</td>\n",
       "      <td>-1.090170e+00</td>\n",
       "      <td>1.677197</td>\n",
       "      <td>1.836289</td>\n",
       "      <td>1.491876</td>\n",
       "      <td>0</td>\n",
       "      <td>...</td>\n",
       "      <td>0</td>\n",
       "      <td>0</td>\n",
       "      <td>1</td>\n",
       "      <td>0</td>\n",
       "      <td>0</td>\n",
       "      <td>0</td>\n",
       "      <td>1</td>\n",
       "      <td>0</td>\n",
       "      <td>0</td>\n",
       "      <td>3654.626339</td>\n",
       "    </tr>\n",
       "    <tr>\n",
       "      <th>FDE21</th>\n",
       "      <th>OUT035</th>\n",
       "      <td>0.023478</td>\n",
       "      <td>-0.740811</td>\n",
       "      <td>-0.765790</td>\n",
       "      <td>-0.395997</td>\n",
       "      <td>0.737154</td>\n",
       "      <td>-1.090170e+00</td>\n",
       "      <td>-0.395997</td>\n",
       "      <td>-0.487746</td>\n",
       "      <td>-0.277102</td>\n",
       "      <td>0</td>\n",
       "      <td>...</td>\n",
       "      <td>0</td>\n",
       "      <td>0</td>\n",
       "      <td>0</td>\n",
       "      <td>1</td>\n",
       "      <td>0</td>\n",
       "      <td>0</td>\n",
       "      <td>1</td>\n",
       "      <td>0</td>\n",
       "      <td>0</td>\n",
       "      <td>1851.138174</td>\n",
       "    </tr>\n",
       "    <tr>\n",
       "      <th>...</th>\n",
       "      <th>...</th>\n",
       "      <td>...</td>\n",
       "      <td>...</td>\n",
       "      <td>...</td>\n",
       "      <td>...</td>\n",
       "      <td>...</td>\n",
       "      <td>...</td>\n",
       "      <td>...</td>\n",
       "      <td>...</td>\n",
       "      <td>...</td>\n",
       "      <td>...</td>\n",
       "      <td>...</td>\n",
       "      <td>...</td>\n",
       "      <td>...</td>\n",
       "      <td>...</td>\n",
       "      <td>...</td>\n",
       "      <td>...</td>\n",
       "      <td>...</td>\n",
       "      <td>...</td>\n",
       "      <td>...</td>\n",
       "      <td>...</td>\n",
       "      <td>...</td>\n",
       "    </tr>\n",
       "    <tr>\n",
       "      <th>FDD23</th>\n",
       "      <th>OUT013</th>\n",
       "      <td>-0.682133</td>\n",
       "      <td>1.349873</td>\n",
       "      <td>-0.117482</td>\n",
       "      <td>0.730807</td>\n",
       "      <td>-1.293541</td>\n",
       "      <td>1.762358e+00</td>\n",
       "      <td>0.730807</td>\n",
       "      <td>0.672272</td>\n",
       "      <td>0.762920</td>\n",
       "      <td>0</td>\n",
       "      <td>...</td>\n",
       "      <td>0</td>\n",
       "      <td>1</td>\n",
       "      <td>0</td>\n",
       "      <td>0</td>\n",
       "      <td>1</td>\n",
       "      <td>0</td>\n",
       "      <td>1</td>\n",
       "      <td>0</td>\n",
       "      <td>0</td>\n",
       "      <td>2860.236756</td>\n",
       "    </tr>\n",
       "    <tr>\n",
       "      <th>FDP32</th>\n",
       "      <th>OUT045</th>\n",
       "      <td>-1.291524</td>\n",
       "      <td>-0.740811</td>\n",
       "      <td>0.594055</td>\n",
       "      <td>-0.230657</td>\n",
       "      <td>0.498248</td>\n",
       "      <td>-1.090170e+00</td>\n",
       "      <td>-0.230657</td>\n",
       "      <td>-0.334819</td>\n",
       "      <td>-0.107986</td>\n",
       "      <td>0</td>\n",
       "      <td>...</td>\n",
       "      <td>0</td>\n",
       "      <td>0</td>\n",
       "      <td>0</td>\n",
       "      <td>1</td>\n",
       "      <td>0</td>\n",
       "      <td>0</td>\n",
       "      <td>1</td>\n",
       "      <td>0</td>\n",
       "      <td>0</td>\n",
       "      <td>1993.432446</td>\n",
       "    </tr>\n",
       "    <tr>\n",
       "      <th>FDO31</th>\n",
       "      <th>OUT035</th>\n",
       "      <td>-1.268004</td>\n",
       "      <td>1.349873</td>\n",
       "      <td>-0.589711</td>\n",
       "      <td>-0.982584</td>\n",
       "      <td>0.737154</td>\n",
       "      <td>-1.090170e+00</td>\n",
       "      <td>-0.982584</td>\n",
       "      <td>-0.975080</td>\n",
       "      <td>-0.946881</td>\n",
       "      <td>0</td>\n",
       "      <td>...</td>\n",
       "      <td>0</td>\n",
       "      <td>0</td>\n",
       "      <td>0</td>\n",
       "      <td>1</td>\n",
       "      <td>0</td>\n",
       "      <td>0</td>\n",
       "      <td>1</td>\n",
       "      <td>0</td>\n",
       "      <td>0</td>\n",
       "      <td>1331.441721</td>\n",
       "    </tr>\n",
       "    <tr>\n",
       "      <th>FDQ57</th>\n",
       "      <th>OUT013</th>\n",
       "      <td>-1.157886</td>\n",
       "      <td>-0.740811</td>\n",
       "      <td>-2.186915</td>\n",
       "      <td>0.057484</td>\n",
       "      <td>-1.293541</td>\n",
       "      <td>1.762358e+00</td>\n",
       "      <td>0.057484</td>\n",
       "      <td>-0.053410</td>\n",
       "      <td>0.171189</td>\n",
       "      <td>0</td>\n",
       "      <td>...</td>\n",
       "      <td>0</td>\n",
       "      <td>0</td>\n",
       "      <td>0</td>\n",
       "      <td>0</td>\n",
       "      <td>1</td>\n",
       "      <td>0</td>\n",
       "      <td>1</td>\n",
       "      <td>0</td>\n",
       "      <td>0</td>\n",
       "      <td>2203.973010</td>\n",
       "    </tr>\n",
       "    <tr>\n",
       "      <th>FDX32</th>\n",
       "      <th>OUT027</th>\n",
       "      <td>0.515267</td>\n",
       "      <td>1.349873</td>\n",
       "      <td>0.770893</td>\n",
       "      <td>0.042964</td>\n",
       "      <td>-1.532446</td>\n",
       "      <td>3.360939e-01</td>\n",
       "      <td>0.042964</td>\n",
       "      <td>-0.068029</td>\n",
       "      <td>0.157547</td>\n",
       "      <td>0</td>\n",
       "      <td>...</td>\n",
       "      <td>0</td>\n",
       "      <td>0</td>\n",
       "      <td>0</td>\n",
       "      <td>0</td>\n",
       "      <td>1</td>\n",
       "      <td>0</td>\n",
       "      <td>0</td>\n",
       "      <td>0</td>\n",
       "      <td>1</td>\n",
       "      <td>3639.197758</td>\n",
       "    </tr>\n",
       "    <tr>\n",
       "      <th>FDC39</th>\n",
       "      <th>OUT027</th>\n",
       "      <td>-1.130089</td>\n",
       "      <td>-0.740811</td>\n",
       "      <td>1.547679</td>\n",
       "      <td>1.080945</td>\n",
       "      <td>-1.532446</td>\n",
       "      <td>3.360939e-01</td>\n",
       "      <td>1.080945</td>\n",
       "      <td>1.084364</td>\n",
       "      <td>1.044395</td>\n",
       "      <td>0</td>\n",
       "      <td>...</td>\n",
       "      <td>0</td>\n",
       "      <td>0</td>\n",
       "      <td>0</td>\n",
       "      <td>0</td>\n",
       "      <td>1</td>\n",
       "      <td>0</td>\n",
       "      <td>0</td>\n",
       "      <td>0</td>\n",
       "      <td>1</td>\n",
       "      <td>4627.706141</td>\n",
       "    </tr>\n",
       "    <tr>\n",
       "      <th>FDU55</th>\n",
       "      <th>OUT046</th>\n",
       "      <td>0.750470</td>\n",
       "      <td>-0.740811</td>\n",
       "      <td>-0.408850</td>\n",
       "      <td>1.946560</td>\n",
       "      <td>-0.099015</td>\n",
       "      <td>-1.090170e+00</td>\n",
       "      <td>1.946560</td>\n",
       "      <td>2.195581</td>\n",
       "      <td>1.682911</td>\n",
       "      <td>0</td>\n",
       "      <td>...</td>\n",
       "      <td>0</td>\n",
       "      <td>0</td>\n",
       "      <td>1</td>\n",
       "      <td>0</td>\n",
       "      <td>0</td>\n",
       "      <td>0</td>\n",
       "      <td>1</td>\n",
       "      <td>0</td>\n",
       "      <td>0</td>\n",
       "      <td>4019.626371</td>\n",
       "    </tr>\n",
       "    <tr>\n",
       "      <th>FDL45</th>\n",
       "      <th>OUT013</th>\n",
       "      <td>0.622178</td>\n",
       "      <td>-0.740811</td>\n",
       "      <td>-0.366158</td>\n",
       "      <td>-0.284010</td>\n",
       "      <td>-1.293541</td>\n",
       "      <td>1.762358e+00</td>\n",
       "      <td>-0.284010</td>\n",
       "      <td>-0.384867</td>\n",
       "      <td>-0.161787</td>\n",
       "      <td>0</td>\n",
       "      <td>...</td>\n",
       "      <td>0</td>\n",
       "      <td>0</td>\n",
       "      <td>0</td>\n",
       "      <td>0</td>\n",
       "      <td>1</td>\n",
       "      <td>0</td>\n",
       "      <td>1</td>\n",
       "      <td>0</td>\n",
       "      <td>0</td>\n",
       "      <td>1888.219162</td>\n",
       "    </tr>\n",
       "    <tr>\n",
       "      <th>DRK37</th>\n",
       "      <th>OUT049</th>\n",
       "      <td>-1.644329</td>\n",
       "      <td>-0.740811</td>\n",
       "      <td>-0.217130</td>\n",
       "      <td>0.773898</td>\n",
       "      <td>0.139891</td>\n",
       "      <td>3.360939e-01</td>\n",
       "      <td>0.773898</td>\n",
       "      <td>0.721758</td>\n",
       "      <td>0.798413</td>\n",
       "      <td>0</td>\n",
       "      <td>...</td>\n",
       "      <td>1</td>\n",
       "      <td>0</td>\n",
       "      <td>1</td>\n",
       "      <td>0</td>\n",
       "      <td>0</td>\n",
       "      <td>0</td>\n",
       "      <td>1</td>\n",
       "      <td>0</td>\n",
       "      <td>0</td>\n",
       "      <td>2883.639827</td>\n",
       "    </tr>\n",
       "    <tr>\n",
       "      <th>FDK22</th>\n",
       "      <th>OUT013</th>\n",
       "      <td>-0.617987</td>\n",
       "      <td>-0.740811</td>\n",
       "      <td>-0.672101</td>\n",
       "      <td>1.203193</td>\n",
       "      <td>-1.293541</td>\n",
       "      <td>1.762358e+00</td>\n",
       "      <td>1.203193</td>\n",
       "      <td>1.233495</td>\n",
       "      <td>1.139189</td>\n",
       "      <td>0</td>\n",
       "      <td>...</td>\n",
       "      <td>0</td>\n",
       "      <td>0</td>\n",
       "      <td>0</td>\n",
       "      <td>0</td>\n",
       "      <td>1</td>\n",
       "      <td>0</td>\n",
       "      <td>1</td>\n",
       "      <td>0</td>\n",
       "      <td>0</td>\n",
       "      <td>3241.997054</td>\n",
       "    </tr>\n",
       "    <tr>\n",
       "      <th>DRG37</th>\n",
       "      <th>OUT027</th>\n",
       "      <td>0.750470</td>\n",
       "      <td>-0.740811</td>\n",
       "      <td>-2.186915</td>\n",
       "      <td>0.239046</td>\n",
       "      <td>-1.532446</td>\n",
       "      <td>3.360939e-01</td>\n",
       "      <td>0.239046</td>\n",
       "      <td>0.133177</td>\n",
       "      <td>0.338324</td>\n",
       "      <td>0</td>\n",
       "      <td>...</td>\n",
       "      <td>1</td>\n",
       "      <td>0</td>\n",
       "      <td>0</td>\n",
       "      <td>0</td>\n",
       "      <td>1</td>\n",
       "      <td>0</td>\n",
       "      <td>0</td>\n",
       "      <td>0</td>\n",
       "      <td>1</td>\n",
       "      <td>3792.628142</td>\n",
       "    </tr>\n",
       "    <tr>\n",
       "      <th>FDK22</th>\n",
       "      <th>OUT017</th>\n",
       "      <td>-0.617987</td>\n",
       "      <td>-0.740811</td>\n",
       "      <td>-0.667191</td>\n",
       "      <td>1.187013</td>\n",
       "      <td>1.095512</td>\n",
       "      <td>3.360939e-01</td>\n",
       "      <td>1.187013</td>\n",
       "      <td>1.213604</td>\n",
       "      <td>1.126739</td>\n",
       "      <td>0</td>\n",
       "      <td>...</td>\n",
       "      <td>0</td>\n",
       "      <td>0</td>\n",
       "      <td>0</td>\n",
       "      <td>1</td>\n",
       "      <td>0</td>\n",
       "      <td>0</td>\n",
       "      <td>1</td>\n",
       "      <td>0</td>\n",
       "      <td>0</td>\n",
       "      <td>3269.564558</td>\n",
       "    </tr>\n",
       "    <tr>\n",
       "      <th>DRH36</th>\n",
       "      <th>OUT018</th>\n",
       "      <td>0.750470</td>\n",
       "      <td>-0.740811</td>\n",
       "      <td>-0.469171</td>\n",
       "      <td>-1.102745</td>\n",
       "      <td>1.334417</td>\n",
       "      <td>3.360939e-01</td>\n",
       "      <td>-1.102745</td>\n",
       "      <td>-1.063256</td>\n",
       "      <td>-1.101801</td>\n",
       "      <td>0</td>\n",
       "      <td>...</td>\n",
       "      <td>1</td>\n",
       "      <td>0</td>\n",
       "      <td>0</td>\n",
       "      <td>0</td>\n",
       "      <td>1</td>\n",
       "      <td>0</td>\n",
       "      <td>0</td>\n",
       "      <td>1</td>\n",
       "      <td>0</td>\n",
       "      <td>945.019656</td>\n",
       "    </tr>\n",
       "    <tr>\n",
       "      <th>DRC36</th>\n",
       "      <th>OUT018</th>\n",
       "      <td>0.066242</td>\n",
       "      <td>1.349873</td>\n",
       "      <td>-0.192809</td>\n",
       "      <td>0.523952</td>\n",
       "      <td>1.334417</td>\n",
       "      <td>3.360939e-01</td>\n",
       "      <td>0.523952</td>\n",
       "      <td>0.439677</td>\n",
       "      <td>0.588889</td>\n",
       "      <td>0</td>\n",
       "      <td>...</td>\n",
       "      <td>1</td>\n",
       "      <td>0</td>\n",
       "      <td>0</td>\n",
       "      <td>0</td>\n",
       "      <td>1</td>\n",
       "      <td>0</td>\n",
       "      <td>0</td>\n",
       "      <td>1</td>\n",
       "      <td>0</td>\n",
       "      <td>2376.769764</td>\n",
       "    </tr>\n",
       "    <tr>\n",
       "      <th>DRE03</th>\n",
       "      <th>OUT027</th>\n",
       "      <td>1.477463</td>\n",
       "      <td>-0.740811</td>\n",
       "      <td>-0.730024</td>\n",
       "      <td>-1.536341</td>\n",
       "      <td>-1.532446</td>\n",
       "      <td>3.360939e-01</td>\n",
       "      <td>-1.536341</td>\n",
       "      <td>-1.343073</td>\n",
       "      <td>-1.740101</td>\n",
       "      <td>0</td>\n",
       "      <td>...</td>\n",
       "      <td>0</td>\n",
       "      <td>0</td>\n",
       "      <td>0</td>\n",
       "      <td>0</td>\n",
       "      <td>1</td>\n",
       "      <td>0</td>\n",
       "      <td>0</td>\n",
       "      <td>0</td>\n",
       "      <td>1</td>\n",
       "      <td>1547.265658</td>\n",
       "    </tr>\n",
       "    <tr>\n",
       "      <th>FDF34</th>\n",
       "      <th>OUT046</th>\n",
       "      <td>-0.724897</td>\n",
       "      <td>1.349873</td>\n",
       "      <td>-1.075959</td>\n",
       "      <td>0.904237</td>\n",
       "      <td>-0.099015</td>\n",
       "      <td>-1.090170e+00</td>\n",
       "      <td>0.904237</td>\n",
       "      <td>0.873559</td>\n",
       "      <td>0.904274</td>\n",
       "      <td>0</td>\n",
       "      <td>...</td>\n",
       "      <td>0</td>\n",
       "      <td>0</td>\n",
       "      <td>1</td>\n",
       "      <td>0</td>\n",
       "      <td>0</td>\n",
       "      <td>0</td>\n",
       "      <td>1</td>\n",
       "      <td>0</td>\n",
       "      <td>0</td>\n",
       "      <td>3075.792229</td>\n",
       "    </tr>\n",
       "    <tr>\n",
       "      <th>FDZ22</th>\n",
       "      <th>OUT046</th>\n",
       "      <td>-0.704584</td>\n",
       "      <td>-0.740811</td>\n",
       "      <td>-0.190564</td>\n",
       "      <td>-0.952990</td>\n",
       "      <td>-0.099015</td>\n",
       "      <td>-1.090170e+00</td>\n",
       "      <td>-0.952990</td>\n",
       "      <td>-0.952715</td>\n",
       "      <td>-0.909840</td>\n",
       "      <td>0</td>\n",
       "      <td>...</td>\n",
       "      <td>0</td>\n",
       "      <td>0</td>\n",
       "      <td>1</td>\n",
       "      <td>0</td>\n",
       "      <td>0</td>\n",
       "      <td>0</td>\n",
       "      <td>1</td>\n",
       "      <td>0</td>\n",
       "      <td>0</td>\n",
       "      <td>1301.098637</td>\n",
       "    </tr>\n",
       "    <tr>\n",
       "      <th>FDC44</th>\n",
       "      <th>OUT010</th>\n",
       "      <td>0.622178</td>\n",
       "      <td>-0.740811</td>\n",
       "      <td>2.856210</td>\n",
       "      <td>-0.418608</td>\n",
       "      <td>0.020438</td>\n",
       "      <td>3.360939e-01</td>\n",
       "      <td>-0.418608</td>\n",
       "      <td>-0.508154</td>\n",
       "      <td>-0.300796</td>\n",
       "      <td>0</td>\n",
       "      <td>...</td>\n",
       "      <td>0</td>\n",
       "      <td>0</td>\n",
       "      <td>0</td>\n",
       "      <td>0</td>\n",
       "      <td>1</td>\n",
       "      <td>1</td>\n",
       "      <td>0</td>\n",
       "      <td>0</td>\n",
       "      <td>0</td>\n",
       "      <td>208.816852</td>\n",
       "    </tr>\n",
       "    <tr>\n",
       "      <th>FDN31</th>\n",
       "      <th>OUT027</th>\n",
       "      <td>-0.254490</td>\n",
       "      <td>-0.740811</td>\n",
       "      <td>0.339978</td>\n",
       "      <td>0.760954</td>\n",
       "      <td>-1.532446</td>\n",
       "      <td>3.360939e-01</td>\n",
       "      <td>0.760954</td>\n",
       "      <td>0.706856</td>\n",
       "      <td>0.787778</td>\n",
       "      <td>0</td>\n",
       "      <td>...</td>\n",
       "      <td>0</td>\n",
       "      <td>0</td>\n",
       "      <td>0</td>\n",
       "      <td>0</td>\n",
       "      <td>1</td>\n",
       "      <td>0</td>\n",
       "      <td>0</td>\n",
       "      <td>0</td>\n",
       "      <td>1</td>\n",
       "      <td>4406.329782</td>\n",
       "    </tr>\n",
       "    <tr>\n",
       "      <th>FDO03</th>\n",
       "      <th>OUT017</th>\n",
       "      <td>-0.490763</td>\n",
       "      <td>1.349873</td>\n",
       "      <td>-0.379866</td>\n",
       "      <td>1.430529</td>\n",
       "      <td>1.095512</td>\n",
       "      <td>3.360939e-01</td>\n",
       "      <td>1.430529</td>\n",
       "      <td>1.517806</td>\n",
       "      <td>1.311148</td>\n",
       "      <td>0</td>\n",
       "      <td>...</td>\n",
       "      <td>0</td>\n",
       "      <td>0</td>\n",
       "      <td>0</td>\n",
       "      <td>1</td>\n",
       "      <td>0</td>\n",
       "      <td>0</td>\n",
       "      <td>1</td>\n",
       "      <td>0</td>\n",
       "      <td>0</td>\n",
       "      <td>3548.865075</td>\n",
       "    </tr>\n",
       "    <tr>\n",
       "      <th>FDA01</th>\n",
       "      <th>OUT049</th>\n",
       "      <td>0.493885</td>\n",
       "      <td>1.349873</td>\n",
       "      <td>0.002772</td>\n",
       "      <td>-1.317606</td>\n",
       "      <td>0.139891</td>\n",
       "      <td>3.360939e-01</td>\n",
       "      <td>-1.317606</td>\n",
       "      <td>-1.209834</td>\n",
       "      <td>-1.399968</td>\n",
       "      <td>0</td>\n",
       "      <td>...</td>\n",
       "      <td>0</td>\n",
       "      <td>0</td>\n",
       "      <td>1</td>\n",
       "      <td>0</td>\n",
       "      <td>0</td>\n",
       "      <td>0</td>\n",
       "      <td>1</td>\n",
       "      <td>0</td>\n",
       "      <td>0</td>\n",
       "      <td>987.808289</td>\n",
       "    </tr>\n",
       "    <tr>\n",
       "      <th>NCH42</th>\n",
       "      <th>OUT049</th>\n",
       "      <td>-1.246622</td>\n",
       "      <td>-0.740811</td>\n",
       "      <td>-0.392025</td>\n",
       "      <td>1.457482</td>\n",
       "      <td>0.139891</td>\n",
       "      <td>3.360939e-01</td>\n",
       "      <td>1.457482</td>\n",
       "      <td>1.552105</td>\n",
       "      <td>1.331183</td>\n",
       "      <td>0</td>\n",
       "      <td>...</td>\n",
       "      <td>0</td>\n",
       "      <td>0</td>\n",
       "      <td>1</td>\n",
       "      <td>0</td>\n",
       "      <td>0</td>\n",
       "      <td>0</td>\n",
       "      <td>1</td>\n",
       "      <td>0</td>\n",
       "      <td>0</td>\n",
       "      <td>3512.017083</td>\n",
       "    </tr>\n",
       "    <tr>\n",
       "      <th>FDF46</th>\n",
       "      <th>OUT018</th>\n",
       "      <td>-1.201719</td>\n",
       "      <td>-0.740811</td>\n",
       "      <td>0.690602</td>\n",
       "      <td>-0.403534</td>\n",
       "      <td>1.334417</td>\n",
       "      <td>3.360939e-01</td>\n",
       "      <td>-0.403534</td>\n",
       "      <td>-0.494562</td>\n",
       "      <td>-0.284984</td>\n",
       "      <td>0</td>\n",
       "      <td>...</td>\n",
       "      <td>0</td>\n",
       "      <td>0</td>\n",
       "      <td>0</td>\n",
       "      <td>0</td>\n",
       "      <td>1</td>\n",
       "      <td>0</td>\n",
       "      <td>0</td>\n",
       "      <td>1</td>\n",
       "      <td>0</td>\n",
       "      <td>1527.225983</td>\n",
       "    </tr>\n",
       "    <tr>\n",
       "      <th>DRL35</th>\n",
       "      <th>OUT046</th>\n",
       "      <td>0.643560</td>\n",
       "      <td>-0.740811</td>\n",
       "      <td>-0.542820</td>\n",
       "      <td>-1.581561</td>\n",
       "      <td>-0.099015</td>\n",
       "      <td>-1.090170e+00</td>\n",
       "      <td>-1.581561</td>\n",
       "      <td>-1.368419</td>\n",
       "      <td>-1.816422</td>\n",
       "      <td>0</td>\n",
       "      <td>...</td>\n",
       "      <td>0</td>\n",
       "      <td>0</td>\n",
       "      <td>1</td>\n",
       "      <td>0</td>\n",
       "      <td>0</td>\n",
       "      <td>0</td>\n",
       "      <td>1</td>\n",
       "      <td>0</td>\n",
       "      <td>0</td>\n",
       "      <td>714.334998</td>\n",
       "    </tr>\n",
       "    <tr>\n",
       "      <th>FDW46</th>\n",
       "      <th>OUT049</th>\n",
       "      <td>0.066242</td>\n",
       "      <td>1.349873</td>\n",
       "      <td>0.302815</td>\n",
       "      <td>-1.255183</td>\n",
       "      <td>0.139891</td>\n",
       "      <td>3.360939e-01</td>\n",
       "      <td>-1.255183</td>\n",
       "      <td>-1.168776</td>\n",
       "      <td>-1.310189</td>\n",
       "      <td>0</td>\n",
       "      <td>...</td>\n",
       "      <td>0</td>\n",
       "      <td>0</td>\n",
       "      <td>1</td>\n",
       "      <td>0</td>\n",
       "      <td>0</td>\n",
       "      <td>0</td>\n",
       "      <td>1</td>\n",
       "      <td>0</td>\n",
       "      <td>0</td>\n",
       "      <td>1044.401101</td>\n",
       "    </tr>\n",
       "    <tr>\n",
       "      <th>FDB58</th>\n",
       "      <th>OUT046</th>\n",
       "      <td>-0.468312</td>\n",
       "      <td>1.349873</td>\n",
       "      <td>-1.096876</td>\n",
       "      <td>0.004727</td>\n",
       "      <td>-0.099015</td>\n",
       "      <td>-1.090170e+00</td>\n",
       "      <td>0.004727</td>\n",
       "      <td>-0.106307</td>\n",
       "      <td>0.121417</td>\n",
       "      <td>0</td>\n",
       "      <td>...</td>\n",
       "      <td>0</td>\n",
       "      <td>0</td>\n",
       "      <td>1</td>\n",
       "      <td>0</td>\n",
       "      <td>0</td>\n",
       "      <td>0</td>\n",
       "      <td>1</td>\n",
       "      <td>0</td>\n",
       "      <td>0</td>\n",
       "      <td>2240.796447</td>\n",
       "    </tr>\n",
       "    <tr>\n",
       "      <th>FDD47</th>\n",
       "      <th>OUT018</th>\n",
       "      <td>-1.088394</td>\n",
       "      <td>1.349873</td>\n",
       "      <td>1.361107</td>\n",
       "      <td>0.455014</td>\n",
       "      <td>1.334417</td>\n",
       "      <td>3.360939e-01</td>\n",
       "      <td>0.455014</td>\n",
       "      <td>0.364017</td>\n",
       "      <td>0.529474</td>\n",
       "      <td>0</td>\n",
       "      <td>...</td>\n",
       "      <td>0</td>\n",
       "      <td>1</td>\n",
       "      <td>0</td>\n",
       "      <td>0</td>\n",
       "      <td>1</td>\n",
       "      <td>0</td>\n",
       "      <td>0</td>\n",
       "      <td>1</td>\n",
       "      <td>0</td>\n",
       "      <td>2303.592727</td>\n",
       "    </tr>\n",
       "    <tr>\n",
       "      <th>NCO17</th>\n",
       "      <th>OUT045</th>\n",
       "      <td>-0.575222</td>\n",
       "      <td>-0.740811</td>\n",
       "      <td>0.357337</td>\n",
       "      <td>-0.360485</td>\n",
       "      <td>0.498248</td>\n",
       "      <td>-3.166942e-16</td>\n",
       "      <td>-0.360485</td>\n",
       "      <td>-0.455443</td>\n",
       "      <td>-0.240172</td>\n",
       "      <td>0</td>\n",
       "      <td>...</td>\n",
       "      <td>0</td>\n",
       "      <td>0</td>\n",
       "      <td>0</td>\n",
       "      <td>1</td>\n",
       "      <td>0</td>\n",
       "      <td>0</td>\n",
       "      <td>1</td>\n",
       "      <td>0</td>\n",
       "      <td>0</td>\n",
       "      <td>1843.683374</td>\n",
       "    </tr>\n",
       "    <tr>\n",
       "      <th>FDJ26</th>\n",
       "      <th>OUT017</th>\n",
       "      <td>0.558031</td>\n",
       "      <td>1.349873</td>\n",
       "      <td>-2.186915</td>\n",
       "      <td>1.190844</td>\n",
       "      <td>1.095512</td>\n",
       "      <td>-3.166942e-16</td>\n",
       "      <td>1.190844</td>\n",
       "      <td>1.218310</td>\n",
       "      <td>1.129689</td>\n",
       "      <td>0</td>\n",
       "      <td>...</td>\n",
       "      <td>0</td>\n",
       "      <td>0</td>\n",
       "      <td>0</td>\n",
       "      <td>1</td>\n",
       "      <td>0</td>\n",
       "      <td>0</td>\n",
       "      <td>1</td>\n",
       "      <td>0</td>\n",
       "      <td>0</td>\n",
       "      <td>3348.460542</td>\n",
       "    </tr>\n",
       "    <tr>\n",
       "      <th>FDU37</th>\n",
       "      <th>OUT045</th>\n",
       "      <td>-0.682133</td>\n",
       "      <td>1.349873</td>\n",
       "      <td>0.849403</td>\n",
       "      <td>-0.990674</td>\n",
       "      <td>0.498248</td>\n",
       "      <td>-3.166942e-16</td>\n",
       "      <td>-0.990674</td>\n",
       "      <td>-0.981150</td>\n",
       "      <td>-0.957080</td>\n",
       "      <td>0</td>\n",
       "      <td>...</td>\n",
       "      <td>0</td>\n",
       "      <td>0</td>\n",
       "      <td>0</td>\n",
       "      <td>1</td>\n",
       "      <td>0</td>\n",
       "      <td>0</td>\n",
       "      <td>1</td>\n",
       "      <td>0</td>\n",
       "      <td>0</td>\n",
       "      <td>1292.610173</td>\n",
       "    </tr>\n",
       "  </tbody>\n",
       "</table>\n",
       "<p>5681 rows × 33 columns</p>\n",
       "</div>"
      ],
      "text/plain": [
       "                                   Item_Weight  Item_Fat_Content  \\\n",
       "Item_Identifier Outlet_Identifier                                  \n",
       "FDW58           OUT049                1.723358         -0.740811   \n",
       "FDW14           OUT017               -0.938719          1.349873   \n",
       "NCN55           OUT010                0.408356         -0.740811   \n",
       "FDQ58           OUT017               -1.149333         -0.740811   \n",
       "FDY38           OUT027               -0.617987          1.349873   \n",
       "FDH56           OUT046               -0.617987          1.349873   \n",
       "FDL48           OUT018                1.424008          1.349873   \n",
       "FDC48           OUT027               -1.365292         -0.740811   \n",
       "FDN33           OUT045               -1.365292          1.349873   \n",
       "FDA36           OUT017               -1.433715         -0.740811   \n",
       "FDT44           OUT017                0.835999         -0.740811   \n",
       "FDQ56           OUT045               -1.304353         -0.740811   \n",
       "NCC54           OUT019               -1.690301         -0.740811   \n",
       "FDU11           OUT049               -1.690301         -0.740811   \n",
       "DRL59           OUT013                0.868072         -0.740811   \n",
       "FDM24           OUT049               -1.401642          1.349873   \n",
       "FDI57           OUT045                1.530919         -0.740811   \n",
       "DRC12           OUT018                1.103276         -0.740811   \n",
       "NCM42           OUT027                0.194535         -0.740811   \n",
       "FDA46           OUT010                0.194535         -0.740811   \n",
       "FDA31           OUT013               -1.195304         -0.740811   \n",
       "NCJ31           OUT035                1.391935         -0.740811   \n",
       "FDG52           OUT046                0.205226         -0.740811   \n",
       "NCL19           OUT019                1.391935         -0.740811   \n",
       "FDS10           OUT035                1.391935         -0.740811   \n",
       "FDX22           OUT010               -1.262658          1.349873   \n",
       "NCF19           OUT035                0.066242         -0.740811   \n",
       "NCE06           OUT046               -1.467927         -0.740811   \n",
       "DRC27           OUT046                0.237299         -0.740811   \n",
       "FDE21           OUT035                0.023478         -0.740811   \n",
       "...                                        ...               ...   \n",
       "FDD23           OUT013               -0.682133          1.349873   \n",
       "FDP32           OUT045               -1.291524         -0.740811   \n",
       "FDO31           OUT035               -1.268004          1.349873   \n",
       "FDQ57           OUT013               -1.157886         -0.740811   \n",
       "FDX32           OUT027                0.515267          1.349873   \n",
       "FDC39           OUT027               -1.130089         -0.740811   \n",
       "FDU55           OUT046                0.750470         -0.740811   \n",
       "FDL45           OUT013                0.622178         -0.740811   \n",
       "DRK37           OUT049               -1.644329         -0.740811   \n",
       "FDK22           OUT013               -0.617987         -0.740811   \n",
       "DRG37           OUT027                0.750470         -0.740811   \n",
       "FDK22           OUT017               -0.617987         -0.740811   \n",
       "DRH36           OUT018                0.750470         -0.740811   \n",
       "DRC36           OUT018                0.066242          1.349873   \n",
       "DRE03           OUT027                1.477463         -0.740811   \n",
       "FDF34           OUT046               -0.724897          1.349873   \n",
       "FDZ22           OUT046               -0.704584         -0.740811   \n",
       "FDC44           OUT010                0.622178         -0.740811   \n",
       "FDN31           OUT027               -0.254490         -0.740811   \n",
       "FDO03           OUT017               -0.490763          1.349873   \n",
       "FDA01           OUT049                0.493885          1.349873   \n",
       "NCH42           OUT049               -1.246622         -0.740811   \n",
       "FDF46           OUT018               -1.201719         -0.740811   \n",
       "DRL35           OUT046                0.643560         -0.740811   \n",
       "FDW46           OUT049                0.066242          1.349873   \n",
       "FDB58           OUT046               -0.468312          1.349873   \n",
       "FDD47           OUT018               -1.088394          1.349873   \n",
       "NCO17           OUT045               -0.575222         -0.740811   \n",
       "FDJ26           OUT017                0.558031          1.349873   \n",
       "FDU37           OUT045               -0.682133          1.349873   \n",
       "\n",
       "                                   Item_Visibility  Item_MRP  \\\n",
       "Item_Identifier Outlet_Identifier                              \n",
       "FDW58           OUT049                   -1.370837 -0.536555   \n",
       "FDW14           OUT017                   -0.347608 -0.868937   \n",
       "NCN55           OUT010                    0.773872  1.629848   \n",
       "FDQ58           OUT017                   -1.022980  0.226697   \n",
       "FDY38           OUT027                    1.044355  1.508110   \n",
       "FDH56           OUT046                    0.183373 -0.386289   \n",
       "FDL48           OUT018                    0.509745 -1.471108   \n",
       "FDC48           OUT027                   -1.008170 -0.970235   \n",
       "FDN33           OUT045                    1.108643 -0.732638   \n",
       "FDA36           OUT017                   -1.478627  0.742175   \n",
       "FDT44           OUT017                    0.832670 -0.366915   \n",
       "FDQ56           OUT045                    0.865183 -0.900149   \n",
       "NCC54           OUT019                    1.693970  1.608260   \n",
       "FDU11           OUT049                    0.670413 -0.302789   \n",
       "DRL59           OUT013                   -0.820552 -1.439939   \n",
       "FDM24           OUT049                    0.457813  0.171727   \n",
       "FDI57           OUT045                   -0.003823  0.934468   \n",
       "DRC12           OUT018                   -0.358330  0.828358   \n",
       "NCM42           OUT027                   -0.611714 -0.506962   \n",
       "FDA46           OUT010                    1.976526  0.852544   \n",
       "FDA31           OUT013                    0.923876  0.549882   \n",
       "NCJ31           OUT035                    1.822725  1.600170   \n",
       "FDG52           OUT046                    0.216817 -1.509346   \n",
       "NCL19           OUT019                   -0.632453  0.021418   \n",
       "FDS10           OUT035                   -0.427074  0.642495   \n",
       "FDX22           OUT010                   -0.346951  1.107856   \n",
       "NCF19           OUT035                   -0.428997 -1.511559   \n",
       "NCE06           OUT046                    0.651054  0.329530   \n",
       "DRC27           OUT046                    0.074756  1.677197   \n",
       "FDE21           OUT035                   -0.765790 -0.395997   \n",
       "...                                            ...       ...   \n",
       "FDD23           OUT013                   -0.117482  0.730807   \n",
       "FDP32           OUT045                    0.594055 -0.230657   \n",
       "FDO31           OUT035                   -0.589711 -0.982584   \n",
       "FDQ57           OUT013                   -2.186915  0.057484   \n",
       "FDX32           OUT027                    0.770893  0.042964   \n",
       "FDC39           OUT027                    1.547679  1.080945   \n",
       "FDU55           OUT046                   -0.408850  1.946560   \n",
       "FDL45           OUT013                   -0.366158 -0.284010   \n",
       "DRK37           OUT049                   -0.217130  0.773898   \n",
       "FDK22           OUT013                   -0.672101  1.203193   \n",
       "DRG37           OUT027                   -2.186915  0.239046   \n",
       "FDK22           OUT017                   -0.667191  1.187013   \n",
       "DRH36           OUT018                   -0.469171 -1.102745   \n",
       "DRC36           OUT018                   -0.192809  0.523952   \n",
       "DRE03           OUT027                   -0.730024 -1.536341   \n",
       "FDF34           OUT046                   -1.075959  0.904237   \n",
       "FDZ22           OUT046                   -0.190564 -0.952990   \n",
       "FDC44           OUT010                    2.856210 -0.418608   \n",
       "FDN31           OUT027                    0.339978  0.760954   \n",
       "FDO03           OUT017                   -0.379866  1.430529   \n",
       "FDA01           OUT049                    0.002772 -1.317606   \n",
       "NCH42           OUT049                   -0.392025  1.457482   \n",
       "FDF46           OUT018                    0.690602 -0.403534   \n",
       "DRL35           OUT046                   -0.542820 -1.581561   \n",
       "FDW46           OUT049                    0.302815 -1.255183   \n",
       "FDB58           OUT046                   -1.096876  0.004727   \n",
       "FDD47           OUT018                    1.361107  0.455014   \n",
       "NCO17           OUT045                    0.357337 -0.360485   \n",
       "FDJ26           OUT017                   -2.186915  1.190844   \n",
       "FDU37           OUT045                    0.849403 -0.990674   \n",
       "\n",
       "                                   Outlet_Establishment_Year   Outlet_Size  \\\n",
       "Item_Identifier Outlet_Identifier                                            \n",
       "FDW58           OUT049                              0.139891  3.360939e-01   \n",
       "FDW14           OUT017                              1.095512  3.360939e-01   \n",
       "NCN55           OUT010                              0.020438  3.360939e-01   \n",
       "FDQ58           OUT017                              1.095512  3.360939e-01   \n",
       "FDY38           OUT027                             -1.532446  3.360939e-01   \n",
       "FDH56           OUT046                             -0.099015 -1.090170e+00   \n",
       "FDL48           OUT018                              1.334417  3.360939e-01   \n",
       "FDC48           OUT027                             -1.532446  3.360939e-01   \n",
       "FDN33           OUT045                              0.498248 -1.090170e+00   \n",
       "FDA36           OUT017                              1.095512 -1.090170e+00   \n",
       "FDT44           OUT017                              1.095512 -1.090170e+00   \n",
       "FDQ56           OUT045                              0.498248 -1.090170e+00   \n",
       "NCC54           OUT019                             -1.532446 -1.090170e+00   \n",
       "FDU11           OUT049                              0.139891  3.360939e-01   \n",
       "DRL59           OUT013                             -1.293541  1.762358e+00   \n",
       "FDM24           OUT049                              0.139891  3.360939e-01   \n",
       "FDI57           OUT045                              0.498248  3.360939e-01   \n",
       "DRC12           OUT018                              1.334417  3.360939e-01   \n",
       "NCM42           OUT027                             -1.532446  3.360939e-01   \n",
       "FDA46           OUT010                              0.020438  1.762358e+00   \n",
       "FDA31           OUT013                             -1.293541  1.762358e+00   \n",
       "NCJ31           OUT035                              0.737154 -1.090170e+00   \n",
       "FDG52           OUT046                             -0.099015 -1.090170e+00   \n",
       "NCL19           OUT019                             -1.532446 -1.090170e+00   \n",
       "FDS10           OUT035                              0.737154 -1.090170e+00   \n",
       "FDX22           OUT010                              0.020438 -1.090170e+00   \n",
       "NCF19           OUT035                              0.737154 -1.090170e+00   \n",
       "NCE06           OUT046                             -0.099015 -1.090170e+00   \n",
       "DRC27           OUT046                             -0.099015 -1.090170e+00   \n",
       "FDE21           OUT035                              0.737154 -1.090170e+00   \n",
       "...                                                      ...           ...   \n",
       "FDD23           OUT013                             -1.293541  1.762358e+00   \n",
       "FDP32           OUT045                              0.498248 -1.090170e+00   \n",
       "FDO31           OUT035                              0.737154 -1.090170e+00   \n",
       "FDQ57           OUT013                             -1.293541  1.762358e+00   \n",
       "FDX32           OUT027                             -1.532446  3.360939e-01   \n",
       "FDC39           OUT027                             -1.532446  3.360939e-01   \n",
       "FDU55           OUT046                             -0.099015 -1.090170e+00   \n",
       "FDL45           OUT013                             -1.293541  1.762358e+00   \n",
       "DRK37           OUT049                              0.139891  3.360939e-01   \n",
       "FDK22           OUT013                             -1.293541  1.762358e+00   \n",
       "DRG37           OUT027                             -1.532446  3.360939e-01   \n",
       "FDK22           OUT017                              1.095512  3.360939e-01   \n",
       "DRH36           OUT018                              1.334417  3.360939e-01   \n",
       "DRC36           OUT018                              1.334417  3.360939e-01   \n",
       "DRE03           OUT027                             -1.532446  3.360939e-01   \n",
       "FDF34           OUT046                             -0.099015 -1.090170e+00   \n",
       "FDZ22           OUT046                             -0.099015 -1.090170e+00   \n",
       "FDC44           OUT010                              0.020438  3.360939e-01   \n",
       "FDN31           OUT027                             -1.532446  3.360939e-01   \n",
       "FDO03           OUT017                              1.095512  3.360939e-01   \n",
       "FDA01           OUT049                              0.139891  3.360939e-01   \n",
       "NCH42           OUT049                              0.139891  3.360939e-01   \n",
       "FDF46           OUT018                              1.334417  3.360939e-01   \n",
       "DRL35           OUT046                             -0.099015 -1.090170e+00   \n",
       "FDW46           OUT049                              0.139891  3.360939e-01   \n",
       "FDB58           OUT046                             -0.099015 -1.090170e+00   \n",
       "FDD47           OUT018                              1.334417  3.360939e-01   \n",
       "NCO17           OUT045                              0.498248 -3.166942e-16   \n",
       "FDJ26           OUT017                              1.095512 -3.166942e-16   \n",
       "FDU37           OUT045                              0.498248 -3.166942e-16   \n",
       "\n",
       "                                   Item_MRP-2  Item_MRP-3  Item_MRP-sq  \\\n",
       "Item_Identifier Outlet_Identifier                                        \n",
       "FDW58           OUT049              -0.536555   -0.612599    -0.426798   \n",
       "FDW14           OUT017              -0.868937   -0.887836    -0.806828   \n",
       "NCN55           OUT010               1.629848    1.774362     1.457630   \n",
       "FDQ58           OUT017               0.226697    0.120266     0.327151   \n",
       "FDY38           OUT027               1.508110    1.616868     1.368620   \n",
       "FDH56           OUT046              -0.386289   -0.478945    -0.266972   \n",
       "FDL48           OUT018              -1.471108   -1.305140    -1.633975   \n",
       "FDC48           OUT027              -0.970235   -0.965778    -0.931374   \n",
       "FDN33           OUT045              -0.732638   -0.778489    -0.646095   \n",
       "FDA36           OUT017               0.742175    0.685293     0.772308   \n",
       "FDT44           OUT017              -0.366915   -0.461314    -0.246833   \n",
       "FDQ56           OUT045              -0.900149   -0.912159    -0.844713   \n",
       "NCC54           OUT019               1.608260    1.746252     1.441948   \n",
       "FDU11           OUT049              -0.302789   -0.402325    -0.180894   \n",
       "DRL59           OUT013              -1.439939   -1.286461    -1.584775   \n",
       "FDM24           OUT049               0.171727    0.063182     0.277079   \n",
       "FDI57           OUT045               0.934468    0.909219     0.928516   \n",
       "DRC12           OUT018               0.828358    0.784800     0.842914   \n",
       "NCM42           OUT027              -0.506962   -0.586715    -0.394793   \n",
       "FDA46           OUT010               0.852544    0.812975     0.862553   \n",
       "FDA31           OUT013               0.549882    0.468379     0.611049   \n",
       "NCJ31           OUT035               1.600170    1.735738     1.436060   \n",
       "FDG52           OUT046              -1.509346   -1.327568    -1.695641   \n",
       "NCL19           OUT019               0.021418   -0.089637     0.137225   \n",
       "FDS10           OUT035               0.642495    0.571960     0.689377   \n",
       "FDX22           OUT010               1.107856    1.116964     1.065409   \n",
       "NCF19           OUT035              -1.511559   -1.328850    -1.699257   \n",
       "NCE06           OUT046               0.329530    0.228736     0.419369   \n",
       "DRC27           OUT046               1.677197    1.836289     1.491876   \n",
       "FDE21           OUT035              -0.395997   -0.487746    -0.277102   \n",
       "...                                       ...         ...          ...   \n",
       "FDD23           OUT013               0.730807    0.672272     0.762920   \n",
       "FDP32           OUT045              -0.230657   -0.334819    -0.107986   \n",
       "FDO31           OUT035              -0.982584   -0.975080    -0.946881   \n",
       "FDQ57           OUT013               0.057484   -0.053410     0.171189   \n",
       "FDX32           OUT027               0.042964   -0.068029     0.157547   \n",
       "FDC39           OUT027               1.080945    1.084364     1.044395   \n",
       "FDU55           OUT046               1.946560    2.195581     1.682911   \n",
       "FDL45           OUT013              -0.284010   -0.384867    -0.161787   \n",
       "DRK37           OUT049               0.773898    0.721758     0.798413   \n",
       "FDK22           OUT013               1.203193    1.233495     1.139189   \n",
       "DRG37           OUT027               0.239046    0.133177     0.338324   \n",
       "FDK22           OUT017               1.187013    1.213604     1.126739   \n",
       "DRH36           OUT018              -1.102745   -1.063256    -1.101801   \n",
       "DRC36           OUT018               0.523952    0.439677     0.588889   \n",
       "DRE03           OUT027              -1.536341   -1.343073    -1.740101   \n",
       "FDF34           OUT046               0.904237    0.873559     0.904274   \n",
       "FDZ22           OUT046              -0.952990   -0.952715    -0.909840   \n",
       "FDC44           OUT010              -0.418608   -0.508154    -0.300796   \n",
       "FDN31           OUT027               0.760954    0.706856     0.787778   \n",
       "FDO03           OUT017               1.430529    1.517806     1.311148   \n",
       "FDA01           OUT049              -1.317606   -1.209834    -1.399968   \n",
       "NCH42           OUT049               1.457482    1.552105     1.331183   \n",
       "FDF46           OUT018              -0.403534   -0.494562    -0.284984   \n",
       "DRL35           OUT046              -1.581561   -1.368419    -1.816422   \n",
       "FDW46           OUT049              -1.255183   -1.168776    -1.310189   \n",
       "FDB58           OUT046               0.004727   -0.106307     0.121417   \n",
       "FDD47           OUT018               0.455014    0.364017     0.529474   \n",
       "NCO17           OUT045              -0.360485   -0.455443    -0.240172   \n",
       "FDJ26           OUT017               1.190844    1.218310     1.129689   \n",
       "FDU37           OUT045              -0.990674   -0.981150    -0.957080   \n",
       "\n",
       "                                   Item_Type_Baking Goods        ...          \\\n",
       "Item_Identifier Outlet_Identifier                                ...           \n",
       "FDW58           OUT049                                  0        ...           \n",
       "FDW14           OUT017                                  0        ...           \n",
       "NCN55           OUT010                                  0        ...           \n",
       "FDQ58           OUT017                                  0        ...           \n",
       "FDY38           OUT027                                  0        ...           \n",
       "FDH56           OUT046                                  0        ...           \n",
       "FDL48           OUT018                                  1        ...           \n",
       "FDC48           OUT027                                  1        ...           \n",
       "FDN33           OUT045                                  0        ...           \n",
       "FDA36           OUT017                                  1        ...           \n",
       "FDT44           OUT017                                  0        ...           \n",
       "FDQ56           OUT045                                  0        ...           \n",
       "NCC54           OUT019                                  0        ...           \n",
       "FDU11           OUT049                                  0        ...           \n",
       "DRL59           OUT013                                  0        ...           \n",
       "FDM24           OUT049                                  1        ...           \n",
       "FDI57           OUT045                                  0        ...           \n",
       "DRC12           OUT018                                  0        ...           \n",
       "NCM42           OUT027                                  0        ...           \n",
       "FDA46           OUT010                                  0        ...           \n",
       "FDA31           OUT013                                  0        ...           \n",
       "NCJ31           OUT035                                  0        ...           \n",
       "FDG52           OUT046                                  0        ...           \n",
       "NCL19           OUT019                                  0        ...           \n",
       "FDS10           OUT035                                  0        ...           \n",
       "FDX22           OUT010                                  0        ...           \n",
       "NCF19           OUT035                                  0        ...           \n",
       "NCE06           OUT046                                  0        ...           \n",
       "DRC27           OUT046                                  0        ...           \n",
       "FDE21           OUT035                                  0        ...           \n",
       "...                                                   ...        ...           \n",
       "FDD23           OUT013                                  0        ...           \n",
       "FDP32           OUT045                                  0        ...           \n",
       "FDO31           OUT035                                  0        ...           \n",
       "FDQ57           OUT013                                  0        ...           \n",
       "FDX32           OUT027                                  0        ...           \n",
       "FDC39           OUT027                                  0        ...           \n",
       "FDU55           OUT046                                  0        ...           \n",
       "FDL45           OUT013                                  0        ...           \n",
       "DRK37           OUT049                                  0        ...           \n",
       "FDK22           OUT013                                  0        ...           \n",
       "DRG37           OUT027                                  0        ...           \n",
       "FDK22           OUT017                                  0        ...           \n",
       "DRH36           OUT018                                  0        ...           \n",
       "DRC36           OUT018                                  0        ...           \n",
       "DRE03           OUT027                                  0        ...           \n",
       "FDF34           OUT046                                  0        ...           \n",
       "FDZ22           OUT046                                  0        ...           \n",
       "FDC44           OUT010                                  0        ...           \n",
       "FDN31           OUT027                                  0        ...           \n",
       "FDO03           OUT017                                  0        ...           \n",
       "FDA01           OUT049                                  0        ...           \n",
       "NCH42           OUT049                                  0        ...           \n",
       "FDF46           OUT018                                  0        ...           \n",
       "DRL35           OUT046                                  0        ...           \n",
       "FDW46           OUT049                                  0        ...           \n",
       "FDB58           OUT046                                  0        ...           \n",
       "FDD47           OUT018                                  0        ...           \n",
       "NCO17           OUT045                                  0        ...           \n",
       "FDJ26           OUT017                                  0        ...           \n",
       "FDU37           OUT045                                  0        ...           \n",
       "\n",
       "                                   Item_Type_Soft Drinks  \\\n",
       "Item_Identifier Outlet_Identifier                          \n",
       "FDW58           OUT049                                 0   \n",
       "FDW14           OUT017                                 0   \n",
       "NCN55           OUT010                                 0   \n",
       "FDQ58           OUT017                                 0   \n",
       "FDY38           OUT027                                 0   \n",
       "FDH56           OUT046                                 0   \n",
       "FDL48           OUT018                                 0   \n",
       "FDC48           OUT027                                 0   \n",
       "FDN33           OUT045                                 0   \n",
       "FDA36           OUT017                                 0   \n",
       "FDT44           OUT017                                 0   \n",
       "FDQ56           OUT045                                 0   \n",
       "NCC54           OUT019                                 0   \n",
       "FDU11           OUT049                                 0   \n",
       "DRL59           OUT013                                 0   \n",
       "FDM24           OUT049                                 0   \n",
       "FDI57           OUT045                                 0   \n",
       "DRC12           OUT018                                 1   \n",
       "NCM42           OUT027                                 0   \n",
       "FDA46           OUT010                                 0   \n",
       "FDA31           OUT013                                 0   \n",
       "NCJ31           OUT035                                 0   \n",
       "FDG52           OUT046                                 0   \n",
       "NCL19           OUT019                                 0   \n",
       "FDS10           OUT035                                 0   \n",
       "FDX22           OUT010                                 0   \n",
       "NCF19           OUT035                                 0   \n",
       "NCE06           OUT046                                 0   \n",
       "DRC27           OUT046                                 0   \n",
       "FDE21           OUT035                                 0   \n",
       "...                                                  ...   \n",
       "FDD23           OUT013                                 0   \n",
       "FDP32           OUT045                                 0   \n",
       "FDO31           OUT035                                 0   \n",
       "FDQ57           OUT013                                 0   \n",
       "FDX32           OUT027                                 0   \n",
       "FDC39           OUT027                                 0   \n",
       "FDU55           OUT046                                 0   \n",
       "FDL45           OUT013                                 0   \n",
       "DRK37           OUT049                                 1   \n",
       "FDK22           OUT013                                 0   \n",
       "DRG37           OUT027                                 1   \n",
       "FDK22           OUT017                                 0   \n",
       "DRH36           OUT018                                 1   \n",
       "DRC36           OUT018                                 1   \n",
       "DRE03           OUT027                                 0   \n",
       "FDF34           OUT046                                 0   \n",
       "FDZ22           OUT046                                 0   \n",
       "FDC44           OUT010                                 0   \n",
       "FDN31           OUT027                                 0   \n",
       "FDO03           OUT017                                 0   \n",
       "FDA01           OUT049                                 0   \n",
       "NCH42           OUT049                                 0   \n",
       "FDF46           OUT018                                 0   \n",
       "DRL35           OUT046                                 0   \n",
       "FDW46           OUT049                                 0   \n",
       "FDB58           OUT046                                 0   \n",
       "FDD47           OUT018                                 0   \n",
       "NCO17           OUT045                                 0   \n",
       "FDJ26           OUT017                                 0   \n",
       "FDU37           OUT045                                 0   \n",
       "\n",
       "                                   Item_Type_Starchy Foods  \\\n",
       "Item_Identifier Outlet_Identifier                            \n",
       "FDW58           OUT049                                   0   \n",
       "FDW14           OUT017                                   0   \n",
       "NCN55           OUT010                                   0   \n",
       "FDQ58           OUT017                                   0   \n",
       "FDY38           OUT027                                   0   \n",
       "FDH56           OUT046                                   0   \n",
       "FDL48           OUT018                                   0   \n",
       "FDC48           OUT027                                   0   \n",
       "FDN33           OUT045                                   0   \n",
       "FDA36           OUT017                                   0   \n",
       "FDT44           OUT017                                   0   \n",
       "FDQ56           OUT045                                   0   \n",
       "NCC54           OUT019                                   0   \n",
       "FDU11           OUT049                                   0   \n",
       "DRL59           OUT013                                   0   \n",
       "FDM24           OUT049                                   0   \n",
       "FDI57           OUT045                                   0   \n",
       "DRC12           OUT018                                   0   \n",
       "NCM42           OUT027                                   0   \n",
       "FDA46           OUT010                                   0   \n",
       "FDA31           OUT013                                   0   \n",
       "NCJ31           OUT035                                   0   \n",
       "FDG52           OUT046                                   0   \n",
       "NCL19           OUT019                                   0   \n",
       "FDS10           OUT035                                   0   \n",
       "FDX22           OUT010                                   0   \n",
       "NCF19           OUT035                                   0   \n",
       "NCE06           OUT046                                   0   \n",
       "DRC27           OUT046                                   0   \n",
       "FDE21           OUT035                                   0   \n",
       "...                                                    ...   \n",
       "FDD23           OUT013                                   1   \n",
       "FDP32           OUT045                                   0   \n",
       "FDO31           OUT035                                   0   \n",
       "FDQ57           OUT013                                   0   \n",
       "FDX32           OUT027                                   0   \n",
       "FDC39           OUT027                                   0   \n",
       "FDU55           OUT046                                   0   \n",
       "FDL45           OUT013                                   0   \n",
       "DRK37           OUT049                                   0   \n",
       "FDK22           OUT013                                   0   \n",
       "DRG37           OUT027                                   0   \n",
       "FDK22           OUT017                                   0   \n",
       "DRH36           OUT018                                   0   \n",
       "DRC36           OUT018                                   0   \n",
       "DRE03           OUT027                                   0   \n",
       "FDF34           OUT046                                   0   \n",
       "FDZ22           OUT046                                   0   \n",
       "FDC44           OUT010                                   0   \n",
       "FDN31           OUT027                                   0   \n",
       "FDO03           OUT017                                   0   \n",
       "FDA01           OUT049                                   0   \n",
       "NCH42           OUT049                                   0   \n",
       "FDF46           OUT018                                   0   \n",
       "DRL35           OUT046                                   0   \n",
       "FDW46           OUT049                                   0   \n",
       "FDB58           OUT046                                   0   \n",
       "FDD47           OUT018                                   1   \n",
       "NCO17           OUT045                                   0   \n",
       "FDJ26           OUT017                                   0   \n",
       "FDU37           OUT045                                   0   \n",
       "\n",
       "                                   Outlet_Location_Type_Tier 1  \\\n",
       "Item_Identifier Outlet_Identifier                                \n",
       "FDW58           OUT049                                       1   \n",
       "FDW14           OUT017                                       0   \n",
       "NCN55           OUT010                                       0   \n",
       "FDQ58           OUT017                                       0   \n",
       "FDY38           OUT027                                       0   \n",
       "FDH56           OUT046                                       1   \n",
       "FDL48           OUT018                                       0   \n",
       "FDC48           OUT027                                       0   \n",
       "FDN33           OUT045                                       0   \n",
       "FDA36           OUT017                                       0   \n",
       "FDT44           OUT017                                       0   \n",
       "FDQ56           OUT045                                       0   \n",
       "NCC54           OUT019                                       1   \n",
       "FDU11           OUT049                                       1   \n",
       "DRL59           OUT013                                       0   \n",
       "FDM24           OUT049                                       1   \n",
       "FDI57           OUT045                                       0   \n",
       "DRC12           OUT018                                       0   \n",
       "NCM42           OUT027                                       0   \n",
       "FDA46           OUT010                                       0   \n",
       "FDA31           OUT013                                       0   \n",
       "NCJ31           OUT035                                       0   \n",
       "FDG52           OUT046                                       1   \n",
       "NCL19           OUT019                                       1   \n",
       "FDS10           OUT035                                       0   \n",
       "FDX22           OUT010                                       0   \n",
       "NCF19           OUT035                                       0   \n",
       "NCE06           OUT046                                       1   \n",
       "DRC27           OUT046                                       1   \n",
       "FDE21           OUT035                                       0   \n",
       "...                                                        ...   \n",
       "FDD23           OUT013                                       0   \n",
       "FDP32           OUT045                                       0   \n",
       "FDO31           OUT035                                       0   \n",
       "FDQ57           OUT013                                       0   \n",
       "FDX32           OUT027                                       0   \n",
       "FDC39           OUT027                                       0   \n",
       "FDU55           OUT046                                       1   \n",
       "FDL45           OUT013                                       0   \n",
       "DRK37           OUT049                                       1   \n",
       "FDK22           OUT013                                       0   \n",
       "DRG37           OUT027                                       0   \n",
       "FDK22           OUT017                                       0   \n",
       "DRH36           OUT018                                       0   \n",
       "DRC36           OUT018                                       0   \n",
       "DRE03           OUT027                                       0   \n",
       "FDF34           OUT046                                       1   \n",
       "FDZ22           OUT046                                       1   \n",
       "FDC44           OUT010                                       0   \n",
       "FDN31           OUT027                                       0   \n",
       "FDO03           OUT017                                       0   \n",
       "FDA01           OUT049                                       1   \n",
       "NCH42           OUT049                                       1   \n",
       "FDF46           OUT018                                       0   \n",
       "DRL35           OUT046                                       1   \n",
       "FDW46           OUT049                                       1   \n",
       "FDB58           OUT046                                       1   \n",
       "FDD47           OUT018                                       0   \n",
       "NCO17           OUT045                                       0   \n",
       "FDJ26           OUT017                                       0   \n",
       "FDU37           OUT045                                       0   \n",
       "\n",
       "                                   Outlet_Location_Type_Tier 2  \\\n",
       "Item_Identifier Outlet_Identifier                                \n",
       "FDW58           OUT049                                       0   \n",
       "FDW14           OUT017                                       1   \n",
       "NCN55           OUT010                                       0   \n",
       "FDQ58           OUT017                                       1   \n",
       "FDY38           OUT027                                       0   \n",
       "FDH56           OUT046                                       0   \n",
       "FDL48           OUT018                                       0   \n",
       "FDC48           OUT027                                       0   \n",
       "FDN33           OUT045                                       1   \n",
       "FDA36           OUT017                                       1   \n",
       "FDT44           OUT017                                       1   \n",
       "FDQ56           OUT045                                       1   \n",
       "NCC54           OUT019                                       0   \n",
       "FDU11           OUT049                                       0   \n",
       "DRL59           OUT013                                       0   \n",
       "FDM24           OUT049                                       0   \n",
       "FDI57           OUT045                                       1   \n",
       "DRC12           OUT018                                       0   \n",
       "NCM42           OUT027                                       0   \n",
       "FDA46           OUT010                                       0   \n",
       "FDA31           OUT013                                       0   \n",
       "NCJ31           OUT035                                       1   \n",
       "FDG52           OUT046                                       0   \n",
       "NCL19           OUT019                                       0   \n",
       "FDS10           OUT035                                       1   \n",
       "FDX22           OUT010                                       0   \n",
       "NCF19           OUT035                                       1   \n",
       "NCE06           OUT046                                       0   \n",
       "DRC27           OUT046                                       0   \n",
       "FDE21           OUT035                                       1   \n",
       "...                                                        ...   \n",
       "FDD23           OUT013                                       0   \n",
       "FDP32           OUT045                                       1   \n",
       "FDO31           OUT035                                       1   \n",
       "FDQ57           OUT013                                       0   \n",
       "FDX32           OUT027                                       0   \n",
       "FDC39           OUT027                                       0   \n",
       "FDU55           OUT046                                       0   \n",
       "FDL45           OUT013                                       0   \n",
       "DRK37           OUT049                                       0   \n",
       "FDK22           OUT013                                       0   \n",
       "DRG37           OUT027                                       0   \n",
       "FDK22           OUT017                                       1   \n",
       "DRH36           OUT018                                       0   \n",
       "DRC36           OUT018                                       0   \n",
       "DRE03           OUT027                                       0   \n",
       "FDF34           OUT046                                       0   \n",
       "FDZ22           OUT046                                       0   \n",
       "FDC44           OUT010                                       0   \n",
       "FDN31           OUT027                                       0   \n",
       "FDO03           OUT017                                       1   \n",
       "FDA01           OUT049                                       0   \n",
       "NCH42           OUT049                                       0   \n",
       "FDF46           OUT018                                       0   \n",
       "DRL35           OUT046                                       0   \n",
       "FDW46           OUT049                                       0   \n",
       "FDB58           OUT046                                       0   \n",
       "FDD47           OUT018                                       0   \n",
       "NCO17           OUT045                                       1   \n",
       "FDJ26           OUT017                                       1   \n",
       "FDU37           OUT045                                       1   \n",
       "\n",
       "                                   Outlet_Location_Type_Tier 3  \\\n",
       "Item_Identifier Outlet_Identifier                                \n",
       "FDW58           OUT049                                       0   \n",
       "FDW14           OUT017                                       0   \n",
       "NCN55           OUT010                                       1   \n",
       "FDQ58           OUT017                                       0   \n",
       "FDY38           OUT027                                       1   \n",
       "FDH56           OUT046                                       0   \n",
       "FDL48           OUT018                                       1   \n",
       "FDC48           OUT027                                       1   \n",
       "FDN33           OUT045                                       0   \n",
       "FDA36           OUT017                                       0   \n",
       "FDT44           OUT017                                       0   \n",
       "FDQ56           OUT045                                       0   \n",
       "NCC54           OUT019                                       0   \n",
       "FDU11           OUT049                                       0   \n",
       "DRL59           OUT013                                       1   \n",
       "FDM24           OUT049                                       0   \n",
       "FDI57           OUT045                                       0   \n",
       "DRC12           OUT018                                       1   \n",
       "NCM42           OUT027                                       1   \n",
       "FDA46           OUT010                                       1   \n",
       "FDA31           OUT013                                       1   \n",
       "NCJ31           OUT035                                       0   \n",
       "FDG52           OUT046                                       0   \n",
       "NCL19           OUT019                                       0   \n",
       "FDS10           OUT035                                       0   \n",
       "FDX22           OUT010                                       1   \n",
       "NCF19           OUT035                                       0   \n",
       "NCE06           OUT046                                       0   \n",
       "DRC27           OUT046                                       0   \n",
       "FDE21           OUT035                                       0   \n",
       "...                                                        ...   \n",
       "FDD23           OUT013                                       1   \n",
       "FDP32           OUT045                                       0   \n",
       "FDO31           OUT035                                       0   \n",
       "FDQ57           OUT013                                       1   \n",
       "FDX32           OUT027                                       1   \n",
       "FDC39           OUT027                                       1   \n",
       "FDU55           OUT046                                       0   \n",
       "FDL45           OUT013                                       1   \n",
       "DRK37           OUT049                                       0   \n",
       "FDK22           OUT013                                       1   \n",
       "DRG37           OUT027                                       1   \n",
       "FDK22           OUT017                                       0   \n",
       "DRH36           OUT018                                       1   \n",
       "DRC36           OUT018                                       1   \n",
       "DRE03           OUT027                                       1   \n",
       "FDF34           OUT046                                       0   \n",
       "FDZ22           OUT046                                       0   \n",
       "FDC44           OUT010                                       1   \n",
       "FDN31           OUT027                                       1   \n",
       "FDO03           OUT017                                       0   \n",
       "FDA01           OUT049                                       0   \n",
       "NCH42           OUT049                                       0   \n",
       "FDF46           OUT018                                       1   \n",
       "DRL35           OUT046                                       0   \n",
       "FDW46           OUT049                                       0   \n",
       "FDB58           OUT046                                       0   \n",
       "FDD47           OUT018                                       1   \n",
       "NCO17           OUT045                                       0   \n",
       "FDJ26           OUT017                                       0   \n",
       "FDU37           OUT045                                       0   \n",
       "\n",
       "                                   Outlet_Type_Grocery Store  \\\n",
       "Item_Identifier Outlet_Identifier                              \n",
       "FDW58           OUT049                                     0   \n",
       "FDW14           OUT017                                     0   \n",
       "NCN55           OUT010                                     1   \n",
       "FDQ58           OUT017                                     0   \n",
       "FDY38           OUT027                                     0   \n",
       "FDH56           OUT046                                     0   \n",
       "FDL48           OUT018                                     0   \n",
       "FDC48           OUT027                                     0   \n",
       "FDN33           OUT045                                     0   \n",
       "FDA36           OUT017                                     0   \n",
       "FDT44           OUT017                                     0   \n",
       "FDQ56           OUT045                                     0   \n",
       "NCC54           OUT019                                     1   \n",
       "FDU11           OUT049                                     0   \n",
       "DRL59           OUT013                                     0   \n",
       "FDM24           OUT049                                     0   \n",
       "FDI57           OUT045                                     0   \n",
       "DRC12           OUT018                                     0   \n",
       "NCM42           OUT027                                     0   \n",
       "FDA46           OUT010                                     1   \n",
       "FDA31           OUT013                                     0   \n",
       "NCJ31           OUT035                                     0   \n",
       "FDG52           OUT046                                     0   \n",
       "NCL19           OUT019                                     1   \n",
       "FDS10           OUT035                                     0   \n",
       "FDX22           OUT010                                     1   \n",
       "NCF19           OUT035                                     0   \n",
       "NCE06           OUT046                                     0   \n",
       "DRC27           OUT046                                     0   \n",
       "FDE21           OUT035                                     0   \n",
       "...                                                      ...   \n",
       "FDD23           OUT013                                     0   \n",
       "FDP32           OUT045                                     0   \n",
       "FDO31           OUT035                                     0   \n",
       "FDQ57           OUT013                                     0   \n",
       "FDX32           OUT027                                     0   \n",
       "FDC39           OUT027                                     0   \n",
       "FDU55           OUT046                                     0   \n",
       "FDL45           OUT013                                     0   \n",
       "DRK37           OUT049                                     0   \n",
       "FDK22           OUT013                                     0   \n",
       "DRG37           OUT027                                     0   \n",
       "FDK22           OUT017                                     0   \n",
       "DRH36           OUT018                                     0   \n",
       "DRC36           OUT018                                     0   \n",
       "DRE03           OUT027                                     0   \n",
       "FDF34           OUT046                                     0   \n",
       "FDZ22           OUT046                                     0   \n",
       "FDC44           OUT010                                     1   \n",
       "FDN31           OUT027                                     0   \n",
       "FDO03           OUT017                                     0   \n",
       "FDA01           OUT049                                     0   \n",
       "NCH42           OUT049                                     0   \n",
       "FDF46           OUT018                                     0   \n",
       "DRL35           OUT046                                     0   \n",
       "FDW46           OUT049                                     0   \n",
       "FDB58           OUT046                                     0   \n",
       "FDD47           OUT018                                     0   \n",
       "NCO17           OUT045                                     0   \n",
       "FDJ26           OUT017                                     0   \n",
       "FDU37           OUT045                                     0   \n",
       "\n",
       "                                   Outlet_Type_Supermarket Type1  \\\n",
       "Item_Identifier Outlet_Identifier                                  \n",
       "FDW58           OUT049                                         1   \n",
       "FDW14           OUT017                                         1   \n",
       "NCN55           OUT010                                         0   \n",
       "FDQ58           OUT017                                         1   \n",
       "FDY38           OUT027                                         0   \n",
       "FDH56           OUT046                                         1   \n",
       "FDL48           OUT018                                         0   \n",
       "FDC48           OUT027                                         0   \n",
       "FDN33           OUT045                                         1   \n",
       "FDA36           OUT017                                         1   \n",
       "FDT44           OUT017                                         1   \n",
       "FDQ56           OUT045                                         1   \n",
       "NCC54           OUT019                                         0   \n",
       "FDU11           OUT049                                         1   \n",
       "DRL59           OUT013                                         1   \n",
       "FDM24           OUT049                                         1   \n",
       "FDI57           OUT045                                         1   \n",
       "DRC12           OUT018                                         0   \n",
       "NCM42           OUT027                                         0   \n",
       "FDA46           OUT010                                         0   \n",
       "FDA31           OUT013                                         1   \n",
       "NCJ31           OUT035                                         1   \n",
       "FDG52           OUT046                                         1   \n",
       "NCL19           OUT019                                         0   \n",
       "FDS10           OUT035                                         1   \n",
       "FDX22           OUT010                                         0   \n",
       "NCF19           OUT035                                         1   \n",
       "NCE06           OUT046                                         1   \n",
       "DRC27           OUT046                                         1   \n",
       "FDE21           OUT035                                         1   \n",
       "...                                                          ...   \n",
       "FDD23           OUT013                                         1   \n",
       "FDP32           OUT045                                         1   \n",
       "FDO31           OUT035                                         1   \n",
       "FDQ57           OUT013                                         1   \n",
       "FDX32           OUT027                                         0   \n",
       "FDC39           OUT027                                         0   \n",
       "FDU55           OUT046                                         1   \n",
       "FDL45           OUT013                                         1   \n",
       "DRK37           OUT049                                         1   \n",
       "FDK22           OUT013                                         1   \n",
       "DRG37           OUT027                                         0   \n",
       "FDK22           OUT017                                         1   \n",
       "DRH36           OUT018                                         0   \n",
       "DRC36           OUT018                                         0   \n",
       "DRE03           OUT027                                         0   \n",
       "FDF34           OUT046                                         1   \n",
       "FDZ22           OUT046                                         1   \n",
       "FDC44           OUT010                                         0   \n",
       "FDN31           OUT027                                         0   \n",
       "FDO03           OUT017                                         1   \n",
       "FDA01           OUT049                                         1   \n",
       "NCH42           OUT049                                         1   \n",
       "FDF46           OUT018                                         0   \n",
       "DRL35           OUT046                                         1   \n",
       "FDW46           OUT049                                         1   \n",
       "FDB58           OUT046                                         1   \n",
       "FDD47           OUT018                                         0   \n",
       "NCO17           OUT045                                         1   \n",
       "FDJ26           OUT017                                         1   \n",
       "FDU37           OUT045                                         1   \n",
       "\n",
       "                                   Outlet_Type_Supermarket Type2  \\\n",
       "Item_Identifier Outlet_Identifier                                  \n",
       "FDW58           OUT049                                         0   \n",
       "FDW14           OUT017                                         0   \n",
       "NCN55           OUT010                                         0   \n",
       "FDQ58           OUT017                                         0   \n",
       "FDY38           OUT027                                         0   \n",
       "FDH56           OUT046                                         0   \n",
       "FDL48           OUT018                                         1   \n",
       "FDC48           OUT027                                         0   \n",
       "FDN33           OUT045                                         0   \n",
       "FDA36           OUT017                                         0   \n",
       "FDT44           OUT017                                         0   \n",
       "FDQ56           OUT045                                         0   \n",
       "NCC54           OUT019                                         0   \n",
       "FDU11           OUT049                                         0   \n",
       "DRL59           OUT013                                         0   \n",
       "FDM24           OUT049                                         0   \n",
       "FDI57           OUT045                                         0   \n",
       "DRC12           OUT018                                         1   \n",
       "NCM42           OUT027                                         0   \n",
       "FDA46           OUT010                                         0   \n",
       "FDA31           OUT013                                         0   \n",
       "NCJ31           OUT035                                         0   \n",
       "FDG52           OUT046                                         0   \n",
       "NCL19           OUT019                                         0   \n",
       "FDS10           OUT035                                         0   \n",
       "FDX22           OUT010                                         0   \n",
       "NCF19           OUT035                                         0   \n",
       "NCE06           OUT046                                         0   \n",
       "DRC27           OUT046                                         0   \n",
       "FDE21           OUT035                                         0   \n",
       "...                                                          ...   \n",
       "FDD23           OUT013                                         0   \n",
       "FDP32           OUT045                                         0   \n",
       "FDO31           OUT035                                         0   \n",
       "FDQ57           OUT013                                         0   \n",
       "FDX32           OUT027                                         0   \n",
       "FDC39           OUT027                                         0   \n",
       "FDU55           OUT046                                         0   \n",
       "FDL45           OUT013                                         0   \n",
       "DRK37           OUT049                                         0   \n",
       "FDK22           OUT013                                         0   \n",
       "DRG37           OUT027                                         0   \n",
       "FDK22           OUT017                                         0   \n",
       "DRH36           OUT018                                         1   \n",
       "DRC36           OUT018                                         1   \n",
       "DRE03           OUT027                                         0   \n",
       "FDF34           OUT046                                         0   \n",
       "FDZ22           OUT046                                         0   \n",
       "FDC44           OUT010                                         0   \n",
       "FDN31           OUT027                                         0   \n",
       "FDO03           OUT017                                         0   \n",
       "FDA01           OUT049                                         0   \n",
       "NCH42           OUT049                                         0   \n",
       "FDF46           OUT018                                         1   \n",
       "DRL35           OUT046                                         0   \n",
       "FDW46           OUT049                                         0   \n",
       "FDB58           OUT046                                         0   \n",
       "FDD47           OUT018                                         1   \n",
       "NCO17           OUT045                                         0   \n",
       "FDJ26           OUT017                                         0   \n",
       "FDU37           OUT045                                         0   \n",
       "\n",
       "                                   Outlet_Type_Supermarket Type3  \\\n",
       "Item_Identifier Outlet_Identifier                                  \n",
       "FDW58           OUT049                                         0   \n",
       "FDW14           OUT017                                         0   \n",
       "NCN55           OUT010                                         0   \n",
       "FDQ58           OUT017                                         0   \n",
       "FDY38           OUT027                                         1   \n",
       "FDH56           OUT046                                         0   \n",
       "FDL48           OUT018                                         0   \n",
       "FDC48           OUT027                                         1   \n",
       "FDN33           OUT045                                         0   \n",
       "FDA36           OUT017                                         0   \n",
       "FDT44           OUT017                                         0   \n",
       "FDQ56           OUT045                                         0   \n",
       "NCC54           OUT019                                         0   \n",
       "FDU11           OUT049                                         0   \n",
       "DRL59           OUT013                                         0   \n",
       "FDM24           OUT049                                         0   \n",
       "FDI57           OUT045                                         0   \n",
       "DRC12           OUT018                                         0   \n",
       "NCM42           OUT027                                         1   \n",
       "FDA46           OUT010                                         0   \n",
       "FDA31           OUT013                                         0   \n",
       "NCJ31           OUT035                                         0   \n",
       "FDG52           OUT046                                         0   \n",
       "NCL19           OUT019                                         0   \n",
       "FDS10           OUT035                                         0   \n",
       "FDX22           OUT010                                         0   \n",
       "NCF19           OUT035                                         0   \n",
       "NCE06           OUT046                                         0   \n",
       "DRC27           OUT046                                         0   \n",
       "FDE21           OUT035                                         0   \n",
       "...                                                          ...   \n",
       "FDD23           OUT013                                         0   \n",
       "FDP32           OUT045                                         0   \n",
       "FDO31           OUT035                                         0   \n",
       "FDQ57           OUT013                                         0   \n",
       "FDX32           OUT027                                         1   \n",
       "FDC39           OUT027                                         1   \n",
       "FDU55           OUT046                                         0   \n",
       "FDL45           OUT013                                         0   \n",
       "DRK37           OUT049                                         0   \n",
       "FDK22           OUT013                                         0   \n",
       "DRG37           OUT027                                         1   \n",
       "FDK22           OUT017                                         0   \n",
       "DRH36           OUT018                                         0   \n",
       "DRC36           OUT018                                         0   \n",
       "DRE03           OUT027                                         1   \n",
       "FDF34           OUT046                                         0   \n",
       "FDZ22           OUT046                                         0   \n",
       "FDC44           OUT010                                         0   \n",
       "FDN31           OUT027                                         1   \n",
       "FDO03           OUT017                                         0   \n",
       "FDA01           OUT049                                         0   \n",
       "NCH42           OUT049                                         0   \n",
       "FDF46           OUT018                                         0   \n",
       "DRL35           OUT046                                         0   \n",
       "FDW46           OUT049                                         0   \n",
       "FDB58           OUT046                                         0   \n",
       "FDD47           OUT018                                         0   \n",
       "NCO17           OUT045                                         0   \n",
       "FDJ26           OUT017                                         0   \n",
       "FDU37           OUT045                                         0   \n",
       "\n",
       "                                   Item_Outlet_Sales  \n",
       "Item_Identifier Outlet_Identifier                     \n",
       "FDW58           OUT049                   1695.439134  \n",
       "FDW14           OUT017                   1365.091041  \n",
       "NCN55           OUT010                   1057.552086  \n",
       "FDQ58           OUT017                   2388.319382  \n",
       "FDY38           OUT027                   5174.589649  \n",
       "FDH56           OUT046                   1895.338352  \n",
       "FDL48           OUT018                    658.925240  \n",
       "FDC48           OUT027                   2326.525444  \n",
       "FDN33           OUT045                   1536.276439  \n",
       "FDA36           OUT017                   2872.441576  \n",
       "FDT44           OUT017                   1873.103999  \n",
       "FDQ56           OUT045                   1367.235191  \n",
       "NCC54           OUT019                   1061.933064  \n",
       "FDU11           OUT049                   1889.610212  \n",
       "DRL59           OUT013                    823.934161  \n",
       "FDM24           OUT049                   2375.634042  \n",
       "FDI57           OUT045                   3043.797729  \n",
       "DRC12           OUT018                   2596.594487  \n",
       "NCM42           OUT027                   2899.943079  \n",
       "FDA46           OUT010                    685.027205  \n",
       "FDA31           OUT013                   2667.575515  \n",
       "NCJ31           OUT035                   3650.075779  \n",
       "FDG52           OUT046                    779.490877  \n",
       "NCL19           OUT019                    372.266135  \n",
       "FDS10           OUT035                   2786.676443  \n",
       "FDX22           OUT010                    841.735513  \n",
       "NCF19           OUT035                    779.184969  \n",
       "NCE06           OUT046                   2480.190989  \n",
       "DRC27           OUT046                   3654.626339  \n",
       "FDE21           OUT035                   1851.138174  \n",
       "...                                              ...  \n",
       "FDD23           OUT013                   2860.236756  \n",
       "FDP32           OUT045                   1993.432446  \n",
       "FDO31           OUT035                   1331.441721  \n",
       "FDQ57           OUT013                   2203.973010  \n",
       "FDX32           OUT027                   3639.197758  \n",
       "FDC39           OUT027                   4627.706141  \n",
       "FDU55           OUT046                   4019.626371  \n",
       "FDL45           OUT013                   1888.219162  \n",
       "DRK37           OUT049                   2883.639827  \n",
       "FDK22           OUT013                   3241.997054  \n",
       "DRG37           OUT027                   3792.628142  \n",
       "FDK22           OUT017                   3269.564558  \n",
       "DRH36           OUT018                    945.019656  \n",
       "DRC36           OUT018                   2376.769764  \n",
       "DRE03           OUT027                   1547.265658  \n",
       "FDF34           OUT046                   3075.792229  \n",
       "FDZ22           OUT046                   1301.098637  \n",
       "FDC44           OUT010                    208.816852  \n",
       "FDN31           OUT027                   4406.329782  \n",
       "FDO03           OUT017                   3548.865075  \n",
       "FDA01           OUT049                    987.808289  \n",
       "NCH42           OUT049                   3512.017083  \n",
       "FDF46           OUT018                   1527.225983  \n",
       "DRL35           OUT046                    714.334998  \n",
       "FDW46           OUT049                   1044.401101  \n",
       "FDB58           OUT046                   2240.796447  \n",
       "FDD47           OUT018                   2303.592727  \n",
       "NCO17           OUT045                   1843.683374  \n",
       "FDJ26           OUT017                   3348.460542  \n",
       "FDU37           OUT045                   1292.610173  \n",
       "\n",
       "[5681 rows x 33 columns]"
      ]
     },
     "execution_count": 105,
     "metadata": {},
     "output_type": "execute_result"
    }
   ],
   "source": [
    "test_x"
   ]
  },
  {
   "cell_type": "code",
   "execution_count": 107,
   "metadata": {},
   "outputs": [
    {
     "data": {
      "text/plain": [
       "2073.674685499953"
      ]
     },
     "execution_count": 107,
     "metadata": {},
     "output_type": "execute_result"
    }
   ],
   "source": [
    "test_x['Item_Outlet_Sales'].mean()"
   ]
  },
  {
   "cell_type": "code",
   "execution_count": 108,
   "metadata": {
    "collapsed": true
   },
   "outputs": [],
   "source": [
    "final_test_df = test_x"
   ]
  },
  {
   "cell_type": "code",
   "execution_count": 109,
   "metadata": {
    "collapsed": true
   },
   "outputs": [],
   "source": [
    "final_test_df.reset_index(inplace=True)"
   ]
  },
  {
   "cell_type": "code",
   "execution_count": 110,
   "metadata": {
    "collapsed": true
   },
   "outputs": [],
   "source": [
    "final_test_df = final_test_df.loc[:,['Item_Identifier','Outlet_Identifier','Item_Outlet_Sales']]"
   ]
  },
  {
   "cell_type": "code",
   "execution_count": 112,
   "metadata": {},
   "outputs": [
    {
     "data": {
      "text/html": [
       "<div>\n",
       "<style>\n",
       "    .dataframe thead tr:only-child th {\n",
       "        text-align: right;\n",
       "    }\n",
       "\n",
       "    .dataframe thead th {\n",
       "        text-align: left;\n",
       "    }\n",
       "\n",
       "    .dataframe tbody tr th {\n",
       "        vertical-align: top;\n",
       "    }\n",
       "</style>\n",
       "<table border=\"1\" class=\"dataframe\">\n",
       "  <thead>\n",
       "    <tr style=\"text-align: right;\">\n",
       "      <th></th>\n",
       "      <th>Item_Identifier</th>\n",
       "      <th>Outlet_Identifier</th>\n",
       "      <th>Item_Outlet_Sales</th>\n",
       "    </tr>\n",
       "  </thead>\n",
       "  <tbody>\n",
       "    <tr>\n",
       "      <th>0</th>\n",
       "      <td>FDW58</td>\n",
       "      <td>OUT049</td>\n",
       "      <td>1695.439134</td>\n",
       "    </tr>\n",
       "    <tr>\n",
       "      <th>1</th>\n",
       "      <td>FDW14</td>\n",
       "      <td>OUT017</td>\n",
       "      <td>1365.091041</td>\n",
       "    </tr>\n",
       "    <tr>\n",
       "      <th>2</th>\n",
       "      <td>NCN55</td>\n",
       "      <td>OUT010</td>\n",
       "      <td>1057.552086</td>\n",
       "    </tr>\n",
       "    <tr>\n",
       "      <th>3</th>\n",
       "      <td>FDQ58</td>\n",
       "      <td>OUT017</td>\n",
       "      <td>2388.319382</td>\n",
       "    </tr>\n",
       "    <tr>\n",
       "      <th>4</th>\n",
       "      <td>FDY38</td>\n",
       "      <td>OUT027</td>\n",
       "      <td>5174.589649</td>\n",
       "    </tr>\n",
       "  </tbody>\n",
       "</table>\n",
       "</div>"
      ],
      "text/plain": [
       "  Item_Identifier Outlet_Identifier  Item_Outlet_Sales\n",
       "0           FDW58            OUT049        1695.439134\n",
       "1           FDW14            OUT017        1365.091041\n",
       "2           NCN55            OUT010        1057.552086\n",
       "3           FDQ58            OUT017        2388.319382\n",
       "4           FDY38            OUT027        5174.589649"
      ]
     },
     "execution_count": 112,
     "metadata": {},
     "output_type": "execute_result"
    }
   ],
   "source": [
    "final_test_df.head()"
   ]
  },
  {
   "cell_type": "markdown",
   "metadata": {},
   "source": [
    "## Saving the prediction csv to the current directory"
   ]
  },
  {
   "cell_type": "code",
   "execution_count": 114,
   "metadata": {
    "collapsed": true
   },
   "outputs": [],
   "source": [
    "final_test_df.to_csv('Seungjun-Kim-BigMartSales-Prediction.csv',sep=',',index=False)"
   ]
  }
 ],
 "metadata": {
  "kernelspec": {
   "display_name": "Python 3",
   "language": "python",
   "name": "python3"
  },
  "language_info": {
   "codemirror_mode": {
    "name": "ipython",
    "version": 3
   },
   "file_extension": ".py",
   "mimetype": "text/x-python",
   "name": "python",
   "nbconvert_exporter": "python",
   "pygments_lexer": "ipython3",
   "version": "3.6.1"
  }
 },
 "nbformat": 4,
 "nbformat_minor": 1
}
