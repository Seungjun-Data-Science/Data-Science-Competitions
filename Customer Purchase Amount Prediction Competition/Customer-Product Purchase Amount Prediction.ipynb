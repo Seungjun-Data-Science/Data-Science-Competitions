{
 "cells": [
  {
   "cell_type": "markdown",
   "metadata": {},
   "source": [
    "## Problem\n",
    "\n",
    "A retail company “ABC Private Limited” wants to understand the customer purchase behaviour (specifically, purchase amount) against various products of different categories. They have shared purchase summary of various customers for selected high volume products from last month.\n",
    "\n",
    "The data set also contains customer demographics (age, gender, marital status, city_type, stay_in_current_city), product details (product_id and product category) and Total purchase_amount from last month.\n",
    "\n",
    "Now, they want to build a model to predict the purchase amount of customer against various products which will help them to create personalized offer for customers against different products."
   ]
  },
  {
   "cell_type": "markdown",
   "metadata": {},
   "source": [
    "## Column Labels\n",
    "\n",
    "- User_ID: User ID\n",
    "- Product_ID: Product ID\n",
    "- Gender: Sex of User\n",
    "- Age: Age in bins\n",
    "- Occupation:\tOccupation (Masked)\n",
    "- City_Category:\tCategory of the City (A,B,C)\n",
    "- Stay_In_Current_City_Years:\tNumber of years stay in current city\n",
    "- Marital_Status:\tMarital Status\n",
    "- Product_Category_1:\tProduct Category (Masked)\n",
    "- Product_Category_2:\tProduct may belongs to other category also (Masked)\n",
    "- Product_Category_3:\tProduct may belongs to other category also (Masked)\n",
    "- Purchase: Purchase Amount (Target Variable)"
   ]
  },
  {
   "cell_type": "code",
   "execution_count": 1,
   "metadata": {
    "collapsed": true
   },
   "outputs": [],
   "source": [
    "import pandas as pd\n",
    "import numpy as np\n",
    "\n",
    "import matplotlib\n",
    "import matplotlib.pyplot as plt\n",
    "import seaborn as sns\n",
    "%matplotlib inline\n",
    "\n",
    "from scipy.stats import skew\n",
    "\n",
    "from sklearn.preprocessing import StandardScaler, PolynomialFeatures\n",
    "from sklearn.model_selection import cross_val_score, train_test_split\n",
    "from sklearn.linear_model import LinearRegression, RidgeCV, LassoCV, ElasticNetCV\n",
    "from sklearn.ensemble import RandomForestRegressor\n",
    "from sklearn.metrics import mean_squared_error, make_scorer\n",
    "from sklearn.pipeline import make_pipeline"
   ]
  },
  {
   "cell_type": "code",
   "execution_count": 2,
   "metadata": {
    "collapsed": true
   },
   "outputs": [],
   "source": [
    "train = pd.read_csv('purchase_train.csv') \n",
    "test = pd.read_csv('purchase_test.csv')"
   ]
  },
  {
   "cell_type": "code",
   "execution_count": 3,
   "metadata": {
    "scrolled": true
   },
   "outputs": [
    {
     "data": {
      "text/html": [
       "<div>\n",
       "<style>\n",
       "    .dataframe thead tr:only-child th {\n",
       "        text-align: right;\n",
       "    }\n",
       "\n",
       "    .dataframe thead th {\n",
       "        text-align: left;\n",
       "    }\n",
       "\n",
       "    .dataframe tbody tr th {\n",
       "        vertical-align: top;\n",
       "    }\n",
       "</style>\n",
       "<table border=\"1\" class=\"dataframe\">\n",
       "  <thead>\n",
       "    <tr style=\"text-align: right;\">\n",
       "      <th></th>\n",
       "      <th>User_ID</th>\n",
       "      <th>Product_ID</th>\n",
       "      <th>Gender</th>\n",
       "      <th>Age</th>\n",
       "      <th>Occupation</th>\n",
       "      <th>City_Category</th>\n",
       "      <th>Stay_In_Current_City_Years</th>\n",
       "      <th>Marital_Status</th>\n",
       "      <th>Product_Category_1</th>\n",
       "      <th>Product_Category_2</th>\n",
       "      <th>Product_Category_3</th>\n",
       "      <th>Purchase</th>\n",
       "    </tr>\n",
       "  </thead>\n",
       "  <tbody>\n",
       "    <tr>\n",
       "      <th>0</th>\n",
       "      <td>1000001</td>\n",
       "      <td>P00069042</td>\n",
       "      <td>F</td>\n",
       "      <td>0-17</td>\n",
       "      <td>10</td>\n",
       "      <td>A</td>\n",
       "      <td>2</td>\n",
       "      <td>0</td>\n",
       "      <td>3</td>\n",
       "      <td>NaN</td>\n",
       "      <td>NaN</td>\n",
       "      <td>8370</td>\n",
       "    </tr>\n",
       "    <tr>\n",
       "      <th>1</th>\n",
       "      <td>1000001</td>\n",
       "      <td>P00248942</td>\n",
       "      <td>F</td>\n",
       "      <td>0-17</td>\n",
       "      <td>10</td>\n",
       "      <td>A</td>\n",
       "      <td>2</td>\n",
       "      <td>0</td>\n",
       "      <td>1</td>\n",
       "      <td>6.0</td>\n",
       "      <td>14.0</td>\n",
       "      <td>15200</td>\n",
       "    </tr>\n",
       "    <tr>\n",
       "      <th>2</th>\n",
       "      <td>1000001</td>\n",
       "      <td>P00087842</td>\n",
       "      <td>F</td>\n",
       "      <td>0-17</td>\n",
       "      <td>10</td>\n",
       "      <td>A</td>\n",
       "      <td>2</td>\n",
       "      <td>0</td>\n",
       "      <td>12</td>\n",
       "      <td>NaN</td>\n",
       "      <td>NaN</td>\n",
       "      <td>1422</td>\n",
       "    </tr>\n",
       "    <tr>\n",
       "      <th>3</th>\n",
       "      <td>1000001</td>\n",
       "      <td>P00085442</td>\n",
       "      <td>F</td>\n",
       "      <td>0-17</td>\n",
       "      <td>10</td>\n",
       "      <td>A</td>\n",
       "      <td>2</td>\n",
       "      <td>0</td>\n",
       "      <td>12</td>\n",
       "      <td>14.0</td>\n",
       "      <td>NaN</td>\n",
       "      <td>1057</td>\n",
       "    </tr>\n",
       "    <tr>\n",
       "      <th>4</th>\n",
       "      <td>1000002</td>\n",
       "      <td>P00285442</td>\n",
       "      <td>M</td>\n",
       "      <td>55+</td>\n",
       "      <td>16</td>\n",
       "      <td>C</td>\n",
       "      <td>4+</td>\n",
       "      <td>0</td>\n",
       "      <td>8</td>\n",
       "      <td>NaN</td>\n",
       "      <td>NaN</td>\n",
       "      <td>7969</td>\n",
       "    </tr>\n",
       "  </tbody>\n",
       "</table>\n",
       "</div>"
      ],
      "text/plain": [
       "   User_ID Product_ID Gender   Age  Occupation City_Category  \\\n",
       "0  1000001  P00069042      F  0-17          10             A   \n",
       "1  1000001  P00248942      F  0-17          10             A   \n",
       "2  1000001  P00087842      F  0-17          10             A   \n",
       "3  1000001  P00085442      F  0-17          10             A   \n",
       "4  1000002  P00285442      M   55+          16             C   \n",
       "\n",
       "  Stay_In_Current_City_Years  Marital_Status  Product_Category_1  \\\n",
       "0                          2               0                   3   \n",
       "1                          2               0                   1   \n",
       "2                          2               0                  12   \n",
       "3                          2               0                  12   \n",
       "4                         4+               0                   8   \n",
       "\n",
       "   Product_Category_2  Product_Category_3  Purchase  \n",
       "0                 NaN                 NaN      8370  \n",
       "1                 6.0                14.0     15200  \n",
       "2                 NaN                 NaN      1422  \n",
       "3                14.0                 NaN      1057  \n",
       "4                 NaN                 NaN      7969  "
      ]
     },
     "execution_count": 3,
     "metadata": {},
     "output_type": "execute_result"
    }
   ],
   "source": [
    "train.head()"
   ]
  },
  {
   "cell_type": "code",
   "execution_count": 4,
   "metadata": {},
   "outputs": [
    {
     "data": {
      "text/plain": [
       "9263.968712959126"
      ]
     },
     "execution_count": 4,
     "metadata": {},
     "output_type": "execute_result"
    }
   ],
   "source": [
    "# Getting some grasp on how much customers purchase products on average\n",
    "train.Purchase.mean()"
   ]
  },
  {
   "cell_type": "markdown",
   "metadata": {},
   "source": [
    "## Filling in missing values"
   ]
  },
  {
   "cell_type": "code",
   "execution_count": 5,
   "metadata": {},
   "outputs": [
    {
     "name": "stdout",
     "output_type": "stream",
     "text": [
      "<class 'pandas.core.frame.DataFrame'>\n",
      "RangeIndex: 550068 entries, 0 to 550067\n",
      "Data columns (total 12 columns):\n",
      "User_ID                       550068 non-null int64\n",
      "Product_ID                    550068 non-null object\n",
      "Gender                        550068 non-null object\n",
      "Age                           550068 non-null object\n",
      "Occupation                    550068 non-null int64\n",
      "City_Category                 550068 non-null object\n",
      "Stay_In_Current_City_Years    550068 non-null object\n",
      "Marital_Status                550068 non-null int64\n",
      "Product_Category_1            550068 non-null int64\n",
      "Product_Category_2            376430 non-null float64\n",
      "Product_Category_3            166821 non-null float64\n",
      "Purchase                      550068 non-null int64\n",
      "dtypes: float64(2), int64(5), object(5)\n",
      "memory usage: 50.4+ MB\n"
     ]
    }
   ],
   "source": [
    "train.info()"
   ]
  },
  {
   "cell_type": "markdown",
   "metadata": {},
   "source": [
    "We can see from above that \"Product_Category_2\" and \"Product_Category_3\" have missing values "
   ]
  },
  {
   "cell_type": "code",
   "execution_count": 6,
   "metadata": {
    "scrolled": false
   },
   "outputs": [
    {
     "name": "stdout",
     "output_type": "stream",
     "text": [
      "5     150933\n",
      "1     140378\n",
      "8     113925\n",
      "11     24287\n",
      "2      23864\n",
      "6      20466\n",
      "3      20213\n",
      "4      11753\n",
      "16      9828\n",
      "15      6290\n",
      "13      5549\n",
      "10      5125\n",
      "12      3947\n",
      "7       3721\n",
      "18      3125\n",
      "20      2550\n",
      "19      1603\n",
      "14      1523\n",
      "17       578\n",
      "9        410\n",
      "Name: Product_Category_1, dtype: int64\n"
     ]
    },
    {
     "data": {
      "text/plain": [
       "20"
      ]
     },
     "execution_count": 6,
     "metadata": {},
     "output_type": "execute_result"
    }
   ],
   "source": [
    "print(train.Product_Category_1.value_counts())\n",
    "len(train.Product_Category_1.value_counts())"
   ]
  },
  {
   "cell_type": "markdown",
   "metadata": {},
   "source": [
    "From category 1, we know that there are 20 product categories in total"
   ]
  },
  {
   "cell_type": "code",
   "execution_count": 7,
   "metadata": {},
   "outputs": [
    {
     "data": {
      "text/plain": [
       "8.0     64088\n",
       "14.0    55108\n",
       "2.0     49217\n",
       "16.0    43255\n",
       "15.0    37855\n",
       "5.0     26235\n",
       "4.0     25677\n",
       "6.0     16466\n",
       "11.0    14134\n",
       "17.0    13320\n",
       "13.0    10531\n",
       "9.0      5693\n",
       "12.0     5528\n",
       "10.0     3043\n",
       "3.0      2884\n",
       "18.0     2770\n",
       "7.0       626\n",
       "Name: Product_Category_2, dtype: int64"
      ]
     },
     "execution_count": 7,
     "metadata": {},
     "output_type": "execute_result"
    }
   ],
   "source": [
    "train.Product_Category_2.value_counts()"
   ]
  },
  {
   "cell_type": "code",
   "execution_count": 8,
   "metadata": {
    "collapsed": true
   },
   "outputs": [],
   "source": [
    "# Same products are in the same category. Using this fact, we can fill in null values in the Product_Category_2 & 3 column.\n",
    "\n",
    "train['Product_Category_2']=\\\n",
    "train.groupby(['Product_ID'])['Product_Category_2'].ffill().bfill()\n",
    "\n",
    "train['Product_Category_3']=\\\n",
    "train.groupby(['Product_ID'])['Product_Category_3'].ffill().bfill()"
   ]
  },
  {
   "cell_type": "markdown",
   "metadata": {},
   "source": [
    "I will view the three categories as one combined category. For example, a product in category 3,6 and 12 will be considered to be in combined category (3,6,12). Another product which is just in category 5 will be labeled as (5,0,0). Thus, we need to fill the NaNs in the Product_Category_2 and Product_Category_3 columns with \"0\"."
   ]
  },
  {
   "cell_type": "code",
   "execution_count": 9,
   "metadata": {
    "collapsed": true
   },
   "outputs": [],
   "source": [
    "train.fillna(0, inplace=True)"
   ]
  },
  {
   "cell_type": "code",
   "execution_count": 10,
   "metadata": {},
   "outputs": [
    {
     "name": "stdout",
     "output_type": "stream",
     "text": [
      "<class 'pandas.core.frame.DataFrame'>\n",
      "RangeIndex: 550068 entries, 0 to 550067\n",
      "Data columns (total 12 columns):\n",
      "User_ID                       550068 non-null int64\n",
      "Product_ID                    550068 non-null object\n",
      "Gender                        550068 non-null object\n",
      "Age                           550068 non-null object\n",
      "Occupation                    550068 non-null int64\n",
      "City_Category                 550068 non-null object\n",
      "Stay_In_Current_City_Years    550068 non-null object\n",
      "Marital_Status                550068 non-null int64\n",
      "Product_Category_1            550068 non-null int64\n",
      "Product_Category_2            550068 non-null float64\n",
      "Product_Category_3            550068 non-null float64\n",
      "Purchase                      550068 non-null int64\n",
      "dtypes: float64(2), int64(5), object(5)\n",
      "memory usage: 50.4+ MB\n"
     ]
    }
   ],
   "source": [
    "# No more missing values :D\n",
    "train.info()"
   ]
  },
  {
   "cell_type": "markdown",
   "metadata": {},
   "source": [
    "## Making three product category columns into one"
   ]
  },
  {
   "cell_type": "code",
   "execution_count": 11,
   "metadata": {
    "collapsed": true
   },
   "outputs": [],
   "source": [
    "# train.set_index(['User_ID','Product_ID'], inplace=True)"
   ]
  },
  {
   "cell_type": "code",
   "execution_count": 12,
   "metadata": {
    "collapsed": true,
    "scrolled": true
   },
   "outputs": [],
   "source": [
    "# train_prod_cat2 = train.loc[:,['Gender','Age','Occupation','City_Category','Stay_In_Current_City_Years',\n",
    "#                                'Marital_Status','Product_Category_2','Purchase']]\n",
    "\n",
    "# train_prod_cat3 = train.loc[:,['Gender','Age','Occupation','City_Category','Stay_In_Current_City_Years',\n",
    "#                                'Marital_Status','Product_Category_3','Purchase']]"
   ]
  },
  {
   "cell_type": "code",
   "execution_count": 13,
   "metadata": {
    "collapsed": true
   },
   "outputs": [],
   "source": [
    "# train_prod_cat2.columns = ['Gender','Age','Occupation','City_Category','Stay_In_Current_City_Years',\n",
    "#                                'Marital_Status','Product_Category_1','Purchase']\n",
    "# train_prod_cat3.columns = ['Gender','Age','Occupation','City_Category','Stay_In_Current_City_Years',\n",
    "#                                'Marital_Status','Product_Category_1','Purchase']"
   ]
  },
  {
   "cell_type": "code",
   "execution_count": 14,
   "metadata": {
    "collapsed": true
   },
   "outputs": [],
   "source": [
    "# train = train.append(train_prod_cat2)\n",
    "# train = train.append(train_prod_cat3)"
   ]
  },
  {
   "cell_type": "code",
   "execution_count": 15,
   "metadata": {
    "collapsed": true
   },
   "outputs": [],
   "source": [
    "# train.drop(labels=['Product_Category_2', 'Product_Category_3'], axis=1, inplace=True)"
   ]
  },
  {
   "cell_type": "code",
   "execution_count": 16,
   "metadata": {
    "collapsed": true,
    "scrolled": true
   },
   "outputs": [],
   "source": [
    "# train.dropna(inplace=True)"
   ]
  },
  {
   "cell_type": "code",
   "execution_count": 17,
   "metadata": {
    "collapsed": true
   },
   "outputs": [],
   "source": [
    "# # No missing values anymore :D\n",
    "# train.info()"
   ]
  },
  {
   "cell_type": "markdown",
   "metadata": {},
   "source": [
    "## Checking whether each Feature's representation is in good shape"
   ]
  },
  {
   "cell_type": "markdown",
   "metadata": {},
   "source": [
    "### 'Age' Feature"
   ]
  },
  {
   "cell_type": "code",
   "execution_count": 18,
   "metadata": {},
   "outputs": [
    {
     "data": {
      "text/plain": [
       "26-35    219587\n",
       "36-45    110013\n",
       "18-25     99660\n",
       "46-50     45701\n",
       "51-55     38501\n",
       "55+       21504\n",
       "0-17      15102\n",
       "Name: Age, dtype: int64"
      ]
     },
     "execution_count": 18,
     "metadata": {},
     "output_type": "execute_result"
    }
   ],
   "source": [
    "train['Age'].value_counts()"
   ]
  },
  {
   "cell_type": "code",
   "execution_count": 19,
   "metadata": {
    "collapsed": true
   },
   "outputs": [],
   "source": [
    "# replace age bins to approximate mean age of each bin for better feature representation\n",
    "\n",
    "train['Age'] = train['Age'].replace({'26-35':30, '36-45':40, '18-25':21,\n",
    "                                         '46-50':48, '51-55':53, '55+':55, '0-17':10})"
   ]
  },
  {
   "cell_type": "code",
   "execution_count": 20,
   "metadata": {},
   "outputs": [
    {
     "data": {
      "text/plain": [
       "30    219587\n",
       "40    110013\n",
       "21     99660\n",
       "48     45701\n",
       "53     38501\n",
       "55     21504\n",
       "10     15102\n",
       "Name: Age, dtype: int64"
      ]
     },
     "execution_count": 20,
     "metadata": {},
     "output_type": "execute_result"
    }
   ],
   "source": [
    "train['Age'].value_counts()"
   ]
  },
  {
   "cell_type": "markdown",
   "metadata": {},
   "source": [
    "### 'City_Category' Feature"
   ]
  },
  {
   "cell_type": "code",
   "execution_count": 21,
   "metadata": {},
   "outputs": [
    {
     "data": {
      "text/plain": [
       "B    231173\n",
       "C    171175\n",
       "A    147720\n",
       "Name: City_Category, dtype: int64"
      ]
     },
     "execution_count": 21,
     "metadata": {},
     "output_type": "execute_result"
    }
   ],
   "source": [
    "# no problem\n",
    "train['City_Category'].value_counts()"
   ]
  },
  {
   "cell_type": "markdown",
   "metadata": {},
   "source": [
    "### 'Gender' Feature"
   ]
  },
  {
   "cell_type": "code",
   "execution_count": 22,
   "metadata": {},
   "outputs": [
    {
     "data": {
      "text/plain": [
       "M    414259\n",
       "F    135809\n",
       "Name: Gender, dtype: int64"
      ]
     },
     "execution_count": 22,
     "metadata": {},
     "output_type": "execute_result"
    }
   ],
   "source": [
    "# no problem\n",
    "train['Gender'].value_counts()"
   ]
  },
  {
   "cell_type": "markdown",
   "metadata": {},
   "source": [
    "### 'Marital_Status' Feature"
   ]
  },
  {
   "cell_type": "code",
   "execution_count": 23,
   "metadata": {},
   "outputs": [
    {
     "data": {
      "text/plain": [
       "0    324731\n",
       "1    225337\n",
       "Name: Marital_Status, dtype: int64"
      ]
     },
     "execution_count": 23,
     "metadata": {},
     "output_type": "execute_result"
    }
   ],
   "source": [
    "# no problem\n",
    "train['Marital_Status'].value_counts()"
   ]
  },
  {
   "cell_type": "markdown",
   "metadata": {},
   "source": [
    "### 'Occupation' Feature"
   ]
  },
  {
   "cell_type": "code",
   "execution_count": 24,
   "metadata": {
    "scrolled": true
   },
   "outputs": [
    {
     "name": "stdout",
     "output_type": "stream",
     "text": [
      "4     72308\n",
      "0     69638\n",
      "7     59133\n",
      "1     47426\n",
      "17    40043\n",
      "20    33562\n",
      "12    31179\n",
      "14    27309\n",
      "2     26588\n",
      "16    25371\n",
      "6     20355\n",
      "3     17650\n",
      "10    12930\n",
      "5     12177\n",
      "15    12165\n",
      "11    11586\n",
      "19     8461\n",
      "13     7728\n",
      "18     6622\n",
      "9      6291\n",
      "8      1546\n",
      "Name: Occupation, dtype: int64\n",
      "21\n"
     ]
    }
   ],
   "source": [
    "# no problem\n",
    "print(train['Occupation'].value_counts())\n",
    "print(len(train['Occupation'].value_counts()))"
   ]
  },
  {
   "cell_type": "markdown",
   "metadata": {},
   "source": [
    "### 'Stay_In_Current_City_Years' Feature"
   ]
  },
  {
   "cell_type": "code",
   "execution_count": 25,
   "metadata": {},
   "outputs": [
    {
     "name": "stdout",
     "output_type": "stream",
     "text": [
      "1     193821\n",
      "2     101838\n",
      "3      95285\n",
      "4+     84726\n",
      "0      74398\n",
      "Name: Stay_In_Current_City_Years, dtype: int64\n",
      "5\n"
     ]
    }
   ],
   "source": [
    "print(train['Stay_In_Current_City_Years'].value_counts())\n",
    "print(len(train['Stay_In_Current_City_Years'].value_counts()))"
   ]
  },
  {
   "cell_type": "code",
   "execution_count": 26,
   "metadata": {
    "collapsed": true
   },
   "outputs": [],
   "source": [
    "train['Stay_In_Current_City_Years'] = train['Stay_In_Current_City_Years'].replace({'4+':4})"
   ]
  },
  {
   "cell_type": "code",
   "execution_count": 27,
   "metadata": {},
   "outputs": [
    {
     "data": {
      "text/plain": [
       "1    193821\n",
       "2    101838\n",
       "3     95285\n",
       "4     84726\n",
       "0     74398\n",
       "Name: Stay_In_Current_City_Years, dtype: int64"
      ]
     },
     "execution_count": 27,
     "metadata": {},
     "output_type": "execute_result"
    }
   ],
   "source": [
    "train['Stay_In_Current_City_Years'].value_counts()"
   ]
  },
  {
   "cell_type": "markdown",
   "metadata": {},
   "source": [
    "## Exploration through correlation and visualization"
   ]
  },
  {
   "cell_type": "markdown",
   "metadata": {},
   "source": [
    "### Correlation"
   ]
  },
  {
   "cell_type": "code",
   "execution_count": 28,
   "metadata": {
    "scrolled": true
   },
   "outputs": [
    {
     "data": {
      "text/html": [
       "<div>\n",
       "<style>\n",
       "    .dataframe thead tr:only-child th {\n",
       "        text-align: right;\n",
       "    }\n",
       "\n",
       "    .dataframe thead th {\n",
       "        text-align: left;\n",
       "    }\n",
       "\n",
       "    .dataframe tbody tr th {\n",
       "        vertical-align: top;\n",
       "    }\n",
       "</style>\n",
       "<table border=\"1\" class=\"dataframe\">\n",
       "  <thead>\n",
       "    <tr style=\"text-align: right;\">\n",
       "      <th></th>\n",
       "      <th>User_ID</th>\n",
       "      <th>Age</th>\n",
       "      <th>Occupation</th>\n",
       "      <th>Marital_Status</th>\n",
       "      <th>Product_Category_1</th>\n",
       "      <th>Product_Category_2</th>\n",
       "      <th>Product_Category_3</th>\n",
       "      <th>Purchase</th>\n",
       "    </tr>\n",
       "  </thead>\n",
       "  <tbody>\n",
       "    <tr>\n",
       "      <th>User_ID</th>\n",
       "      <td>1.000000</td>\n",
       "      <td>0.039459</td>\n",
       "      <td>-0.023971</td>\n",
       "      <td>0.020443</td>\n",
       "      <td>0.003825</td>\n",
       "      <td>0.001729</td>\n",
       "      <td>0.004297</td>\n",
       "      <td>0.004716</td>\n",
       "    </tr>\n",
       "    <tr>\n",
       "      <th>Age</th>\n",
       "      <td>0.039459</td>\n",
       "      <td>1.000000</td>\n",
       "      <td>0.092327</td>\n",
       "      <td>0.318062</td>\n",
       "      <td>0.060180</td>\n",
       "      <td>0.047336</td>\n",
       "      <td>0.037816</td>\n",
       "      <td>0.016328</td>\n",
       "    </tr>\n",
       "    <tr>\n",
       "      <th>Occupation</th>\n",
       "      <td>-0.023971</td>\n",
       "      <td>0.092327</td>\n",
       "      <td>1.000000</td>\n",
       "      <td>0.024280</td>\n",
       "      <td>-0.007618</td>\n",
       "      <td>-0.001512</td>\n",
       "      <td>0.006947</td>\n",
       "      <td>0.020833</td>\n",
       "    </tr>\n",
       "    <tr>\n",
       "      <th>Marital_Status</th>\n",
       "      <td>0.020443</td>\n",
       "      <td>0.318062</td>\n",
       "      <td>0.024280</td>\n",
       "      <td>1.000000</td>\n",
       "      <td>0.019888</td>\n",
       "      <td>0.013593</td>\n",
       "      <td>0.012185</td>\n",
       "      <td>-0.000463</td>\n",
       "    </tr>\n",
       "    <tr>\n",
       "      <th>Product_Category_1</th>\n",
       "      <td>0.003825</td>\n",
       "      <td>0.060180</td>\n",
       "      <td>-0.007618</td>\n",
       "      <td>0.019888</td>\n",
       "      <td>1.000000</td>\n",
       "      <td>0.284527</td>\n",
       "      <td>-0.020683</td>\n",
       "      <td>-0.343703</td>\n",
       "    </tr>\n",
       "    <tr>\n",
       "      <th>Product_Category_2</th>\n",
       "      <td>0.001729</td>\n",
       "      <td>0.047336</td>\n",
       "      <td>-0.001512</td>\n",
       "      <td>0.013593</td>\n",
       "      <td>0.284527</td>\n",
       "      <td>1.000000</td>\n",
       "      <td>0.262611</td>\n",
       "      <td>-0.127406</td>\n",
       "    </tr>\n",
       "    <tr>\n",
       "      <th>Product_Category_3</th>\n",
       "      <td>0.004297</td>\n",
       "      <td>0.037816</td>\n",
       "      <td>0.006947</td>\n",
       "      <td>0.012185</td>\n",
       "      <td>-0.020683</td>\n",
       "      <td>0.262611</td>\n",
       "      <td>1.000000</td>\n",
       "      <td>0.038499</td>\n",
       "    </tr>\n",
       "    <tr>\n",
       "      <th>Purchase</th>\n",
       "      <td>0.004716</td>\n",
       "      <td>0.016328</td>\n",
       "      <td>0.020833</td>\n",
       "      <td>-0.000463</td>\n",
       "      <td>-0.343703</td>\n",
       "      <td>-0.127406</td>\n",
       "      <td>0.038499</td>\n",
       "      <td>1.000000</td>\n",
       "    </tr>\n",
       "  </tbody>\n",
       "</table>\n",
       "</div>"
      ],
      "text/plain": [
       "                     User_ID       Age  Occupation  Marital_Status  \\\n",
       "User_ID             1.000000  0.039459   -0.023971        0.020443   \n",
       "Age                 0.039459  1.000000    0.092327        0.318062   \n",
       "Occupation         -0.023971  0.092327    1.000000        0.024280   \n",
       "Marital_Status      0.020443  0.318062    0.024280        1.000000   \n",
       "Product_Category_1  0.003825  0.060180   -0.007618        0.019888   \n",
       "Product_Category_2  0.001729  0.047336   -0.001512        0.013593   \n",
       "Product_Category_3  0.004297  0.037816    0.006947        0.012185   \n",
       "Purchase            0.004716  0.016328    0.020833       -0.000463   \n",
       "\n",
       "                    Product_Category_1  Product_Category_2  \\\n",
       "User_ID                       0.003825            0.001729   \n",
       "Age                           0.060180            0.047336   \n",
       "Occupation                   -0.007618           -0.001512   \n",
       "Marital_Status                0.019888            0.013593   \n",
       "Product_Category_1            1.000000            0.284527   \n",
       "Product_Category_2            0.284527            1.000000   \n",
       "Product_Category_3           -0.020683            0.262611   \n",
       "Purchase                     -0.343703           -0.127406   \n",
       "\n",
       "                    Product_Category_3  Purchase  \n",
       "User_ID                       0.004297  0.004716  \n",
       "Age                           0.037816  0.016328  \n",
       "Occupation                    0.006947  0.020833  \n",
       "Marital_Status                0.012185 -0.000463  \n",
       "Product_Category_1           -0.020683 -0.343703  \n",
       "Product_Category_2            0.262611 -0.127406  \n",
       "Product_Category_3            1.000000  0.038499  \n",
       "Purchase                      0.038499  1.000000  "
      ]
     },
     "execution_count": 28,
     "metadata": {},
     "output_type": "execute_result"
    }
   ],
   "source": [
    "# No real numerical features\n",
    "# No feature with strong correlation with target(purchase amount) \n",
    "corrmat = train.corr()\n",
    "\n",
    "corrmat"
   ]
  },
  {
   "cell_type": "markdown",
   "metadata": {},
   "source": [
    "### Visualization"
   ]
  },
  {
   "cell_type": "code",
   "execution_count": 29,
   "metadata": {
    "scrolled": true
   },
   "outputs": [
    {
     "data": {
      "text/plain": [
       "<matplotlib.axes._subplots.AxesSubplot at 0x21dd1bfccf8>"
      ]
     },
     "execution_count": 29,
     "metadata": {},
     "output_type": "execute_result"
    },
    {
     "data": {
      "image/png": "[encoded data removed]",
      "text/plain": [
       "<matplotlib.figure.Figure at 0x21dd1c472e8>"
      ]
     },
     "metadata": {},
     "output_type": "display_data"
    }
   ],
   "source": [
    "sns.boxplot(x = 'Age', y = 'Purchase',  data = train)"
   ]
  },
  {
   "cell_type": "code",
   "execution_count": 30,
   "metadata": {},
   "outputs": [
    {
     "data": {
      "text/plain": [
       "<matplotlib.axes._subplots.AxesSubplot at 0x21dd1c99ba8>"
      ]
     },
     "execution_count": 30,
     "metadata": {},
     "output_type": "execute_result"
    },
    {
     "data": {
      "image/png": "[encoded data removed]",
      "text/plain": [
       "<matplotlib.figure.Figure at 0x21dd1c47eb8>"
      ]
     },
     "metadata": {},
     "output_type": "display_data"
    }
   ],
   "source": [
    "sns.boxplot(x = 'City_Category', y = 'Purchase',  data = train)"
   ]
  },
  {
   "cell_type": "code",
   "execution_count": 31,
   "metadata": {},
   "outputs": [
    {
     "data": {
      "text/plain": [
       "<matplotlib.axes._subplots.AxesSubplot at 0x21dd6ab4668>"
      ]
     },
     "execution_count": 31,
     "metadata": {},
     "output_type": "execute_result"
    },
    {
     "data": {
      "image/png": "[encoded data removed]",
      "text/plain": [
       "<matplotlib.figure.Figure at 0x21dd6a9d128>"
      ]
     },
     "metadata": {},
     "output_type": "display_data"
    }
   ],
   "source": [
    "sns.boxplot(x = 'Gender', y = 'Purchase',  data = train)"
   ]
  },
  {
   "cell_type": "code",
   "execution_count": 32,
   "metadata": {},
   "outputs": [
    {
     "data": {
      "text/plain": [
       "<matplotlib.axes._subplots.AxesSubplot at 0x21dd1c474e0>"
      ]
     },
     "execution_count": 32,
     "metadata": {},
     "output_type": "execute_result"
    },
    {
     "data": {
      "image/png": "[encoded data removed]",
      "text/plain": [
       "<matplotlib.figure.Figure at 0x21dd1f60e80>"
      ]
     },
     "metadata": {},
     "output_type": "display_data"
    }
   ],
   "source": [
    "sns.boxplot(x = 'Marital_Status', y = 'Purchase',  data = train)"
   ]
  },
  {
   "cell_type": "code",
   "execution_count": 33,
   "metadata": {},
   "outputs": [
    {
     "data": {
      "text/plain": [
       "<matplotlib.axes._subplots.AxesSubplot at 0x21dd77997b8>"
      ]
     },
     "execution_count": 33,
     "metadata": {},
     "output_type": "execute_result"
    },
    {
     "data": {
      "image/png": "[encoded data removed]",
      "text/plain": [
       "<matplotlib.figure.Figure at 0x21dd77a8438>"
      ]
     },
     "metadata": {},
     "output_type": "display_data"
    }
   ],
   "source": [
    "plt.figure(figsize=(20,7))\n",
    "sns.boxplot(x = 'Occupation', y = 'Purchase',  data = train)"
   ]
  },
  {
   "cell_type": "code",
   "execution_count": 34,
   "metadata": {
    "scrolled": false
   },
   "outputs": [
    {
     "data": {
      "text/plain": [
       "<matplotlib.axes._subplots.AxesSubplot at 0x21dd278fb70>"
      ]
     },
     "execution_count": 34,
     "metadata": {},
     "output_type": "execute_result"
    },
    {
     "data": {
      "image/png": "[encoded data removed]",
      "text/plain": [
       "<matplotlib.figure.Figure at 0x21dd278b278>"
      ]
     },
     "metadata": {},
     "output_type": "display_data"
    }
   ],
   "source": [
    "plt.figure(figsize=(20,7))\n",
    "sns.boxplot(x = 'Product_Category_1', y = 'Purchase',  data = train)"
   ]
  },
  {
   "cell_type": "code",
   "execution_count": 35,
   "metadata": {},
   "outputs": [
    {
     "data": {
      "text/plain": [
       "<matplotlib.axes._subplots.AxesSubplot at 0x21dd278b160>"
      ]
     },
     "execution_count": 35,
     "metadata": {},
     "output_type": "execute_result"
    },
    {
     "data": {
      "image/png": "[encoded data removed]",
      "text/plain": [
       "<matplotlib.figure.Figure at 0x21dd6a676a0>"
      ]
     },
     "metadata": {},
     "output_type": "display_data"
    }
   ],
   "source": [
    "plt.figure(figsize=(20,7))\n",
    "sns.boxplot(x = 'Product_Category_2', y = 'Purchase',  data = train)"
   ]
  },
  {
   "cell_type": "code",
   "execution_count": 36,
   "metadata": {},
   "outputs": [
    {
     "data": {
      "text/plain": [
       "<matplotlib.axes._subplots.AxesSubplot at 0x21dd262ebe0>"
      ]
     },
     "execution_count": 36,
     "metadata": {},
     "output_type": "execute_result"
    },
    {
     "data": {
      "image/png": "[encoded data removed]",
      "text/plain": [
       "<matplotlib.figure.Figure at 0x21dd3a91860>"
      ]
     },
     "metadata": {},
     "output_type": "display_data"
    }
   ],
   "source": [
    "plt.figure(figsize=(20,7))\n",
    "sns.boxplot(x = 'Product_Category_3', y = 'Purchase',  data = train)"
   ]
  },
  {
   "cell_type": "code",
   "execution_count": 37,
   "metadata": {},
   "outputs": [
    {
     "data": {
      "text/plain": [
       "<matplotlib.axes._subplots.AxesSubplot at 0x21dd7716b00>"
      ]
     },
     "execution_count": 37,
     "metadata": {},
     "output_type": "execute_result"
    },
    {
     "data": {
      "image/png": "[encoded data removed]",
      "text/plain": [
       "<matplotlib.figure.Figure at 0x21dd6b863c8>"
      ]
     },
     "metadata": {},
     "output_type": "display_data"
    }
   ],
   "source": [
    "sns.boxplot(x = 'Stay_In_Current_City_Years', y = 'Purchase',  data = train)"
   ]
  },
  {
   "cell_type": "markdown",
   "metadata": {},
   "source": [
    "The only feature that seems to have big differences in purchase amounts between different subsets of the feature is \"Product_Category\""
   ]
  },
  {
   "cell_type": "markdown",
   "metadata": {},
   "source": [
    "## Creating New Features"
   ]
  },
  {
   "cell_type": "code",
   "execution_count": 38,
   "metadata": {
    "collapsed": true
   },
   "outputs": [],
   "source": [
    "# changing float or integer values in product category 1 & 2 & 3 into string so that I can combine three columns into one combined category\n",
    "\n",
    "train['Product_Category_1'] = train['Product_Category_1'].astype('str')\n",
    "train['Product_Category_2'] = train['Product_Category_2'].astype('str')\n",
    "train['Product_Category_3'] = train['Product_Category_3'].astype('str')"
   ]
  },
  {
   "cell_type": "code",
   "execution_count": 39,
   "metadata": {
    "collapsed": true,
    "scrolled": true
   },
   "outputs": [],
   "source": [
    "train['Product_Category_Combined']=\\\n",
    "train['Product_Category_1'] + '_' + train['Product_Category_2'] + '_' + train['Product_Category_3']"
   ]
  },
  {
   "cell_type": "code",
   "execution_count": 40,
   "metadata": {
    "scrolled": false
   },
   "outputs": [
    {
     "data": {
      "text/html": [
       "<div>\n",
       "<style>\n",
       "    .dataframe thead tr:only-child th {\n",
       "        text-align: right;\n",
       "    }\n",
       "\n",
       "    .dataframe thead th {\n",
       "        text-align: left;\n",
       "    }\n",
       "\n",
       "    .dataframe tbody tr th {\n",
       "        vertical-align: top;\n",
       "    }\n",
       "</style>\n",
       "<table border=\"1\" class=\"dataframe\">\n",
       "  <thead>\n",
       "    <tr style=\"text-align: right;\">\n",
       "      <th></th>\n",
       "      <th>User_ID</th>\n",
       "      <th>Product_ID</th>\n",
       "      <th>Gender</th>\n",
       "      <th>Age</th>\n",
       "      <th>Occupation</th>\n",
       "      <th>City_Category</th>\n",
       "      <th>Stay_In_Current_City_Years</th>\n",
       "      <th>Marital_Status</th>\n",
       "      <th>Product_Category_1</th>\n",
       "      <th>Product_Category_2</th>\n",
       "      <th>Product_Category_3</th>\n",
       "      <th>Purchase</th>\n",
       "      <th>Product_Category_Combined</th>\n",
       "    </tr>\n",
       "  </thead>\n",
       "  <tbody>\n",
       "    <tr>\n",
       "      <th>0</th>\n",
       "      <td>1000001</td>\n",
       "      <td>P00069042</td>\n",
       "      <td>F</td>\n",
       "      <td>10</td>\n",
       "      <td>10</td>\n",
       "      <td>A</td>\n",
       "      <td>2</td>\n",
       "      <td>0</td>\n",
       "      <td>3</td>\n",
       "      <td>6.0</td>\n",
       "      <td>14.0</td>\n",
       "      <td>8370</td>\n",
       "      <td>3_6.0_14.0</td>\n",
       "    </tr>\n",
       "    <tr>\n",
       "      <th>1</th>\n",
       "      <td>1000001</td>\n",
       "      <td>P00248942</td>\n",
       "      <td>F</td>\n",
       "      <td>10</td>\n",
       "      <td>10</td>\n",
       "      <td>A</td>\n",
       "      <td>2</td>\n",
       "      <td>0</td>\n",
       "      <td>1</td>\n",
       "      <td>6.0</td>\n",
       "      <td>14.0</td>\n",
       "      <td>15200</td>\n",
       "      <td>1_6.0_14.0</td>\n",
       "    </tr>\n",
       "    <tr>\n",
       "      <th>2</th>\n",
       "      <td>1000001</td>\n",
       "      <td>P00087842</td>\n",
       "      <td>F</td>\n",
       "      <td>10</td>\n",
       "      <td>10</td>\n",
       "      <td>A</td>\n",
       "      <td>2</td>\n",
       "      <td>0</td>\n",
       "      <td>12</td>\n",
       "      <td>14.0</td>\n",
       "      <td>17.0</td>\n",
       "      <td>1422</td>\n",
       "      <td>12_14.0_17.0</td>\n",
       "    </tr>\n",
       "    <tr>\n",
       "      <th>3</th>\n",
       "      <td>1000001</td>\n",
       "      <td>P00085442</td>\n",
       "      <td>F</td>\n",
       "      <td>10</td>\n",
       "      <td>10</td>\n",
       "      <td>A</td>\n",
       "      <td>2</td>\n",
       "      <td>0</td>\n",
       "      <td>12</td>\n",
       "      <td>14.0</td>\n",
       "      <td>17.0</td>\n",
       "      <td>1057</td>\n",
       "      <td>12_14.0_17.0</td>\n",
       "    </tr>\n",
       "    <tr>\n",
       "      <th>4</th>\n",
       "      <td>1000002</td>\n",
       "      <td>P00285442</td>\n",
       "      <td>M</td>\n",
       "      <td>55</td>\n",
       "      <td>16</td>\n",
       "      <td>C</td>\n",
       "      <td>4</td>\n",
       "      <td>0</td>\n",
       "      <td>8</td>\n",
       "      <td>2.0</td>\n",
       "      <td>17.0</td>\n",
       "      <td>7969</td>\n",
       "      <td>8_2.0_17.0</td>\n",
       "    </tr>\n",
       "  </tbody>\n",
       "</table>\n",
       "</div>"
      ],
      "text/plain": [
       "   User_ID Product_ID Gender  Age  Occupation City_Category  \\\n",
       "0  1000001  P00069042      F   10          10             A   \n",
       "1  1000001  P00248942      F   10          10             A   \n",
       "2  1000001  P00087842      F   10          10             A   \n",
       "3  1000001  P00085442      F   10          10             A   \n",
       "4  1000002  P00285442      M   55          16             C   \n",
       "\n",
       "  Stay_In_Current_City_Years  Marital_Status Product_Category_1  \\\n",
       "0                          2               0                  3   \n",
       "1                          2               0                  1   \n",
       "2                          2               0                 12   \n",
       "3                          2               0                 12   \n",
       "4                          4               0                  8   \n",
       "\n",
       "  Product_Category_2 Product_Category_3  Purchase Product_Category_Combined  \n",
       "0                6.0               14.0      8370                3_6.0_14.0  \n",
       "1                6.0               14.0     15200                1_6.0_14.0  \n",
       "2               14.0               17.0      1422              12_14.0_17.0  \n",
       "3               14.0               17.0      1057              12_14.0_17.0  \n",
       "4                2.0               17.0      7969                8_2.0_17.0  "
      ]
     },
     "execution_count": 40,
     "metadata": {},
     "output_type": "execute_result"
    }
   ],
   "source": [
    "train.head()"
   ]
  },
  {
   "cell_type": "markdown",
   "metadata": {},
   "source": [
    "## Encoding some categorical Features"
   ]
  },
  {
   "cell_type": "code",
   "execution_count": 41,
   "metadata": {
    "scrolled": true
   },
   "outputs": [
    {
     "name": "stdout",
     "output_type": "stream",
     "text": [
      "<class 'pandas.core.frame.DataFrame'>\n",
      "RangeIndex: 550068 entries, 0 to 550067\n",
      "Data columns (total 13 columns):\n",
      "User_ID                       550068 non-null int64\n",
      "Product_ID                    550068 non-null object\n",
      "Gender                        550068 non-null object\n",
      "Age                           550068 non-null int64\n",
      "Occupation                    550068 non-null int64\n",
      "City_Category                 550068 non-null object\n",
      "Stay_In_Current_City_Years    550068 non-null object\n",
      "Marital_Status                550068 non-null int64\n",
      "Product_Category_1            550068 non-null object\n",
      "Product_Category_2            550068 non-null object\n",
      "Product_Category_3            550068 non-null object\n",
      "Purchase                      550068 non-null int64\n",
      "Product_Category_Combined     550068 non-null object\n",
      "dtypes: int64(5), object(8)\n",
      "memory usage: 54.6+ MB\n"
     ]
    }
   ],
   "source": [
    "train.info()"
   ]
  },
  {
   "cell_type": "code",
   "execution_count": 42,
   "metadata": {
    "collapsed": true
   },
   "outputs": [],
   "source": [
    "train.set_index(['User_ID', 'Product_ID'], inplace=True)"
   ]
  },
  {
   "cell_type": "markdown",
   "metadata": {},
   "source": [
    "'Age' and 'Stay_In_Current_City_Years' are nominal features but they were already numbered from the beginning. But dtype of 'Stay_In_Current_City_Years' is object, so we need to change the dtype to float64 or int64"
   ]
  },
  {
   "cell_type": "code",
   "execution_count": 43,
   "metadata": {
    "collapsed": true
   },
   "outputs": [],
   "source": [
    "train.loc[:,'Stay_In_Current_City_Years'] = train.loc[:,'Stay_In_Current_City_Years'].astype('int64')"
   ]
  },
  {
   "cell_type": "markdown",
   "metadata": {},
   "source": [
    "Marital Status feature is, strictly speaking, a nominal categorical feature. So, in order to use get_dummies on the feature, we need to change the dtype to string"
   ]
  },
  {
   "cell_type": "code",
   "execution_count": 44,
   "metadata": {
    "collapsed": true
   },
   "outputs": [],
   "source": [
    "train.loc[:,'Marital_Status'] = train.loc[:,'Marital_Status'].astype('str')"
   ]
  },
  {
   "cell_type": "markdown",
   "metadata": {},
   "source": [
    "Since \"Product_Category\" is the only feature that has relatively strong correlation with the target, I will give different weights to each category in accordance with their respective mean values using the groupby method"
   ]
  },
  {
   "cell_type": "code",
   "execution_count": 45,
   "metadata": {
    "collapsed": true,
    "scrolled": true
   },
   "outputs": [],
   "source": [
    "train['Product_Category_Combined_num'] = train.groupby('Product_Category_Combined')['Purchase'].transform(lambda x: x.mean())"
   ]
  },
  {
   "cell_type": "code",
   "execution_count": 46,
   "metadata": {
    "collapsed": true
   },
   "outputs": [],
   "source": [
    "train['Product_Category_cat1_num'] = train.groupby('Product_Category_1')['Purchase'].transform(lambda x: np.median(x))"
   ]
  },
  {
   "cell_type": "code",
   "execution_count": 47,
   "metadata": {
    "collapsed": true,
    "scrolled": true
   },
   "outputs": [],
   "source": [
    "train = pd.get_dummies(train, columns=['City_Category', 'Gender', 'Occupation', 'Marital_Status'])"
   ]
  },
  {
   "cell_type": "code",
   "execution_count": 48,
   "metadata": {
    "scrolled": true
   },
   "outputs": [
    {
     "name": "stdout",
     "output_type": "stream",
     "text": [
      "<class 'pandas.core.frame.DataFrame'>\n",
      "MultiIndex: 550068 entries, (1000001, P00069042) to (1006039, P00371644)\n",
      "Data columns (total 37 columns):\n",
      "Age                              550068 non-null int64\n",
      "Stay_In_Current_City_Years       550068 non-null int64\n",
      "Product_Category_1               550068 non-null object\n",
      "Product_Category_2               550068 non-null object\n",
      "Product_Category_3               550068 non-null object\n",
      "Purchase                         550068 non-null int64\n",
      "Product_Category_Combined        550068 non-null object\n",
      "Product_Category_Combined_num    550068 non-null float64\n",
      "Product_Category_cat1_num        550068 non-null float64\n",
      "City_Category_A                  550068 non-null uint8\n",
      "City_Category_B                  550068 non-null uint8\n",
      "City_Category_C                  550068 non-null uint8\n",
      "Gender_F                         550068 non-null uint8\n",
      "Gender_M                         550068 non-null uint8\n",
      "Occupation_0                     550068 non-null uint8\n",
      "Occupation_1                     550068 non-null uint8\n",
      "Occupation_2                     550068 non-null uint8\n",
      "Occupation_3                     550068 non-null uint8\n",
      "Occupation_4                     550068 non-null uint8\n",
      "Occupation_5                     550068 non-null uint8\n",
      "Occupation_6                     550068 non-null uint8\n",
      "Occupation_7                     550068 non-null uint8\n",
      "Occupation_8                     550068 non-null uint8\n",
      "Occupation_9                     550068 non-null uint8\n",
      "Occupation_10                    550068 non-null uint8\n",
      "Occupation_11                    550068 non-null uint8\n",
      "Occupation_12                    550068 non-null uint8\n",
      "Occupation_13                    550068 non-null uint8\n",
      "Occupation_14                    550068 non-null uint8\n",
      "Occupation_15                    550068 non-null uint8\n",
      "Occupation_16                    550068 non-null uint8\n",
      "Occupation_17                    550068 non-null uint8\n",
      "Occupation_18                    550068 non-null uint8\n",
      "Occupation_19                    550068 non-null uint8\n",
      "Occupation_20                    550068 non-null uint8\n",
      "Marital_Status_0                 550068 non-null uint8\n",
      "Marital_Status_1                 550068 non-null uint8\n",
      "dtypes: float64(2), int64(3), object(4), uint8(28)\n",
      "memory usage: 54.6+ MB\n"
     ]
    }
   ],
   "source": [
    "train.info()"
   ]
  },
  {
   "cell_type": "markdown",
   "metadata": {},
   "source": [
    "## Creating Additional New Features"
   ]
  },
  {
   "cell_type": "code",
   "execution_count": 49,
   "metadata": {
    "collapsed": true
   },
   "outputs": [],
   "source": [
    "train['Product_Category_Combined_num_2'] = (train['Product_Category_Combined_num'])**2\n",
    "train['Product_Category_Combined_num_3'] = (train['Product_Category_Combined_num'])**3\n",
    "train['Product_Category_Combined_num_sqrt'] = np.sqrt(train['Product_Category_Combined_num'])\n",
    "train['Product_Category_cat1_num_2'] = (train['Product_Category_cat1_num'])**2"
   ]
  },
  {
   "cell_type": "markdown",
   "metadata": {},
   "source": [
    "## Checking Skewness of nominal features and target label"
   ]
  },
  {
   "cell_type": "markdown",
   "metadata": {},
   "source": [
    "We don't have any numerical features here, but I made one by giving different weights to different product categories. I will also examine the distribution of the target label(Purchase amount)."
   ]
  },
  {
   "cell_type": "code",
   "execution_count": 50,
   "metadata": {},
   "outputs": [
    {
     "data": {
      "text/plain": [
       "Product_Category_Combined_num         0.277748\n",
       "Product_Category_Combined_num_2       0.923509\n",
       "Product_Category_Combined_num_3       1.576666\n",
       "Product_Category_Combined_num_sqrt   -0.458878\n",
       "Product_Category_cat1_num             0.114017\n",
       "Product_Category_cat1_num_2           0.535283\n",
       "dtype: float64"
      ]
     },
     "execution_count": 50,
     "metadata": {},
     "output_type": "execute_result"
    }
   ],
   "source": [
    "# Measuring Skewness of features\n",
    "numerical_features = ['Product_Category_Combined_num', 'Product_Category_Combined_num_2',\n",
    "                      'Product_Category_Combined_num_3','Product_Category_Combined_num_sqrt',\n",
    "                     'Product_Category_cat1_num', 'Product_Category_cat1_num_2']\n",
    "\n",
    "train[numerical_features].apply(lambda x: skew(x))"
   ]
  },
  {
   "cell_type": "code",
   "execution_count": 51,
   "metadata": {
    "collapsed": true
   },
   "outputs": [],
   "source": [
    "# sqrt transformation to fix skewness\n",
    "\n",
    "train.loc[:, ['Product_Category_Combined_num_2','Product_Category_Combined_num_3', 'Product_Category_cat1_num_2']] =\\\n",
    "np.sqrt(train.loc[:, ['Product_Category_Combined_num_2','Product_Category_Combined_num_3','Product_Category_cat1_num_2']])"
   ]
  },
  {
   "cell_type": "code",
   "execution_count": 52,
   "metadata": {},
   "outputs": [
    {
     "data": {
      "text/plain": [
       "Product_Category_Combined_num         0.277748\n",
       "Product_Category_Combined_num_2       0.277748\n",
       "Product_Category_Combined_num_3       0.640922\n",
       "Product_Category_Combined_num_sqrt   -0.458878\n",
       "Product_Category_cat1_num             0.114017\n",
       "Product_Category_cat1_num_2           0.114017\n",
       "dtype: float64"
      ]
     },
     "execution_count": 52,
     "metadata": {},
     "output_type": "execute_result"
    }
   ],
   "source": [
    "# checking skewness again\n",
    "\n",
    "train[numerical_features].apply(lambda x: skew(x))"
   ]
  },
  {
   "cell_type": "code",
   "execution_count": 53,
   "metadata": {},
   "outputs": [
    {
     "data": {
      "text/plain": [
       "0.6001383671643447"
      ]
     },
     "execution_count": 53,
     "metadata": {},
     "output_type": "execute_result"
    }
   ],
   "source": [
    "# Measuring skewness of target label (purchase amount)\n",
    "skew(train['Purchase'])"
   ]
  },
  {
   "cell_type": "code",
   "execution_count": 54,
   "metadata": {
    "collapsed": true
   },
   "outputs": [],
   "source": [
    "train.loc[:,['Purchase']]= np.sqrt(train.loc[:,['Purchase']])"
   ]
  },
  {
   "cell_type": "code",
   "execution_count": 55,
   "metadata": {},
   "outputs": [
    {
     "data": {
      "text/plain": [
       "-0.13958758205102084"
      ]
     },
     "execution_count": 55,
     "metadata": {},
     "output_type": "execute_result"
    }
   ],
   "source": [
    "# Measuring skewness of target label again\n",
    "skew(train['Purchase'])"
   ]
  },
  {
   "cell_type": "markdown",
   "metadata": {},
   "source": [
    "## Splitting into Training and Testing Data"
   ]
  },
  {
   "cell_type": "code",
   "execution_count": 56,
   "metadata": {},
   "outputs": [
    {
     "data": {
      "text/plain": [
       "array(['Age', 'Stay_In_Current_City_Years', 'Product_Category_1',\n",
       "       'Product_Category_2', 'Product_Category_3', 'Purchase',\n",
       "       'Product_Category_Combined', 'Product_Category_Combined_num',\n",
       "       'Product_Category_cat1_num', 'City_Category_A', 'City_Category_B',\n",
       "       'City_Category_C', 'Gender_F', 'Gender_M', 'Occupation_0',\n",
       "       'Occupation_1', 'Occupation_2', 'Occupation_3', 'Occupation_4',\n",
       "       'Occupation_5', 'Occupation_6', 'Occupation_7', 'Occupation_8',\n",
       "       'Occupation_9', 'Occupation_10', 'Occupation_11', 'Occupation_12',\n",
       "       'Occupation_13', 'Occupation_14', 'Occupation_15', 'Occupation_16',\n",
       "       'Occupation_17', 'Occupation_18', 'Occupation_19', 'Occupation_20',\n",
       "       'Marital_Status_0', 'Marital_Status_1',\n",
       "       'Product_Category_Combined_num_2',\n",
       "       'Product_Category_Combined_num_3',\n",
       "       'Product_Category_Combined_num_sqrt', 'Product_Category_cat1_num_2'], dtype=object)"
      ]
     },
     "execution_count": 56,
     "metadata": {},
     "output_type": "execute_result"
    }
   ],
   "source": [
    "train.columns.values"
   ]
  },
  {
   "cell_type": "code",
   "execution_count": 57,
   "metadata": {
    "collapsed": true
   },
   "outputs": [],
   "source": [
    "train.reset_index(inplace=True)"
   ]
  },
  {
   "cell_type": "code",
   "execution_count": 58,
   "metadata": {
    "collapsed": true
   },
   "outputs": [],
   "source": [
    "train.set_index(['User_ID', 'Product_ID','Product_Category_Combined'], inplace=True)"
   ]
  },
  {
   "cell_type": "code",
   "execution_count": 59,
   "metadata": {
    "collapsed": true
   },
   "outputs": [],
   "source": [
    "cat_dropped_train = train.drop(labels=['Product_Category_1', 'Product_Category_2', 'Product_Category_3'],axis=1)"
   ]
  },
  {
   "cell_type": "code",
   "execution_count": 60,
   "metadata": {
    "scrolled": true
   },
   "outputs": [
    {
     "name": "stdout",
     "output_type": "stream",
     "text": [
      "<class 'pandas.core.frame.DataFrame'>\n",
      "MultiIndex: 550068 entries, (1000001, P00069042, 3_6.0_14.0) to (1006039, P00371644, 20_0.0_0.0)\n",
      "Data columns (total 37 columns):\n",
      "Age                                   550068 non-null int64\n",
      "Stay_In_Current_City_Years            550068 non-null int64\n",
      "Purchase                              550068 non-null float64\n",
      "Product_Category_Combined_num         550068 non-null float64\n",
      "Product_Category_cat1_num             550068 non-null float64\n",
      "City_Category_A                       550068 non-null uint8\n",
      "City_Category_B                       550068 non-null uint8\n",
      "City_Category_C                       550068 non-null uint8\n",
      "Gender_F                              550068 non-null uint8\n",
      "Gender_M                              550068 non-null uint8\n",
      "Occupation_0                          550068 non-null uint8\n",
      "Occupation_1                          550068 non-null uint8\n",
      "Occupation_2                          550068 non-null uint8\n",
      "Occupation_3                          550068 non-null uint8\n",
      "Occupation_4                          550068 non-null uint8\n",
      "Occupation_5                          550068 non-null uint8\n",
      "Occupation_6                          550068 non-null uint8\n",
      "Occupation_7                          550068 non-null uint8\n",
      "Occupation_8                          550068 non-null uint8\n",
      "Occupation_9                          550068 non-null uint8\n",
      "Occupation_10                         550068 non-null uint8\n",
      "Occupation_11                         550068 non-null uint8\n",
      "Occupation_12                         550068 non-null uint8\n",
      "Occupation_13                         550068 non-null uint8\n",
      "Occupation_14                         550068 non-null uint8\n",
      "Occupation_15                         550068 non-null uint8\n",
      "Occupation_16                         550068 non-null uint8\n",
      "Occupation_17                         550068 non-null uint8\n",
      "Occupation_18                         550068 non-null uint8\n",
      "Occupation_19                         550068 non-null uint8\n",
      "Occupation_20                         550068 non-null uint8\n",
      "Marital_Status_0                      550068 non-null uint8\n",
      "Marital_Status_1                      550068 non-null uint8\n",
      "Product_Category_Combined_num_2       550068 non-null float64\n",
      "Product_Category_Combined_num_3       550068 non-null float64\n",
      "Product_Category_Combined_num_sqrt    550068 non-null float64\n",
      "Product_Category_cat1_num_2           550068 non-null float64\n",
      "dtypes: float64(7), int64(2), uint8(28)\n",
      "memory usage: 55.7+ MB\n"
     ]
    }
   ],
   "source": [
    "cat_dropped_train.info()"
   ]
  },
  {
   "cell_type": "code",
   "execution_count": 61,
   "metadata": {
    "collapsed": true
   },
   "outputs": [],
   "source": [
    "Y = cat_dropped_train.loc[:,['Purchase']]"
   ]
  },
  {
   "cell_type": "code",
   "execution_count": 62,
   "metadata": {
    "collapsed": true
   },
   "outputs": [],
   "source": [
    "X = cat_dropped_train.drop(labels=['Purchase'], axis=1)"
   ]
  },
  {
   "cell_type": "code",
   "execution_count": 63,
   "metadata": {
    "collapsed": true
   },
   "outputs": [],
   "source": [
    "X_train, X_test, Y_train, Y_test = train_test_split(X,Y,test_size=0.3, random_state=42)"
   ]
  },
  {
   "cell_type": "code",
   "execution_count": 64,
   "metadata": {},
   "outputs": [
    {
     "name": "stdout",
     "output_type": "stream",
     "text": [
      "X_train : <class 'pandas.core.frame.DataFrame'>(385047, 36)\n",
      "X_test : <class 'pandas.core.frame.DataFrame'>(165021, 36)\n",
      "Y_train : <class 'pandas.core.frame.DataFrame'>(385047, 1)\n",
      "Y_test : <class 'pandas.core.frame.DataFrame'>(165021, 1)\n"
     ]
    }
   ],
   "source": [
    "print(\"X_train : \" + str(type(X_train)) + str(X_train.shape))\n",
    "print(\"X_test : \" + str(type(X_test)) + str(X_test.shape))\n",
    "print(\"Y_train : \" + str(type(Y_train)) + str(Y_train.shape))\n",
    "print(\"Y_test : \" + str(type(Y_test)) + str(Y_test.shape))"
   ]
  },
  {
   "cell_type": "code",
   "execution_count": 65,
   "metadata": {
    "collapsed": true
   },
   "outputs": [],
   "source": [
    "# X_train = np.memmap('x_train.csv', dtype='float64', mode='w+', shape=(1148530,49))\n",
    "# X_test = np.memmap('x_test.csv', dtype='float64', mode='w+', shape=(492228,49))\n",
    "# Y_train = np.memmap('y_train.csv', dtype='float64', mode='w+', shape=(1148530,1))\n",
    "# Y_test  = np.memmap('t_test.csv', dtype='float64', mode='w+', shape=(492228,1))"
   ]
  },
  {
   "cell_type": "markdown",
   "metadata": {},
   "source": [
    "## Standardizing Numerical Features"
   ]
  },
  {
   "cell_type": "code",
   "execution_count": 66,
   "metadata": {},
   "outputs": [
    {
     "name": "stderr",
     "output_type": "stream",
     "text": [
      "C:\\Users\\Seungjun\\Anaconda3\\lib\\site-packages\\ipykernel\\kernelbase.py:399: PerformanceWarning: indexing past lexsort depth may impact performance.\n",
      "  user_expressions, allow_stdin)\n",
      "C:\\Users\\Seungjun\\Anaconda3\\lib\\site-packages\\pandas\\core\\indexing.py:517: SettingWithCopyWarning: \n",
      "A value is trying to be set on a copy of a slice from a DataFrame.\n",
      "Try using .loc[row_indexer,col_indexer] = value instead\n",
      "\n",
      "See the caveats in the documentation: http://pandas.pydata.org/pandas-docs/stable/indexing.html#indexing-view-versus-copy\n",
      "  self.obj[item] = s\n"
     ]
    }
   ],
   "source": [
    "# Standardize train data's numerical features\n",
    "\n",
    "stdSc = StandardScaler()\n",
    "\n",
    "X_train.loc[:,numerical_features] = stdSc.fit_transform(X_train.loc[:,numerical_features])\n",
    "X_test.loc[:,numerical_features] = stdSc.fit_transform(X_test.loc[:,numerical_features])"
   ]
  },
  {
   "cell_type": "markdown",
   "metadata": {},
   "source": [
    "## Making Score Metric"
   ]
  },
  {
   "cell_type": "code",
   "execution_count": 67,
   "metadata": {
    "collapsed": true
   },
   "outputs": [],
   "source": [
    "# Define error measure for official scoring : RMSE\n",
    "\n",
    "scorer = make_scorer(mean_squared_error, greater_is_better = False)\n",
    "\n",
    "def rmse_cv_train(model):\n",
    "    rmse= (np.sqrt(-cross_val_score(model, X_train, Y_train, scoring = scorer))).mean()\n",
    "    return(rmse)\n",
    "\n",
    "def rmse_cv_test(model):\n",
    "    rmse= (np.sqrt(-cross_val_score(model, X_test, Y_test, scoring = scorer))).mean()\n",
    "    return(rmse)"
   ]
  },
  {
   "cell_type": "markdown",
   "metadata": {},
   "source": [
    "## Linear Regression"
   ]
  },
  {
   "cell_type": "code",
   "execution_count": 68,
   "metadata": {},
   "outputs": [
    {
     "name": "stdout",
     "output_type": "stream",
     "text": [
      "RMSE on Training set : 15.3987882412\n",
      "RMSE on Test set : 15.5354291081\n"
     ]
    }
   ],
   "source": [
    "# Linear Regression\n",
    "lr_model = LinearRegression()\n",
    "lr_model.fit(X_train, Y_train)\n",
    "\n",
    "# Look at predictions on training and validation set\n",
    "print(\"RMSE on Training set :\", rmse_cv_train(lr_model))\n",
    "print(\"RMSE on Test set :\", rmse_cv_test(lr_model))"
   ]
  },
  {
   "cell_type": "code",
   "execution_count": 69,
   "metadata": {},
   "outputs": [
    {
     "data": {
      "text/plain": [
       "<matplotlib.collections.LineCollection at 0x21de7645e10>"
      ]
     },
     "execution_count": 69,
     "metadata": {},
     "output_type": "execute_result"
    },
    {
     "data": {
      "image/png": "[encoded data removed]",
      "text/plain": [
       "<matplotlib.figure.Figure at 0x21de52c4eb8>"
      ]
     },
     "metadata": {},
     "output_type": "display_data"
    }
   ],
   "source": [
    "# Plot residuals\n",
    "plt.scatter(lr_model.predict(X_train), lr_model.predict(X_train) - Y_train, c = \"blue\", label = \"Training data\", s=5)\n",
    "plt.scatter(lr_model.predict(X_test), lr_model.predict(X_test) - Y_test, c = \"lightgreen\", label = \"Validation data\", s=5)\n",
    "\n",
    "plt.title(\"Linear regression\")\n",
    "plt.xlabel(\"Predicted values\")\n",
    "plt.ylabel(\"Residuals\")\n",
    "plt.legend(loc = \"upper left\")\n",
    "plt.hlines(y = 0, xmin = min(lr_model.predict(X_train)), xmax = max(lr_model.predict(X_train)), color = \"red\")"
   ]
  },
  {
   "cell_type": "code",
   "execution_count": 70,
   "metadata": {},
   "outputs": [
    {
     "data": {
      "text/plain": [
       "[<matplotlib.lines.Line2D at 0x21de777d160>]"
      ]
     },
     "execution_count": 70,
     "metadata": {},
     "output_type": "execute_result"
    },
    {
     "data": {
      "image/png": "[encoded data removed]",
      "text/plain": [
       "<matplotlib.figure.Figure at 0x21dd7236240>"
      ]
     },
     "metadata": {},
     "output_type": "display_data"
    }
   ],
   "source": [
    "# Plot predictions\n",
    "plt.scatter(lr_model.predict(X_train), Y_train, c = \"blue\", label = \"Training data\", s=5)\n",
    "plt.scatter(lr_model.predict(X_test), Y_test, c = \"lightgreen\", label = \"Validation data\", s=5)\n",
    "\n",
    "plt.title(\"Linear regression\")\n",
    "plt.xlabel(\"Predicted values\")\n",
    "plt.ylabel(\"Real values\")\n",
    "plt.legend(loc = \"upper left\")\n",
    "\n",
    "plt.plot([min(lr_model.predict(X_train)), max(lr_model.predict(X_train))], \n",
    "         [min(lr_model.predict(X_train)), max(lr_model.predict(X_train))], c='red')"
   ]
  },
  {
   "cell_type": "markdown",
   "metadata": {},
   "source": [
    "## SGD Regressor"
   ]
  },
  {
   "cell_type": "code",
   "execution_count": 71,
   "metadata": {
    "collapsed": true
   },
   "outputs": [],
   "source": [
    "from sklearn.linear_model import SGDRegressor"
   ]
  },
  {
   "cell_type": "code",
   "execution_count": 72,
   "metadata": {
    "scrolled": true
   },
   "outputs": [
    {
     "name": "stderr",
     "output_type": "stream",
     "text": [
      "C:\\Users\\Seungjun\\Anaconda3\\lib\\site-packages\\sklearn\\utils\\validation.py:526: DataConversionWarning: A column-vector y was passed when a 1d array was expected. Please change the shape of y to (n_samples, ), for example using ravel().\n",
      "  y = column_or_1d(y, warn=True)\n",
      "C:\\Users\\Seungjun\\Anaconda3\\lib\\site-packages\\sklearn\\utils\\validation.py:526: DataConversionWarning: A column-vector y was passed when a 1d array was expected. Please change the shape of y to (n_samples, ), for example using ravel().\n",
      "  y = column_or_1d(y, warn=True)\n",
      "C:\\Users\\Seungjun\\Anaconda3\\lib\\site-packages\\sklearn\\utils\\validation.py:526: DataConversionWarning: A column-vector y was passed when a 1d array was expected. Please change the shape of y to (n_samples, ), for example using ravel().\n",
      "  y = column_or_1d(y, warn=True)\n",
      "C:\\Users\\Seungjun\\Anaconda3\\lib\\site-packages\\sklearn\\utils\\validation.py:526: DataConversionWarning: A column-vector y was passed when a 1d array was expected. Please change the shape of y to (n_samples, ), for example using ravel().\n",
      "  y = column_or_1d(y, warn=True)\n"
     ]
    },
    {
     "name": "stdout",
     "output_type": "stream",
     "text": [
      "RMSE on Training set : 43393209.4999\n"
     ]
    },
    {
     "name": "stderr",
     "output_type": "stream",
     "text": [
      "C:\\Users\\Seungjun\\Anaconda3\\lib\\site-packages\\sklearn\\utils\\validation.py:526: DataConversionWarning: A column-vector y was passed when a 1d array was expected. Please change the shape of y to (n_samples, ), for example using ravel().\n",
      "  y = column_or_1d(y, warn=True)\n",
      "C:\\Users\\Seungjun\\Anaconda3\\lib\\site-packages\\sklearn\\utils\\validation.py:526: DataConversionWarning: A column-vector y was passed when a 1d array was expected. Please change the shape of y to (n_samples, ), for example using ravel().\n",
      "  y = column_or_1d(y, warn=True)\n",
      "C:\\Users\\Seungjun\\Anaconda3\\lib\\site-packages\\sklearn\\utils\\validation.py:526: DataConversionWarning: A column-vector y was passed when a 1d array was expected. Please change the shape of y to (n_samples, ), for example using ravel().\n",
      "  y = column_or_1d(y, warn=True)\n"
     ]
    },
    {
     "name": "stdout",
     "output_type": "stream",
     "text": [
      "RMSE on Test set : 81088461.1061\n"
     ]
    }
   ],
   "source": [
    "sgd = SGDRegressor(random_state=42)\n",
    "sgd.partial_fit(X_train, Y_train)\n",
    "\n",
    "print(\"RMSE on Training set :\", rmse_cv_train(sgd))\n",
    "print(\"RMSE on Test set :\", rmse_cv_test(sgd))"
   ]
  },
  {
   "cell_type": "markdown",
   "metadata": {},
   "source": [
    "## Passive Aggressive Regressor"
   ]
  },
  {
   "cell_type": "code",
   "execution_count": 73,
   "metadata": {
    "collapsed": true
   },
   "outputs": [],
   "source": [
    "from sklearn.linear_model import PassiveAggressiveRegressor"
   ]
  },
  {
   "cell_type": "code",
   "execution_count": 74,
   "metadata": {
    "scrolled": true
   },
   "outputs": [
    {
     "name": "stderr",
     "output_type": "stream",
     "text": [
      "C:\\Users\\Seungjun\\Anaconda3\\lib\\site-packages\\sklearn\\utils\\validation.py:526: DataConversionWarning: A column-vector y was passed when a 1d array was expected. Please change the shape of y to (n_samples, ), for example using ravel().\n",
      "  y = column_or_1d(y, warn=True)\n",
      "C:\\Users\\Seungjun\\Anaconda3\\lib\\site-packages\\sklearn\\utils\\validation.py:526: DataConversionWarning: A column-vector y was passed when a 1d array was expected. Please change the shape of y to (n_samples, ), for example using ravel().\n",
      "  y = column_or_1d(y, warn=True)\n",
      "C:\\Users\\Seungjun\\Anaconda3\\lib\\site-packages\\sklearn\\utils\\validation.py:526: DataConversionWarning: A column-vector y was passed when a 1d array was expected. Please change the shape of y to (n_samples, ), for example using ravel().\n",
      "  y = column_or_1d(y, warn=True)\n",
      "C:\\Users\\Seungjun\\Anaconda3\\lib\\site-packages\\sklearn\\utils\\validation.py:526: DataConversionWarning: A column-vector y was passed when a 1d array was expected. Please change the shape of y to (n_samples, ), for example using ravel().\n",
      "  y = column_or_1d(y, warn=True)\n"
     ]
    },
    {
     "name": "stdout",
     "output_type": "stream",
     "text": [
      "RMSE on Training set : 22.9582293244\n"
     ]
    },
    {
     "name": "stderr",
     "output_type": "stream",
     "text": [
      "C:\\Users\\Seungjun\\Anaconda3\\lib\\site-packages\\sklearn\\utils\\validation.py:526: DataConversionWarning: A column-vector y was passed when a 1d array was expected. Please change the shape of y to (n_samples, ), for example using ravel().\n",
      "  y = column_or_1d(y, warn=True)\n",
      "C:\\Users\\Seungjun\\Anaconda3\\lib\\site-packages\\sklearn\\utils\\validation.py:526: DataConversionWarning: A column-vector y was passed when a 1d array was expected. Please change the shape of y to (n_samples, ), for example using ravel().\n",
      "  y = column_or_1d(y, warn=True)\n",
      "C:\\Users\\Seungjun\\Anaconda3\\lib\\site-packages\\sklearn\\utils\\validation.py:526: DataConversionWarning: A column-vector y was passed when a 1d array was expected. Please change the shape of y to (n_samples, ), for example using ravel().\n",
      "  y = column_or_1d(y, warn=True)\n"
     ]
    },
    {
     "name": "stdout",
     "output_type": "stream",
     "text": [
      "RMSE on Test set : 25.956219088\n"
     ]
    }
   ],
   "source": [
    "pass_agg = PassiveAggressiveRegressor(random_state=42)\n",
    "pass_agg.partial_fit(X_train, Y_train)\n",
    "\n",
    "print(\"RMSE on Training set :\", rmse_cv_train(pass_agg))\n",
    "print(\"RMSE on Test set :\", rmse_cv_test(pass_agg))"
   ]
  },
  {
   "cell_type": "markdown",
   "metadata": {},
   "source": [
    "## Ridge Regression"
   ]
  },
  {
   "cell_type": "code",
   "execution_count": 75,
   "metadata": {
    "collapsed": true
   },
   "outputs": [],
   "source": [
    "# X_train.values.shape, Y_train.values.shape"
   ]
  },
  {
   "cell_type": "code",
   "execution_count": 76,
   "metadata": {
    "collapsed": true
   },
   "outputs": [],
   "source": [
    "# ridge = RidgeCV(alphas = [0.01, 0.05, 0.1, 0.3, 0.6, 1, 3, 5, 10, 30, 60, 100], cv=10)\n",
    "\n",
    "# ridge.fit(X_train[:5000], Y_train[:5000])\n",
    "# alpha = ridge.alpha_\n",
    "# print(\"Best alpha :\", alpha)\n",
    "\n",
    "# print(\"Ridge RMSE on Training set :\", rmse_cv_train(ridge))\n",
    "# print(\"Ridge RMSE on Test set :\", rmse_cv_test(ridge))"
   ]
  },
  {
   "cell_type": "markdown",
   "metadata": {},
   "source": [
    "## Lasso Regression"
   ]
  },
  {
   "cell_type": "code",
   "execution_count": 77,
   "metadata": {
    "collapsed": true
   },
   "outputs": [],
   "source": [
    "# lasso = LassoCV(alphas = [1e-4, 5e-4, 1e-3, 5e-3, 0.0001, 0.0005, 0.001, 0.005, 0.01, 0.05, 0.1, \n",
    "#                           0.3, 0.6, 1], \n",
    "#                 max_iter = 50000, cv = 10)\n",
    "# lasso.fit(X_train[:5000], Y_train[:5000])\n",
    "# alpha = lasso.alpha_\n",
    "# print(\"Best alpha :\", alpha)\n",
    "\n",
    "# print(\"Lasso RMSE on Training set :\", rmse_cv_train(lasso))\n",
    "# print(\"Lasso RMSE on Test set :\", rmse_cv_test(lasso))"
   ]
  },
  {
   "cell_type": "markdown",
   "metadata": {
    "collapsed": true
   },
   "source": [
    "## Support Vector Regression"
   ]
  },
  {
   "cell_type": "code",
   "execution_count": 78,
   "metadata": {
    "collapsed": true
   },
   "outputs": [],
   "source": [
    "# from sklearn.svm import SVR"
   ]
  },
  {
   "cell_type": "code",
   "execution_count": 79,
   "metadata": {
    "collapsed": true
   },
   "outputs": [],
   "source": [
    "# svr_rbf = SVR(kernel='rbf', gamma=0.1)\n",
    "# svr_lin = SVR(kernel='linear')\n",
    "# svr_poly = SVR(kernel='poly',degree=2)\n",
    "\n",
    "# # C=1e3"
   ]
  },
  {
   "cell_type": "code",
   "execution_count": 80,
   "metadata": {
    "collapsed": true
   },
   "outputs": [],
   "source": [
    "# svr_lin.fit(X_train, Y_train)\n",
    "# print(\"Lasso RMSE on Training set :\", rmse_cv_train(svr_lin))\n",
    "# print(\"Lasso RMSE on Test set :\", rmse_cv_test(svr_lin))"
   ]
  },
  {
   "cell_type": "markdown",
   "metadata": {
    "collapsed": true
   },
   "source": [
    "## Random Forest Regressor"
   ]
  },
  {
   "cell_type": "code",
   "execution_count": 81,
   "metadata": {
    "collapsed": true
   },
   "outputs": [],
   "source": [
    "# random_forest = RandomForestRegressor(n_estimators=100, n_jobs=-1)\n",
    "# random_forest.fit(X_train, Y_train)\n",
    "\n",
    "# print(\"RandomForestRegressor RMSE on Training set :\", rmse_cv_train(random_forest))\n",
    "# print(\"RandomForestRegressor RMSE on Test set :\", rmse_cv_test(random_forest))"
   ]
  },
  {
   "cell_type": "markdown",
   "metadata": {},
   "source": [
    "# Predicting Purchase Amount for Test Data"
   ]
  },
  {
   "cell_type": "code",
   "execution_count": 117,
   "metadata": {
    "collapsed": true
   },
   "outputs": [],
   "source": [
    "test = pd.read_csv('purchase_test.csv')"
   ]
  },
  {
   "cell_type": "markdown",
   "metadata": {},
   "source": [
    "## Filling in missing values"
   ]
  },
  {
   "cell_type": "code",
   "execution_count": 118,
   "metadata": {},
   "outputs": [
    {
     "name": "stdout",
     "output_type": "stream",
     "text": [
      "<class 'pandas.core.frame.DataFrame'>\n",
      "RangeIndex: 233599 entries, 0 to 233598\n",
      "Data columns (total 11 columns):\n",
      "User_ID                       233599 non-null int64\n",
      "Product_ID                    233599 non-null object\n",
      "Gender                        233599 non-null object\n",
      "Age                           233599 non-null object\n",
      "Occupation                    233599 non-null int64\n",
      "City_Category                 233599 non-null object\n",
      "Stay_In_Current_City_Years    233599 non-null object\n",
      "Marital_Status                233599 non-null int64\n",
      "Product_Category_1            233599 non-null int64\n",
      "Product_Category_2            161255 non-null float64\n",
      "Product_Category_3            71037 non-null float64\n",
      "dtypes: float64(2), int64(4), object(5)\n",
      "memory usage: 19.6+ MB\n"
     ]
    }
   ],
   "source": [
    "test.info()"
   ]
  },
  {
   "cell_type": "code",
   "execution_count": 119,
   "metadata": {
    "collapsed": true
   },
   "outputs": [],
   "source": [
    "test['Product_Category_2']=\\\n",
    "test.groupby(['Product_ID'])['Product_Category_2'].ffill().bfill()\n",
    "\n",
    "test['Product_Category_3']=\\\n",
    "test.groupby(['Product_ID'])['Product_Category_3'].ffill().bfill()"
   ]
  },
  {
   "cell_type": "code",
   "execution_count": 120,
   "metadata": {
    "collapsed": true
   },
   "outputs": [],
   "source": [
    "test.fillna(0, inplace=True)"
   ]
  },
  {
   "cell_type": "code",
   "execution_count": 121,
   "metadata": {},
   "outputs": [
    {
     "name": "stdout",
     "output_type": "stream",
     "text": [
      "<class 'pandas.core.frame.DataFrame'>\n",
      "RangeIndex: 233599 entries, 0 to 233598\n",
      "Data columns (total 11 columns):\n",
      "User_ID                       233599 non-null int64\n",
      "Product_ID                    233599 non-null object\n",
      "Gender                        233599 non-null object\n",
      "Age                           233599 non-null object\n",
      "Occupation                    233599 non-null int64\n",
      "City_Category                 233599 non-null object\n",
      "Stay_In_Current_City_Years    233599 non-null object\n",
      "Marital_Status                233599 non-null int64\n",
      "Product_Category_1            233599 non-null int64\n",
      "Product_Category_2            233599 non-null float64\n",
      "Product_Category_3            233599 non-null float64\n",
      "dtypes: float64(2), int64(4), object(5)\n",
      "memory usage: 19.6+ MB\n"
     ]
    }
   ],
   "source": [
    "# No more missing values :D\n",
    "test.info()"
   ]
  },
  {
   "cell_type": "markdown",
   "metadata": {},
   "source": [
    "## Feature Representation"
   ]
  },
  {
   "cell_type": "code",
   "execution_count": 122,
   "metadata": {
    "collapsed": true
   },
   "outputs": [],
   "source": [
    "test['Age'] = test['Age'].replace({'26-35':30, '36-45':40, '18-25':21,\n",
    "                                         '46-50':48, '51-55':53, '55+':55, '0-17':10})"
   ]
  },
  {
   "cell_type": "code",
   "execution_count": 123,
   "metadata": {
    "collapsed": true
   },
   "outputs": [],
   "source": [
    "test['Stay_In_Current_City_Years'] = test['Stay_In_Current_City_Years'].replace({'4+':4})"
   ]
  },
  {
   "cell_type": "markdown",
   "metadata": {},
   "source": [
    "## Creating New Features"
   ]
  },
  {
   "cell_type": "code",
   "execution_count": 124,
   "metadata": {
    "collapsed": true
   },
   "outputs": [],
   "source": [
    "# changing float or integer values in product category 1 & 2 & 3 into string so that I can combine three columns into one combined category\n",
    "\n",
    "test['Product_Category_1'] = test['Product_Category_1'].astype('str')\n",
    "test['Product_Category_2'] = test['Product_Category_2'].astype('str')\n",
    "test['Product_Category_3'] = test['Product_Category_3'].astype('str')"
   ]
  },
  {
   "cell_type": "code",
   "execution_count": 125,
   "metadata": {
    "collapsed": true
   },
   "outputs": [],
   "source": [
    "test['Product_Category_Combined']=\\\n",
    "test['Product_Category_1'] + '_' + test['Product_Category_2'] + '_' + test['Product_Category_3']"
   ]
  },
  {
   "cell_type": "markdown",
   "metadata": {},
   "source": [
    "## Encoding some categorical Features and Creating Additional Features"
   ]
  },
  {
   "cell_type": "code",
   "execution_count": 126,
   "metadata": {
    "collapsed": true
   },
   "outputs": [],
   "source": [
    "test.loc[:,'Stay_In_Current_City_Years'] = test.loc[:,'Stay_In_Current_City_Years'].astype('int64')"
   ]
  },
  {
   "cell_type": "code",
   "execution_count": 127,
   "metadata": {
    "collapsed": true
   },
   "outputs": [],
   "source": [
    "test.loc[:,'Marital_Status'] = test.loc[:,'Marital_Status'].astype('str')"
   ]
  },
  {
   "cell_type": "code",
   "execution_count": 128,
   "metadata": {},
   "outputs": [
    {
     "data": {
      "text/plain": [
       "array(['Age', 'Stay_In_Current_City_Years', 'Product_Category_1',\n",
       "       'Product_Category_2', 'Product_Category_3', 'Purchase',\n",
       "       'Product_Category_Combined_num', 'Product_Category_cat1_num',\n",
       "       'City_Category_A', 'City_Category_B', 'City_Category_C', 'Gender_F',\n",
       "       'Gender_M', 'Occupation_0', 'Occupation_1', 'Occupation_2',\n",
       "       'Occupation_3', 'Occupation_4', 'Occupation_5', 'Occupation_6',\n",
       "       'Occupation_7', 'Occupation_8', 'Occupation_9', 'Occupation_10',\n",
       "       'Occupation_11', 'Occupation_12', 'Occupation_13', 'Occupation_14',\n",
       "       'Occupation_15', 'Occupation_16', 'Occupation_17', 'Occupation_18',\n",
       "       'Occupation_19', 'Occupation_20', 'Marital_Status_0',\n",
       "       'Marital_Status_1', 'Product_Category_Combined_num_2',\n",
       "       'Product_Category_Combined_num_3',\n",
       "       'Product_Category_Combined_num_sqrt', 'Product_Category_cat1_num_2'], dtype=object)"
      ]
     },
     "execution_count": 128,
     "metadata": {},
     "output_type": "execute_result"
    }
   ],
   "source": [
    "train.columns.values"
   ]
  },
  {
   "cell_type": "code",
   "execution_count": 129,
   "metadata": {
    "collapsed": true
   },
   "outputs": [],
   "source": [
    "train_map = train.loc[:,['Product_Category_1','Product_Category_Combined_num','Product_Category_cat1_num']]"
   ]
  },
  {
   "cell_type": "code",
   "execution_count": 130,
   "metadata": {
    "collapsed": true,
    "scrolled": true
   },
   "outputs": [],
   "source": [
    "train_map = train_map.reset_index()"
   ]
  },
  {
   "cell_type": "code",
   "execution_count": 131,
   "metadata": {
    "collapsed": true
   },
   "outputs": [],
   "source": [
    "train_map = train_map.drop(labels=['User_ID','Product_ID'], axis=1)"
   ]
  },
  {
   "cell_type": "code",
   "execution_count": 132,
   "metadata": {
    "scrolled": true
   },
   "outputs": [
    {
     "data": {
      "text/html": [
       "<div>\n",
       "<style>\n",
       "    .dataframe thead tr:only-child th {\n",
       "        text-align: right;\n",
       "    }\n",
       "\n",
       "    .dataframe thead th {\n",
       "        text-align: left;\n",
       "    }\n",
       "\n",
       "    .dataframe tbody tr th {\n",
       "        vertical-align: top;\n",
       "    }\n",
       "</style>\n",
       "<table border=\"1\" class=\"dataframe\">\n",
       "  <thead>\n",
       "    <tr style=\"text-align: right;\">\n",
       "      <th></th>\n",
       "      <th>Product_Category_Combined</th>\n",
       "      <th>Product_Category_1</th>\n",
       "      <th>Product_Category_Combined_num</th>\n",
       "      <th>Product_Category_cat1_num</th>\n",
       "    </tr>\n",
       "  </thead>\n",
       "  <tbody>\n",
       "    <tr>\n",
       "      <th>0</th>\n",
       "      <td>3_6.0_14.0</td>\n",
       "      <td>3</td>\n",
       "      <td>8370.000000</td>\n",
       "      <td>10742.0</td>\n",
       "    </tr>\n",
       "    <tr>\n",
       "      <th>1</th>\n",
       "      <td>1_6.0_14.0</td>\n",
       "      <td>1</td>\n",
       "      <td>15010.020147</td>\n",
       "      <td>15245.0</td>\n",
       "    </tr>\n",
       "    <tr>\n",
       "      <th>2</th>\n",
       "      <td>12_14.0_17.0</td>\n",
       "      <td>12</td>\n",
       "      <td>1336.708625</td>\n",
       "      <td>1401.0</td>\n",
       "    </tr>\n",
       "    <tr>\n",
       "      <th>3</th>\n",
       "      <td>12_14.0_17.0</td>\n",
       "      <td>12</td>\n",
       "      <td>1336.708625</td>\n",
       "      <td>1401.0</td>\n",
       "    </tr>\n",
       "    <tr>\n",
       "      <th>4</th>\n",
       "      <td>8_2.0_17.0</td>\n",
       "      <td>8</td>\n",
       "      <td>7268.254545</td>\n",
       "      <td>7905.0</td>\n",
       "    </tr>\n",
       "  </tbody>\n",
       "</table>\n",
       "</div>"
      ],
      "text/plain": [
       "  Product_Category_Combined Product_Category_1  Product_Category_Combined_num  \\\n",
       "0                3_6.0_14.0                  3                    8370.000000   \n",
       "1                1_6.0_14.0                  1                   15010.020147   \n",
       "2              12_14.0_17.0                 12                    1336.708625   \n",
       "3              12_14.0_17.0                 12                    1336.708625   \n",
       "4                8_2.0_17.0                  8                    7268.254545   \n",
       "\n",
       "   Product_Category_cat1_num  \n",
       "0                    10742.0  \n",
       "1                    15245.0  \n",
       "2                     1401.0  \n",
       "3                     1401.0  \n",
       "4                     7905.0  "
      ]
     },
     "execution_count": 132,
     "metadata": {},
     "output_type": "execute_result"
    }
   ],
   "source": [
    "train_map.head()"
   ]
  },
  {
   "cell_type": "code",
   "execution_count": 133,
   "metadata": {},
   "outputs": [],
   "source": [
    "train_map_cat_comb = dict(zip(train_map['Product_Category_Combined'].values, train_map['Product_Category_Combined_num'].values))"
   ]
  },
  {
   "cell_type": "code",
   "execution_count": 134,
   "metadata": {
    "collapsed": true
   },
   "outputs": [],
   "source": [
    "test['Product_Category_Combined_num'] = test['Product_Category_Combined']"
   ]
  },
  {
   "cell_type": "code",
   "execution_count": 135,
   "metadata": {
    "collapsed": true
   },
   "outputs": [],
   "source": [
    "test['Product_Category_Combined_num'] = test['Product_Category_Combined_num'].map(train_map_cat_comb)"
   ]
  },
  {
   "cell_type": "code",
   "execution_count": 136,
   "metadata": {
    "collapsed": true
   },
   "outputs": [],
   "source": [
    "train_map_cat1 = dict(zip(train_map['Product_Category_1'].values, train_map['Product_Category_cat1_num'].values))"
   ]
  },
  {
   "cell_type": "code",
   "execution_count": 137,
   "metadata": {
    "collapsed": true
   },
   "outputs": [],
   "source": [
    "test['Product_Category_cat1_num'] = test['Product_Category_1']"
   ]
  },
  {
   "cell_type": "code",
   "execution_count": 138,
   "metadata": {
    "collapsed": true
   },
   "outputs": [],
   "source": [
    "test['Product_Category_cat1_num'] = test['Product_Category_cat1_num'].map(train_map_cat1)"
   ]
  },
  {
   "cell_type": "code",
   "execution_count": 139,
   "metadata": {},
   "outputs": [],
   "source": [
    "# filling in still missing values with mean of that column\n",
    "test['Product_Category_Combined_num'].fillna(test['Product_Category_Combined_num'].mean(), inplace=True)"
   ]
  },
  {
   "cell_type": "code",
   "execution_count": 140,
   "metadata": {},
   "outputs": [],
   "source": [
    "test = test.drop(labels=['Product_Category_1','Product_Category_2','Product_Category_3'],axis=1)"
   ]
  },
  {
   "cell_type": "code",
   "execution_count": 141,
   "metadata": {},
   "outputs": [],
   "source": [
    "test = pd.get_dummies(test, columns=['City_Category', 'Gender', 'Occupation', 'Marital_Status'])"
   ]
  },
  {
   "cell_type": "code",
   "execution_count": 142,
   "metadata": {
    "scrolled": true
   },
   "outputs": [
    {
     "name": "stdout",
     "output_type": "stream",
     "text": [
      "<class 'pandas.core.frame.DataFrame'>\n",
      "RangeIndex: 233599 entries, 0 to 233598\n",
      "Data columns (total 35 columns):\n",
      "User_ID                          233599 non-null int64\n",
      "Product_ID                       233599 non-null object\n",
      "Age                              233599 non-null int64\n",
      "Stay_In_Current_City_Years       233599 non-null int64\n",
      "Product_Category_Combined        233599 non-null object\n",
      "Product_Category_Combined_num    233599 non-null float64\n",
      "Product_Category_cat1_num        233599 non-null float64\n",
      "City_Category_A                  233599 non-null uint8\n",
      "City_Category_B                  233599 non-null uint8\n",
      "City_Category_C                  233599 non-null uint8\n",
      "Gender_F                         233599 non-null uint8\n",
      "Gender_M                         233599 non-null uint8\n",
      "Occupation_0                     233599 non-null uint8\n",
      "Occupation_1                     233599 non-null uint8\n",
      "Occupation_2                     233599 non-null uint8\n",
      "Occupation_3                     233599 non-null uint8\n",
      "Occupation_4                     233599 non-null uint8\n",
      "Occupation_5                     233599 non-null uint8\n",
      "Occupation_6                     233599 non-null uint8\n",
      "Occupation_7                     233599 non-null uint8\n",
      "Occupation_8                     233599 non-null uint8\n",
      "Occupation_9                     233599 non-null uint8\n",
      "Occupation_10                    233599 non-null uint8\n",
      "Occupation_11                    233599 non-null uint8\n",
      "Occupation_12                    233599 non-null uint8\n",
      "Occupation_13                    233599 non-null uint8\n",
      "Occupation_14                    233599 non-null uint8\n",
      "Occupation_15                    233599 non-null uint8\n",
      "Occupation_16                    233599 non-null uint8\n",
      "Occupation_17                    233599 non-null uint8\n",
      "Occupation_18                    233599 non-null uint8\n",
      "Occupation_19                    233599 non-null uint8\n",
      "Occupation_20                    233599 non-null uint8\n",
      "Marital_Status_0                 233599 non-null uint8\n",
      "Marital_Status_1                 233599 non-null uint8\n",
      "dtypes: float64(2), int64(3), object(2), uint8(28)\n",
      "memory usage: 18.7+ MB\n"
     ]
    }
   ],
   "source": [
    "test.info()"
   ]
  },
  {
   "cell_type": "markdown",
   "metadata": {},
   "source": [
    "## Creating additonal new features"
   ]
  },
  {
   "cell_type": "code",
   "execution_count": 143,
   "metadata": {
    "collapsed": true
   },
   "outputs": [],
   "source": [
    "test['Product_Category_Combined_num_2'] = (test['Product_Category_Combined_num'])**2\n",
    "test['Product_Category_Combined_num_3'] = (test['Product_Category_Combined_num'])**3\n",
    "test['Product_Category_Combined_num_sqrt'] = np.sqrt(test['Product_Category_Combined_num'])\n",
    "test['Product_Category_cat1_num_2'] = (test['Product_Category_cat1_num'])**2"
   ]
  },
  {
   "cell_type": "markdown",
   "metadata": {},
   "source": [
    "## Checking Skewness of nominal features and target label"
   ]
  },
  {
   "cell_type": "code",
   "execution_count": 144,
   "metadata": {},
   "outputs": [
    {
     "data": {
      "text/plain": [
       "Product_Category_Combined_num         0.332019\n",
       "Product_Category_Combined_num_2       0.926837\n",
       "Product_Category_Combined_num_3       1.576089\n",
       "Product_Category_Combined_num_sqrt   -0.222307\n",
       "Product_Category_cat1_num             0.153688\n",
       "Product_Category_cat1_num_2           0.527026\n",
       "dtype: float64"
      ]
     },
     "execution_count": 144,
     "metadata": {},
     "output_type": "execute_result"
    }
   ],
   "source": [
    "# Measuring Skewness of features\n",
    "numerical_features = ['Product_Category_Combined_num', 'Product_Category_Combined_num_2',\n",
    "                      'Product_Category_Combined_num_3','Product_Category_Combined_num_sqrt',\n",
    "                     'Product_Category_cat1_num', 'Product_Category_cat1_num_2']\n",
    "\n",
    "test[numerical_features].apply(lambda x: skew(x))"
   ]
  },
  {
   "cell_type": "code",
   "execution_count": 145,
   "metadata": {
    "collapsed": true
   },
   "outputs": [],
   "source": [
    "# sqrt transformation to fix skewness\n",
    "\n",
    "test.loc[:, ['Product_Category_Combined_num_2','Product_Category_Combined_num_3', 'Product_Category_cat1_num_2']] =\\\n",
    "np.sqrt(test.loc[:, ['Product_Category_Combined_num_2','Product_Category_Combined_num_3','Product_Category_cat1_num_2']])"
   ]
  },
  {
   "cell_type": "code",
   "execution_count": 146,
   "metadata": {
    "scrolled": true
   },
   "outputs": [
    {
     "data": {
      "text/plain": [
       "Product_Category_Combined_num         0.332019\n",
       "Product_Category_Combined_num_2       0.332019\n",
       "Product_Category_Combined_num_3       0.655192\n",
       "Product_Category_Combined_num_sqrt   -0.222307\n",
       "Product_Category_cat1_num             0.153688\n",
       "Product_Category_cat1_num_2           0.153688\n",
       "dtype: float64"
      ]
     },
     "execution_count": 146,
     "metadata": {},
     "output_type": "execute_result"
    }
   ],
   "source": [
    "# checking skewness again\n",
    "\n",
    "test[numerical_features].apply(lambda x: skew(x))"
   ]
  },
  {
   "cell_type": "markdown",
   "metadata": {},
   "source": [
    "## Standardizing Numerical Features"
   ]
  },
  {
   "cell_type": "code",
   "execution_count": 147,
   "metadata": {
    "scrolled": true
   },
   "outputs": [],
   "source": [
    "test.set_index(['User_ID','Product_ID','Product_Category_Combined'],inplace=True)"
   ]
  },
  {
   "cell_type": "code",
   "execution_count": 148,
   "metadata": {
    "scrolled": true
   },
   "outputs": [
    {
     "name": "stderr",
     "output_type": "stream",
     "text": [
      "C:\\Users\\Seungjun\\Anaconda3\\lib\\site-packages\\ipykernel\\kernelbase.py:399: PerformanceWarning: indexing past lexsort depth may impact performance.\n",
      "  user_expressions, allow_stdin)\n"
     ]
    }
   ],
   "source": [
    "# Standardize test data's numerical features\n",
    "\n",
    "stdSc = StandardScaler()\n",
    "\n",
    "test.loc[:,numerical_features] = stdSc.fit_transform(test.loc[:,numerical_features])\n",
    "test.loc[:,numerical_features] = stdSc.fit_transform(test.loc[:,numerical_features])"
   ]
  },
  {
   "cell_type": "code",
   "execution_count": 149,
   "metadata": {
    "scrolled": true
   },
   "outputs": [
    {
     "name": "stdout",
     "output_type": "stream",
     "text": [
      "<class 'pandas.core.frame.DataFrame'>\n",
      "MultiIndex: 233599 entries, (1000004, P00128942, 1_11.0_12.0) to (1006039, P00316642, 4_5.0_0.0)\n",
      "Data columns (total 36 columns):\n",
      "Age                                   233599 non-null int64\n",
      "Stay_In_Current_City_Years            233599 non-null int64\n",
      "Product_Category_Combined_num         233599 non-null float64\n",
      "Product_Category_cat1_num             233599 non-null float64\n",
      "City_Category_A                       233599 non-null uint8\n",
      "City_Category_B                       233599 non-null uint8\n",
      "City_Category_C                       233599 non-null uint8\n",
      "Gender_F                              233599 non-null uint8\n",
      "Gender_M                              233599 non-null uint8\n",
      "Occupation_0                          233599 non-null uint8\n",
      "Occupation_1                          233599 non-null uint8\n",
      "Occupation_2                          233599 non-null uint8\n",
      "Occupation_3                          233599 non-null uint8\n",
      "Occupation_4                          233599 non-null uint8\n",
      "Occupation_5                          233599 non-null uint8\n",
      "Occupation_6                          233599 non-null uint8\n",
      "Occupation_7                          233599 non-null uint8\n",
      "Occupation_8                          233599 non-null uint8\n",
      "Occupation_9                          233599 non-null uint8\n",
      "Occupation_10                         233599 non-null uint8\n",
      "Occupation_11                         233599 non-null uint8\n",
      "Occupation_12                         233599 non-null uint8\n",
      "Occupation_13                         233599 non-null uint8\n",
      "Occupation_14                         233599 non-null uint8\n",
      "Occupation_15                         233599 non-null uint8\n",
      "Occupation_16                         233599 non-null uint8\n",
      "Occupation_17                         233599 non-null uint8\n",
      "Occupation_18                         233599 non-null uint8\n",
      "Occupation_19                         233599 non-null uint8\n",
      "Occupation_20                         233599 non-null uint8\n",
      "Marital_Status_0                      233599 non-null uint8\n",
      "Marital_Status_1                      233599 non-null uint8\n",
      "Product_Category_Combined_num_2       233599 non-null float64\n",
      "Product_Category_Combined_num_3       233599 non-null float64\n",
      "Product_Category_Combined_num_sqrt    233599 non-null float64\n",
      "Product_Category_cat1_num_2           233599 non-null float64\n",
      "dtypes: float64(6), int64(2), uint8(28)\n",
      "memory usage: 21.9+ MB\n"
     ]
    }
   ],
   "source": [
    "test.info()"
   ]
  },
  {
   "cell_type": "markdown",
   "metadata": {},
   "source": [
    "## Making final Prediction File"
   ]
  },
  {
   "cell_type": "code",
   "execution_count": 150,
   "metadata": {},
   "outputs": [],
   "source": [
    "test['Purchase'] = (lr_model.predict(test))**2"
   ]
  },
  {
   "cell_type": "code",
   "execution_count": 151,
   "metadata": {},
   "outputs": [
    {
     "data": {
      "text/html": [
       "<div>\n",
       "<style>\n",
       "    .dataframe thead tr:only-child th {\n",
       "        text-align: right;\n",
       "    }\n",
       "\n",
       "    .dataframe thead th {\n",
       "        text-align: left;\n",
       "    }\n",
       "\n",
       "    .dataframe tbody tr th {\n",
       "        vertical-align: top;\n",
       "    }\n",
       "</style>\n",
       "<table border=\"1\" class=\"dataframe\">\n",
       "  <thead>\n",
       "    <tr style=\"text-align: right;\">\n",
       "      <th></th>\n",
       "      <th></th>\n",
       "      <th></th>\n",
       "      <th>Age</th>\n",
       "      <th>Stay_In_Current_City_Years</th>\n",
       "      <th>Product_Category_Combined_num</th>\n",
       "      <th>Product_Category_cat1_num</th>\n",
       "      <th>City_Category_A</th>\n",
       "      <th>City_Category_B</th>\n",
       "      <th>City_Category_C</th>\n",
       "      <th>Gender_F</th>\n",
       "      <th>Gender_M</th>\n",
       "      <th>Occupation_0</th>\n",
       "      <th>...</th>\n",
       "      <th>Occupation_18</th>\n",
       "      <th>Occupation_19</th>\n",
       "      <th>Occupation_20</th>\n",
       "      <th>Marital_Status_0</th>\n",
       "      <th>Marital_Status_1</th>\n",
       "      <th>Product_Category_Combined_num_2</th>\n",
       "      <th>Product_Category_Combined_num_3</th>\n",
       "      <th>Product_Category_Combined_num_sqrt</th>\n",
       "      <th>Product_Category_cat1_num_2</th>\n",
       "      <th>Purchase</th>\n",
       "    </tr>\n",
       "    <tr>\n",
       "      <th>User_ID</th>\n",
       "      <th>Product_ID</th>\n",
       "      <th>Product_Category_Combined</th>\n",
       "      <th></th>\n",
       "      <th></th>\n",
       "      <th></th>\n",
       "      <th></th>\n",
       "      <th></th>\n",
       "      <th></th>\n",
       "      <th></th>\n",
       "      <th></th>\n",
       "      <th></th>\n",
       "      <th></th>\n",
       "      <th></th>\n",
       "      <th></th>\n",
       "      <th></th>\n",
       "      <th></th>\n",
       "      <th></th>\n",
       "      <th></th>\n",
       "      <th></th>\n",
       "      <th></th>\n",
       "      <th></th>\n",
       "      <th></th>\n",
       "      <th></th>\n",
       "    </tr>\n",
       "  </thead>\n",
       "  <tbody>\n",
       "    <tr>\n",
       "      <th>1000004</th>\n",
       "      <th>P00128942</th>\n",
       "      <th>1_11.0_12.0</th>\n",
       "      <td>48</td>\n",
       "      <td>2</td>\n",
       "      <td>1.210812</td>\n",
       "      <td>1.155409</td>\n",
       "      <td>0</td>\n",
       "      <td>1</td>\n",
       "      <td>0</td>\n",
       "      <td>0</td>\n",
       "      <td>1</td>\n",
       "      <td>0</td>\n",
       "      <td>...</td>\n",
       "      <td>0</td>\n",
       "      <td>0</td>\n",
       "      <td>0</td>\n",
       "      <td>0</td>\n",
       "      <td>1</td>\n",
       "      <td>1.210812</td>\n",
       "      <td>1.218517</td>\n",
       "      <td>1.156519</td>\n",
       "      <td>1.155409</td>\n",
       "      <td>14018.652500</td>\n",
       "    </tr>\n",
       "    <tr>\n",
       "      <th>1000009</th>\n",
       "      <th>P00113442</th>\n",
       "      <th>3_5.0_12.0</th>\n",
       "      <td>30</td>\n",
       "      <td>0</td>\n",
       "      <td>0.274521</td>\n",
       "      <td>0.126086</td>\n",
       "      <td>0</td>\n",
       "      <td>0</td>\n",
       "      <td>1</td>\n",
       "      <td>0</td>\n",
       "      <td>1</td>\n",
       "      <td>0</td>\n",
       "      <td>...</td>\n",
       "      <td>0</td>\n",
       "      <td>0</td>\n",
       "      <td>0</td>\n",
       "      <td>1</td>\n",
       "      <td>0</td>\n",
       "      <td>0.274521</td>\n",
       "      <td>0.170477</td>\n",
       "      <td>0.369770</td>\n",
       "      <td>0.126086</td>\n",
       "      <td>10505.048862</td>\n",
       "    </tr>\n",
       "    <tr>\n",
       "      <th rowspan=\"2\" valign=\"top\">1000010</th>\n",
       "      <th>P00288442</th>\n",
       "      <th>5_14.0_12.0</th>\n",
       "      <td>40</td>\n",
       "      <td>4</td>\n",
       "      <td>-0.786687</td>\n",
       "      <td>-0.749398</td>\n",
       "      <td>0</td>\n",
       "      <td>1</td>\n",
       "      <td>0</td>\n",
       "      <td>1</td>\n",
       "      <td>0</td>\n",
       "      <td>0</td>\n",
       "      <td>...</td>\n",
       "      <td>0</td>\n",
       "      <td>0</td>\n",
       "      <td>0</td>\n",
       "      <td>0</td>\n",
       "      <td>1</td>\n",
       "      <td>-0.786687</td>\n",
       "      <td>-0.803592</td>\n",
       "      <td>-0.721666</td>\n",
       "      <td>-0.749398</td>\n",
       "      <td>5692.437249</td>\n",
       "    </tr>\n",
       "    <tr>\n",
       "      <th>P00145342</th>\n",
       "      <th>4_9.0_12.0</th>\n",
       "      <td>40</td>\n",
       "      <td>4</td>\n",
       "      <td>-1.796297</td>\n",
       "      <td>-1.832210</td>\n",
       "      <td>0</td>\n",
       "      <td>1</td>\n",
       "      <td>0</td>\n",
       "      <td>1</td>\n",
       "      <td>0</td>\n",
       "      <td>0</td>\n",
       "      <td>...</td>\n",
       "      <td>0</td>\n",
       "      <td>0</td>\n",
       "      <td>0</td>\n",
       "      <td>0</td>\n",
       "      <td>1</td>\n",
       "      <td>-1.796297</td>\n",
       "      <td>-1.454216</td>\n",
       "      <td>-2.225416</td>\n",
       "      <td>-1.832210</td>\n",
       "      <td>1742.573277</td>\n",
       "    </tr>\n",
       "    <tr>\n",
       "      <th>1000011</th>\n",
       "      <th>P00053842</th>\n",
       "      <th>4_5.0_12.0</th>\n",
       "      <td>30</td>\n",
       "      <td>1</td>\n",
       "      <td>-1.696050</td>\n",
       "      <td>-1.832210</td>\n",
       "      <td>0</td>\n",
       "      <td>0</td>\n",
       "      <td>1</td>\n",
       "      <td>1</td>\n",
       "      <td>0</td>\n",
       "      <td>0</td>\n",
       "      <td>...</td>\n",
       "      <td>0</td>\n",
       "      <td>0</td>\n",
       "      <td>0</td>\n",
       "      <td>1</td>\n",
       "      <td>0</td>\n",
       "      <td>-1.696050</td>\n",
       "      <td>-1.405305</td>\n",
       "      <td>-2.032415</td>\n",
       "      <td>-1.832210</td>\n",
       "      <td>2276.892704</td>\n",
       "    </tr>\n",
       "  </tbody>\n",
       "</table>\n",
       "<p>5 rows × 37 columns</p>\n",
       "</div>"
      ],
      "text/plain": [
       "                                              Age  Stay_In_Current_City_Years  \\\n",
       "User_ID Product_ID Product_Category_Combined                                    \n",
       "1000004 P00128942  1_11.0_12.0                 48                           2   \n",
       "1000009 P00113442  3_5.0_12.0                  30                           0   \n",
       "1000010 P00288442  5_14.0_12.0                 40                           4   \n",
       "        P00145342  4_9.0_12.0                  40                           4   \n",
       "1000011 P00053842  4_5.0_12.0                  30                           1   \n",
       "\n",
       "                                              Product_Category_Combined_num  \\\n",
       "User_ID Product_ID Product_Category_Combined                                  \n",
       "1000004 P00128942  1_11.0_12.0                                     1.210812   \n",
       "1000009 P00113442  3_5.0_12.0                                      0.274521   \n",
       "1000010 P00288442  5_14.0_12.0                                    -0.786687   \n",
       "        P00145342  4_9.0_12.0                                     -1.796297   \n",
       "1000011 P00053842  4_5.0_12.0                                     -1.696050   \n",
       "\n",
       "                                              Product_Category_cat1_num  \\\n",
       "User_ID Product_ID Product_Category_Combined                              \n",
       "1000004 P00128942  1_11.0_12.0                                 1.155409   \n",
       "1000009 P00113442  3_5.0_12.0                                  0.126086   \n",
       "1000010 P00288442  5_14.0_12.0                                -0.749398   \n",
       "        P00145342  4_9.0_12.0                                 -1.832210   \n",
       "1000011 P00053842  4_5.0_12.0                                 -1.832210   \n",
       "\n",
       "                                              City_Category_A  \\\n",
       "User_ID Product_ID Product_Category_Combined                    \n",
       "1000004 P00128942  1_11.0_12.0                              0   \n",
       "1000009 P00113442  3_5.0_12.0                               0   \n",
       "1000010 P00288442  5_14.0_12.0                              0   \n",
       "        P00145342  4_9.0_12.0                               0   \n",
       "1000011 P00053842  4_5.0_12.0                               0   \n",
       "\n",
       "                                              City_Category_B  \\\n",
       "User_ID Product_ID Product_Category_Combined                    \n",
       "1000004 P00128942  1_11.0_12.0                              1   \n",
       "1000009 P00113442  3_5.0_12.0                               0   \n",
       "1000010 P00288442  5_14.0_12.0                              1   \n",
       "        P00145342  4_9.0_12.0                               1   \n",
       "1000011 P00053842  4_5.0_12.0                               0   \n",
       "\n",
       "                                              City_Category_C  Gender_F  \\\n",
       "User_ID Product_ID Product_Category_Combined                              \n",
       "1000004 P00128942  1_11.0_12.0                              0         0   \n",
       "1000009 P00113442  3_5.0_12.0                               1         0   \n",
       "1000010 P00288442  5_14.0_12.0                              0         1   \n",
       "        P00145342  4_9.0_12.0                               0         1   \n",
       "1000011 P00053842  4_5.0_12.0                               1         1   \n",
       "\n",
       "                                              Gender_M  Occupation_0  \\\n",
       "User_ID Product_ID Product_Category_Combined                           \n",
       "1000004 P00128942  1_11.0_12.0                       1             0   \n",
       "1000009 P00113442  3_5.0_12.0                        1             0   \n",
       "1000010 P00288442  5_14.0_12.0                       0             0   \n",
       "        P00145342  4_9.0_12.0                        0             0   \n",
       "1000011 P00053842  4_5.0_12.0                        0             0   \n",
       "\n",
       "                                                  ...       Occupation_18  \\\n",
       "User_ID Product_ID Product_Category_Combined      ...                       \n",
       "1000004 P00128942  1_11.0_12.0                    ...                   0   \n",
       "1000009 P00113442  3_5.0_12.0                     ...                   0   \n",
       "1000010 P00288442  5_14.0_12.0                    ...                   0   \n",
       "        P00145342  4_9.0_12.0                     ...                   0   \n",
       "1000011 P00053842  4_5.0_12.0                     ...                   0   \n",
       "\n",
       "                                              Occupation_19  Occupation_20  \\\n",
       "User_ID Product_ID Product_Category_Combined                                 \n",
       "1000004 P00128942  1_11.0_12.0                            0              0   \n",
       "1000009 P00113442  3_5.0_12.0                             0              0   \n",
       "1000010 P00288442  5_14.0_12.0                            0              0   \n",
       "        P00145342  4_9.0_12.0                             0              0   \n",
       "1000011 P00053842  4_5.0_12.0                             0              0   \n",
       "\n",
       "                                              Marital_Status_0  \\\n",
       "User_ID Product_ID Product_Category_Combined                     \n",
       "1000004 P00128942  1_11.0_12.0                               0   \n",
       "1000009 P00113442  3_5.0_12.0                                1   \n",
       "1000010 P00288442  5_14.0_12.0                               0   \n",
       "        P00145342  4_9.0_12.0                                0   \n",
       "1000011 P00053842  4_5.0_12.0                                1   \n",
       "\n",
       "                                              Marital_Status_1  \\\n",
       "User_ID Product_ID Product_Category_Combined                     \n",
       "1000004 P00128942  1_11.0_12.0                               1   \n",
       "1000009 P00113442  3_5.0_12.0                                0   \n",
       "1000010 P00288442  5_14.0_12.0                               1   \n",
       "        P00145342  4_9.0_12.0                                1   \n",
       "1000011 P00053842  4_5.0_12.0                                0   \n",
       "\n",
       "                                              Product_Category_Combined_num_2  \\\n",
       "User_ID Product_ID Product_Category_Combined                                    \n",
       "1000004 P00128942  1_11.0_12.0                                       1.210812   \n",
       "1000009 P00113442  3_5.0_12.0                                        0.274521   \n",
       "1000010 P00288442  5_14.0_12.0                                      -0.786687   \n",
       "        P00145342  4_9.0_12.0                                       -1.796297   \n",
       "1000011 P00053842  4_5.0_12.0                                       -1.696050   \n",
       "\n",
       "                                              Product_Category_Combined_num_3  \\\n",
       "User_ID Product_ID Product_Category_Combined                                    \n",
       "1000004 P00128942  1_11.0_12.0                                       1.218517   \n",
       "1000009 P00113442  3_5.0_12.0                                        0.170477   \n",
       "1000010 P00288442  5_14.0_12.0                                      -0.803592   \n",
       "        P00145342  4_9.0_12.0                                       -1.454216   \n",
       "1000011 P00053842  4_5.0_12.0                                       -1.405305   \n",
       "\n",
       "                                              Product_Category_Combined_num_sqrt  \\\n",
       "User_ID Product_ID Product_Category_Combined                                       \n",
       "1000004 P00128942  1_11.0_12.0                                          1.156519   \n",
       "1000009 P00113442  3_5.0_12.0                                           0.369770   \n",
       "1000010 P00288442  5_14.0_12.0                                         -0.721666   \n",
       "        P00145342  4_9.0_12.0                                          -2.225416   \n",
       "1000011 P00053842  4_5.0_12.0                                          -2.032415   \n",
       "\n",
       "                                              Product_Category_cat1_num_2  \\\n",
       "User_ID Product_ID Product_Category_Combined                                \n",
       "1000004 P00128942  1_11.0_12.0                                   1.155409   \n",
       "1000009 P00113442  3_5.0_12.0                                    0.126086   \n",
       "1000010 P00288442  5_14.0_12.0                                  -0.749398   \n",
       "        P00145342  4_9.0_12.0                                   -1.832210   \n",
       "1000011 P00053842  4_5.0_12.0                                   -1.832210   \n",
       "\n",
       "                                                  Purchase  \n",
       "User_ID Product_ID Product_Category_Combined                \n",
       "1000004 P00128942  1_11.0_12.0                14018.652500  \n",
       "1000009 P00113442  3_5.0_12.0                 10505.048862  \n",
       "1000010 P00288442  5_14.0_12.0                 5692.437249  \n",
       "        P00145342  4_9.0_12.0                  1742.573277  \n",
       "1000011 P00053842  4_5.0_12.0                  2276.892704  \n",
       "\n",
       "[5 rows x 37 columns]"
      ]
     },
     "execution_count": 151,
     "metadata": {},
     "output_type": "execute_result"
    }
   ],
   "source": [
    "test.head()"
   ]
  },
  {
   "cell_type": "code",
   "execution_count": 152,
   "metadata": {},
   "outputs": [
    {
     "data": {
      "text/plain": [
       "9027.813724582798"
      ]
     },
     "execution_count": 152,
     "metadata": {},
     "output_type": "execute_result"
    }
   ],
   "source": [
    "test['Purchase'].mean()"
   ]
  },
  {
   "cell_type": "code",
   "execution_count": 153,
   "metadata": {
    "collapsed": true
   },
   "outputs": [],
   "source": [
    "test.reset_index(inplace=True)"
   ]
  },
  {
   "cell_type": "code",
   "execution_count": 154,
   "metadata": {
    "collapsed": true
   },
   "outputs": [],
   "source": [
    "final_test = test.loc[:,['User_ID','Product_ID','Purchase']]"
   ]
  },
  {
   "cell_type": "code",
   "execution_count": 156,
   "metadata": {},
   "outputs": [
    {
     "data": {
      "text/html": [
       "<div>\n",
       "<style>\n",
       "    .dataframe thead tr:only-child th {\n",
       "        text-align: right;\n",
       "    }\n",
       "\n",
       "    .dataframe thead th {\n",
       "        text-align: left;\n",
       "    }\n",
       "\n",
       "    .dataframe tbody tr th {\n",
       "        vertical-align: top;\n",
       "    }\n",
       "</style>\n",
       "<table border=\"1\" class=\"dataframe\">\n",
       "  <thead>\n",
       "    <tr style=\"text-align: right;\">\n",
       "      <th></th>\n",
       "      <th>User_ID</th>\n",
       "      <th>Product_ID</th>\n",
       "      <th>Purchase</th>\n",
       "    </tr>\n",
       "  </thead>\n",
       "  <tbody>\n",
       "    <tr>\n",
       "      <th>0</th>\n",
       "      <td>1000004</td>\n",
       "      <td>P00128942</td>\n",
       "      <td>14018.652500</td>\n",
       "    </tr>\n",
       "    <tr>\n",
       "      <th>1</th>\n",
       "      <td>1000009</td>\n",
       "      <td>P00113442</td>\n",
       "      <td>10505.048862</td>\n",
       "    </tr>\n",
       "    <tr>\n",
       "      <th>2</th>\n",
       "      <td>1000010</td>\n",
       "      <td>P00288442</td>\n",
       "      <td>5692.437249</td>\n",
       "    </tr>\n",
       "    <tr>\n",
       "      <th>3</th>\n",
       "      <td>1000010</td>\n",
       "      <td>P00145342</td>\n",
       "      <td>1742.573277</td>\n",
       "    </tr>\n",
       "    <tr>\n",
       "      <th>4</th>\n",
       "      <td>1000011</td>\n",
       "      <td>P00053842</td>\n",
       "      <td>2276.892704</td>\n",
       "    </tr>\n",
       "  </tbody>\n",
       "</table>\n",
       "</div>"
      ],
      "text/plain": [
       "   User_ID Product_ID      Purchase\n",
       "0  1000004  P00128942  14018.652500\n",
       "1  1000009  P00113442  10505.048862\n",
       "2  1000010  P00288442   5692.437249\n",
       "3  1000010  P00145342   1742.573277\n",
       "4  1000011  P00053842   2276.892704"
      ]
     },
     "execution_count": 156,
     "metadata": {},
     "output_type": "execute_result"
    }
   ],
   "source": [
    "final_test.head()"
   ]
  },
  {
   "cell_type": "code",
   "execution_count": 157,
   "metadata": {
    "collapsed": true
   },
   "outputs": [],
   "source": [
    "final_test.to_csv('Seungjun-Kim-Customer-Purchase-Amount-Prediction.csv',sep=',',index=False)"
   ]
  }
 ],
 "metadata": {
  "kernelspec": {
   "display_name": "Python 3",
   "language": "python",
   "name": "python3"
  },
  "language_info": {
   "codemirror_mode": {
    "name": "ipython",
    "version": 3
   },
   "file_extension": ".py",
   "mimetype": "text/x-python",
   "name": "python",
   "nbconvert_exporter": "python",
   "pygments_lexer": "ipython3",
   "version": "3.6.1"
  }
 },
 "nbformat": 4,
 "nbformat_minor": 2
}
